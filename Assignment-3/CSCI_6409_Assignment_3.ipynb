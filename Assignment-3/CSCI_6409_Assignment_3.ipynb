{
  "nbformat": 4,
  "nbformat_minor": 0,
  "metadata": {
    "colab": {
      "name": "CSCI_6409_Assignment_3.ipynb",
      "provenance": [],
      "collapsed_sections": []
    },
    "kernelspec": {
      "name": "python3",
      "display_name": "Python 3"
    },
    "language_info": {
      "name": "python"
    }
  },
  "cells": [
    {
      "cell_type": "markdown",
      "source": [
        "<h1><center>CSCI - 6409 - Process of Data Science - Summer 2022</h1></center>\n",
        "\n",
        "<h1><center>Assignment 3</h1></center>\n",
        "\n",
        "Benny Daniel Tharigopala -\n",
        "B00899629\n",
        "\n",
        "Karthik Kannan Nanthakumar - B00891387\n"
      ],
      "metadata": {
        "id": "rTX431sR41cI"
      }
    },
    {
      "cell_type": "markdown",
      "source": [
        "# **Import Files to Google Colab**\n",
        "\n",
        "\n"
      ],
      "metadata": {
        "id": "ItuC07gx04BR"
      }
    },
    {
      "cell_type": "code",
      "execution_count": null,
      "metadata": {
        "id": "qqvVSuU1ytTN"
      },
      "outputs": [],
      "source": [
        "from google.colab import files\n",
        "# uploaded = files.upload()\n",
        "# https://www.kaggle.com/datasets/parvezmrobin/amazon-book-review-1m-sample\n",
        "# https://medium.com/@qempsil0914/machine-learning-nlp-text-classification-with-amazon-review-data-using-python3-step-by-step-3fb0cc0cecc1\n",
        "# https://t-lanigan.github.io/amazon-review-classifier/\n",
        "\n",
        "# https://www.dataquest.io/blog/python-json-tutorial/"
      ]
    },
    {
      "cell_type": "markdown",
      "source": [
        "# Imports"
      ],
      "metadata": {
        "id": "zc9E_XJr2y_M"
      }
    },
    {
      "cell_type": "code",
      "source": [
        "import pandas as pd\n",
        "import io"
      ],
      "metadata": {
        "id": "0J5q_BSY1xfw"
      },
      "execution_count": null,
      "outputs": []
    },
    {
      "cell_type": "code",
      "source": [
        "from google.colab import drive\n",
        "drive.mount('/content/drive')\n"
      ],
      "metadata": {
        "id": "LUQTe2Hr02JA",
        "colab": {
          "base_uri": "https://localhost:8080/"
        },
        "outputId": "9aca2c6f-8af9-4778-8c03-738d29311bf7"
      },
      "execution_count": null,
      "outputs": [
        {
          "output_type": "stream",
          "name": "stdout",
          "text": [
            "Drive already mounted at /content/drive; to attempt to forcibly remount, call drive.mount(\"/content/drive\", force_remount=True).\n"
          ]
        }
      ]
    },
    {
      "cell_type": "code",
      "source": [
        "source_dataset = pd.read_json('/content/drive/MyDrive/Colab Notebooks/sample.jsonl', lines=True)"
      ],
      "metadata": {
        "id": "OG_yhgY4mx6H"
      },
      "execution_count": null,
      "outputs": []
    },
    {
      "cell_type": "markdown",
      "source": [
        "# Shape of the dataframe"
      ],
      "metadata": {
        "id": "umyjDMeC2utF"
      }
    },
    {
      "cell_type": "code",
      "source": [
        "print(source_dataset.shape)"
      ],
      "metadata": {
        "id": "kFiZYTiW2FBw",
        "colab": {
          "base_uri": "https://localhost:8080/"
        },
        "outputId": "94f33cc5-0865-4988-d371-2a06fb4bbfa7"
      },
      "execution_count": null,
      "outputs": [
        {
          "output_type": "stream",
          "name": "stdout",
          "text": [
            "(1000000, 12)\n"
          ]
        }
      ]
    },
    {
      "cell_type": "code",
      "source": [
        "source_dataset.head(10)"
      ],
      "metadata": {
        "id": "RIyWKeY33YAH",
        "colab": {
          "base_uri": "https://localhost:8080/",
          "height": 363
        },
        "outputId": "ada6dc03-edd2-44f8-f37f-2e43b1fc6ac6"
      },
      "execution_count": null,
      "outputs": [
        {
          "output_type": "execute_result",
          "data": {
            "text/plain": [
              "   overall vote  verified   reviewTime      reviewerID        asin  \\\n",
              "0        3    2     False  05 18, 2002   AJ8AQG2X9JJ2Y  0001712799   \n",
              "1        5  NaN      True  12 11, 2014  A12Q7B7NT716RV  0001712799   \n",
              "2        4    3     False   01 6, 2006  A1DK5AZMXS1QA3  0002006448   \n",
              "3        4  NaN     False   12 8, 2014  A1JMSX54DO3LOP  0002005263   \n",
              "4        2    2      True   03 3, 2014  A2IP27AZB3D1SM  0002005263   \n",
              "5        4    4     False  06 22, 2004  A2KSU7OOJ5C479  0002005263   \n",
              "6        5    2      True  01 21, 2004  A3FT7WR9YGU4RK  0002005263   \n",
              "7        1    9      True  06 10, 2003   AMFB2GBB2O84X  0002005263   \n",
              "8        5  NaN      True  12 18, 2017  A243JAEFC50KWI  0001384198   \n",
              "9        5  NaN      True   09 6, 2017  A25B7XXSTTN1IY  0001384198   \n",
              "\n",
              "                                      style       reviewerName  \\\n",
              "0  {'Format:': ' School & Library Binding'}     Donald Gillies   \n",
              "1                 {'Format:': ' Hardcover'}    True Value Girl   \n",
              "2                 {'Format:': ' Hardcover'}         Newton Ooi   \n",
              "3            {'Format:': ' Kindle Edition'}          Bookzilla   \n",
              "4            {'Format:': ' Kindle Edition'}     J. A. Drummond   \n",
              "5                 {'Format:': ' Hardcover'}  Loren D. Morrison   \n",
              "6                  {'Format:': ' Audio CD'}        Anne Melvin   \n",
              "7                 {'Format:': ' Hardcover'}           Brakaian   \n",
              "8                 {'Format:': ' Hardcover'}            dorothy   \n",
              "9                 {'Format:': ' Hardcover'}              Snake   \n",
              "\n",
              "                                          reviewText  \\\n",
              "0  Dr. Seuss has some really brilliant books.  Th...   \n",
              "1                                            Love it   \n",
              "2  Hand-woven carpets are one of the few products...   \n",
              "3  Compelling, twisting mystery involving several...   \n",
              "4  I have read many of the Hillerman books and en...   \n",
              "5  I, like many of the other reviewers here, am a...   \n",
              "6  I had the CD read by George\\nGuidall who does ...   \n",
              "7  I am a huge Tony Hillerman fan -- I've read ea...   \n",
              "8                          We all love the classics.   \n",
              "9                                          I love it   \n",
              "\n",
              "                                          summary  unixReviewTime image  \n",
              "0                  A below-average Dr. Seuss Book      1021680000   NaN  \n",
              "1                                      Five Stars      1418256000   NaN  \n",
              "2                              Tourism as history      1136505600   NaN  \n",
              "3                    Compelling, twisting mystery      1417996800   NaN  \n",
              "4                            Tony missed the mark      1393804800   NaN  \n",
              "5     A COMPLEX , SUSPENSEFUL PLOT, BUT . . . . .      1087862400   NaN  \n",
              "6                                 A good mystery.      1074643200   NaN  \n",
              "7  Easily Hillerman's worst -- very disappointing      1055203200   NaN  \n",
              "8                             Classics never die.      1513555200   NaN  \n",
              "9                                      Five Stars      1504656000   NaN  "
            ],
            "text/html": [
              "\n",
              "  <div id=\"df-1cc4c5bf-ebb2-41ef-aa3c-f06f8ecb9516\">\n",
              "    <div class=\"colab-df-container\">\n",
              "      <div>\n",
              "<style scoped>\n",
              "    .dataframe tbody tr th:only-of-type {\n",
              "        vertical-align: middle;\n",
              "    }\n",
              "\n",
              "    .dataframe tbody tr th {\n",
              "        vertical-align: top;\n",
              "    }\n",
              "\n",
              "    .dataframe thead th {\n",
              "        text-align: right;\n",
              "    }\n",
              "</style>\n",
              "<table border=\"1\" class=\"dataframe\">\n",
              "  <thead>\n",
              "    <tr style=\"text-align: right;\">\n",
              "      <th></th>\n",
              "      <th>overall</th>\n",
              "      <th>vote</th>\n",
              "      <th>verified</th>\n",
              "      <th>reviewTime</th>\n",
              "      <th>reviewerID</th>\n",
              "      <th>asin</th>\n",
              "      <th>style</th>\n",
              "      <th>reviewerName</th>\n",
              "      <th>reviewText</th>\n",
              "      <th>summary</th>\n",
              "      <th>unixReviewTime</th>\n",
              "      <th>image</th>\n",
              "    </tr>\n",
              "  </thead>\n",
              "  <tbody>\n",
              "    <tr>\n",
              "      <th>0</th>\n",
              "      <td>3</td>\n",
              "      <td>2</td>\n",
              "      <td>False</td>\n",
              "      <td>05 18, 2002</td>\n",
              "      <td>AJ8AQG2X9JJ2Y</td>\n",
              "      <td>0001712799</td>\n",
              "      <td>{'Format:': ' School &amp; Library Binding'}</td>\n",
              "      <td>Donald Gillies</td>\n",
              "      <td>Dr. Seuss has some really brilliant books.  Th...</td>\n",
              "      <td>A below-average Dr. Seuss Book</td>\n",
              "      <td>1021680000</td>\n",
              "      <td>NaN</td>\n",
              "    </tr>\n",
              "    <tr>\n",
              "      <th>1</th>\n",
              "      <td>5</td>\n",
              "      <td>NaN</td>\n",
              "      <td>True</td>\n",
              "      <td>12 11, 2014</td>\n",
              "      <td>A12Q7B7NT716RV</td>\n",
              "      <td>0001712799</td>\n",
              "      <td>{'Format:': ' Hardcover'}</td>\n",
              "      <td>True Value Girl</td>\n",
              "      <td>Love it</td>\n",
              "      <td>Five Stars</td>\n",
              "      <td>1418256000</td>\n",
              "      <td>NaN</td>\n",
              "    </tr>\n",
              "    <tr>\n",
              "      <th>2</th>\n",
              "      <td>4</td>\n",
              "      <td>3</td>\n",
              "      <td>False</td>\n",
              "      <td>01 6, 2006</td>\n",
              "      <td>A1DK5AZMXS1QA3</td>\n",
              "      <td>0002006448</td>\n",
              "      <td>{'Format:': ' Hardcover'}</td>\n",
              "      <td>Newton Ooi</td>\n",
              "      <td>Hand-woven carpets are one of the few products...</td>\n",
              "      <td>Tourism as history</td>\n",
              "      <td>1136505600</td>\n",
              "      <td>NaN</td>\n",
              "    </tr>\n",
              "    <tr>\n",
              "      <th>3</th>\n",
              "      <td>4</td>\n",
              "      <td>NaN</td>\n",
              "      <td>False</td>\n",
              "      <td>12 8, 2014</td>\n",
              "      <td>A1JMSX54DO3LOP</td>\n",
              "      <td>0002005263</td>\n",
              "      <td>{'Format:': ' Kindle Edition'}</td>\n",
              "      <td>Bookzilla</td>\n",
              "      <td>Compelling, twisting mystery involving several...</td>\n",
              "      <td>Compelling, twisting mystery</td>\n",
              "      <td>1417996800</td>\n",
              "      <td>NaN</td>\n",
              "    </tr>\n",
              "    <tr>\n",
              "      <th>4</th>\n",
              "      <td>2</td>\n",
              "      <td>2</td>\n",
              "      <td>True</td>\n",
              "      <td>03 3, 2014</td>\n",
              "      <td>A2IP27AZB3D1SM</td>\n",
              "      <td>0002005263</td>\n",
              "      <td>{'Format:': ' Kindle Edition'}</td>\n",
              "      <td>J. A. Drummond</td>\n",
              "      <td>I have read many of the Hillerman books and en...</td>\n",
              "      <td>Tony missed the mark</td>\n",
              "      <td>1393804800</td>\n",
              "      <td>NaN</td>\n",
              "    </tr>\n",
              "    <tr>\n",
              "      <th>5</th>\n",
              "      <td>4</td>\n",
              "      <td>4</td>\n",
              "      <td>False</td>\n",
              "      <td>06 22, 2004</td>\n",
              "      <td>A2KSU7OOJ5C479</td>\n",
              "      <td>0002005263</td>\n",
              "      <td>{'Format:': ' Hardcover'}</td>\n",
              "      <td>Loren D. Morrison</td>\n",
              "      <td>I, like many of the other reviewers here, am a...</td>\n",
              "      <td>A COMPLEX , SUSPENSEFUL PLOT, BUT . . . . .</td>\n",
              "      <td>1087862400</td>\n",
              "      <td>NaN</td>\n",
              "    </tr>\n",
              "    <tr>\n",
              "      <th>6</th>\n",
              "      <td>5</td>\n",
              "      <td>2</td>\n",
              "      <td>True</td>\n",
              "      <td>01 21, 2004</td>\n",
              "      <td>A3FT7WR9YGU4RK</td>\n",
              "      <td>0002005263</td>\n",
              "      <td>{'Format:': ' Audio CD'}</td>\n",
              "      <td>Anne Melvin</td>\n",
              "      <td>I had the CD read by George\\nGuidall who does ...</td>\n",
              "      <td>A good mystery.</td>\n",
              "      <td>1074643200</td>\n",
              "      <td>NaN</td>\n",
              "    </tr>\n",
              "    <tr>\n",
              "      <th>7</th>\n",
              "      <td>1</td>\n",
              "      <td>9</td>\n",
              "      <td>True</td>\n",
              "      <td>06 10, 2003</td>\n",
              "      <td>AMFB2GBB2O84X</td>\n",
              "      <td>0002005263</td>\n",
              "      <td>{'Format:': ' Hardcover'}</td>\n",
              "      <td>Brakaian</td>\n",
              "      <td>I am a huge Tony Hillerman fan -- I've read ea...</td>\n",
              "      <td>Easily Hillerman's worst -- very disappointing</td>\n",
              "      <td>1055203200</td>\n",
              "      <td>NaN</td>\n",
              "    </tr>\n",
              "    <tr>\n",
              "      <th>8</th>\n",
              "      <td>5</td>\n",
              "      <td>NaN</td>\n",
              "      <td>True</td>\n",
              "      <td>12 18, 2017</td>\n",
              "      <td>A243JAEFC50KWI</td>\n",
              "      <td>0001384198</td>\n",
              "      <td>{'Format:': ' Hardcover'}</td>\n",
              "      <td>dorothy</td>\n",
              "      <td>We all love the classics.</td>\n",
              "      <td>Classics never die.</td>\n",
              "      <td>1513555200</td>\n",
              "      <td>NaN</td>\n",
              "    </tr>\n",
              "    <tr>\n",
              "      <th>9</th>\n",
              "      <td>5</td>\n",
              "      <td>NaN</td>\n",
              "      <td>True</td>\n",
              "      <td>09 6, 2017</td>\n",
              "      <td>A25B7XXSTTN1IY</td>\n",
              "      <td>0001384198</td>\n",
              "      <td>{'Format:': ' Hardcover'}</td>\n",
              "      <td>Snake</td>\n",
              "      <td>I love it</td>\n",
              "      <td>Five Stars</td>\n",
              "      <td>1504656000</td>\n",
              "      <td>NaN</td>\n",
              "    </tr>\n",
              "  </tbody>\n",
              "</table>\n",
              "</div>\n",
              "      <button class=\"colab-df-convert\" onclick=\"convertToInteractive('df-1cc4c5bf-ebb2-41ef-aa3c-f06f8ecb9516')\"\n",
              "              title=\"Convert this dataframe to an interactive table.\"\n",
              "              style=\"display:none;\">\n",
              "        \n",
              "  <svg xmlns=\"http://www.w3.org/2000/svg\" height=\"24px\"viewBox=\"0 0 24 24\"\n",
              "       width=\"24px\">\n",
              "    <path d=\"M0 0h24v24H0V0z\" fill=\"none\"/>\n",
              "    <path d=\"M18.56 5.44l.94 2.06.94-2.06 2.06-.94-2.06-.94-.94-2.06-.94 2.06-2.06.94zm-11 1L8.5 8.5l.94-2.06 2.06-.94-2.06-.94L8.5 2.5l-.94 2.06-2.06.94zm10 10l.94 2.06.94-2.06 2.06-.94-2.06-.94-.94-2.06-.94 2.06-2.06.94z\"/><path d=\"M17.41 7.96l-1.37-1.37c-.4-.4-.92-.59-1.43-.59-.52 0-1.04.2-1.43.59L10.3 9.45l-7.72 7.72c-.78.78-.78 2.05 0 2.83L4 21.41c.39.39.9.59 1.41.59.51 0 1.02-.2 1.41-.59l7.78-7.78 2.81-2.81c.8-.78.8-2.07 0-2.86zM5.41 20L4 18.59l7.72-7.72 1.47 1.35L5.41 20z\"/>\n",
              "  </svg>\n",
              "      </button>\n",
              "      \n",
              "  <style>\n",
              "    .colab-df-container {\n",
              "      display:flex;\n",
              "      flex-wrap:wrap;\n",
              "      gap: 12px;\n",
              "    }\n",
              "\n",
              "    .colab-df-convert {\n",
              "      background-color: #E8F0FE;\n",
              "      border: none;\n",
              "      border-radius: 50%;\n",
              "      cursor: pointer;\n",
              "      display: none;\n",
              "      fill: #1967D2;\n",
              "      height: 32px;\n",
              "      padding: 0 0 0 0;\n",
              "      width: 32px;\n",
              "    }\n",
              "\n",
              "    .colab-df-convert:hover {\n",
              "      background-color: #E2EBFA;\n",
              "      box-shadow: 0px 1px 2px rgba(60, 64, 67, 0.3), 0px 1px 3px 1px rgba(60, 64, 67, 0.15);\n",
              "      fill: #174EA6;\n",
              "    }\n",
              "\n",
              "    [theme=dark] .colab-df-convert {\n",
              "      background-color: #3B4455;\n",
              "      fill: #D2E3FC;\n",
              "    }\n",
              "\n",
              "    [theme=dark] .colab-df-convert:hover {\n",
              "      background-color: #434B5C;\n",
              "      box-shadow: 0px 1px 3px 1px rgba(0, 0, 0, 0.15);\n",
              "      filter: drop-shadow(0px 1px 2px rgba(0, 0, 0, 0.3));\n",
              "      fill: #FFFFFF;\n",
              "    }\n",
              "  </style>\n",
              "\n",
              "      <script>\n",
              "        const buttonEl =\n",
              "          document.querySelector('#df-1cc4c5bf-ebb2-41ef-aa3c-f06f8ecb9516 button.colab-df-convert');\n",
              "        buttonEl.style.display =\n",
              "          google.colab.kernel.accessAllowed ? 'block' : 'none';\n",
              "\n",
              "        async function convertToInteractive(key) {\n",
              "          const element = document.querySelector('#df-1cc4c5bf-ebb2-41ef-aa3c-f06f8ecb9516');\n",
              "          const dataTable =\n",
              "            await google.colab.kernel.invokeFunction('convertToInteractive',\n",
              "                                                     [key], {});\n",
              "          if (!dataTable) return;\n",
              "\n",
              "          const docLinkHtml = 'Like what you see? Visit the ' +\n",
              "            '<a target=\"_blank\" href=https://colab.research.google.com/notebooks/data_table.ipynb>data table notebook</a>'\n",
              "            + ' to learn more about interactive tables.';\n",
              "          element.innerHTML = '';\n",
              "          dataTable['output_type'] = 'display_data';\n",
              "          await google.colab.output.renderOutput(dataTable, element);\n",
              "          const docLink = document.createElement('div');\n",
              "          docLink.innerHTML = docLinkHtml;\n",
              "          element.appendChild(docLink);\n",
              "        }\n",
              "      </script>\n",
              "    </div>\n",
              "  </div>\n",
              "  "
            ]
          },
          "metadata": {},
          "execution_count": 7
        }
      ]
    },
    {
      "cell_type": "markdown",
      "source": [
        "# **1.A. Data quality report:**\n",
        "The data quality report consists of:\n",
        "1. A tabular report describing the various statistics of the SUMMARY & REVIEW_TEXT\n",
        "2. Data visualizations of values in each feature \n",
        "\n",
        "Reference - [Brightspace Tutorial](https://dal.brightspace.com/d2l/le/content/221741/viewContent/3023670/View)"
      ],
      "metadata": {
        "id": "CqjH_2f29VPX"
      }
    },
    {
      "cell_type": "code",
      "source": [
        "import warnings\n",
        "\n",
        "pd.set_option(\"display.max_rows\", None)\n",
        "pd.set_option(\"display.max_columns\", None)\n",
        "pd.set_option('display.float_format', '{:.2f}'.format)\n",
        "#Referred from Tutorial 2 of CSCI 6409 - [https://dal.hosted.panopto.com/Panopto/Pages/Viewer.aspx?id=fe8e7287-82c2-42bc-85ac-ae940127b726]\n"
      ],
      "metadata": {
        "id": "gIb5Pjn76zQC"
      },
      "execution_count": null,
      "outputs": []
    },
    {
      "cell_type": "markdown",
      "source": [
        "# What are the features in the Amazon Review Dataset ?\n",
        "\n",
        "# How many null instances do each columns have ?"
      ],
      "metadata": {
        "id": "heumCEbEJ7xx"
      }
    },
    {
      "cell_type": "code",
      "source": [
        "source_dataset.info()"
      ],
      "metadata": {
        "id": "Lo8raj9tKB6x",
        "colab": {
          "base_uri": "https://localhost:8080/"
        },
        "outputId": "bbb5be2f-28eb-48c1-caca-435bdc5815ef"
      },
      "execution_count": null,
      "outputs": [
        {
          "output_type": "stream",
          "name": "stdout",
          "text": [
            "<class 'pandas.core.frame.DataFrame'>\n",
            "RangeIndex: 1000000 entries, 0 to 999999\n",
            "Data columns (total 12 columns):\n",
            " #   Column          Non-Null Count    Dtype \n",
            "---  ------          --------------    ----- \n",
            " 0   overall         1000000 non-null  int64 \n",
            " 1   vote            195489 non-null   object\n",
            " 2   verified        1000000 non-null  bool  \n",
            " 3   reviewTime      1000000 non-null  object\n",
            " 4   reviewerID      1000000 non-null  object\n",
            " 5   asin            1000000 non-null  object\n",
            " 6   style           982181 non-null   object\n",
            " 7   reviewerName    999966 non-null   object\n",
            " 8   reviewText      999876 non-null   object\n",
            " 9   summary         999693 non-null   object\n",
            " 10  unixReviewTime  1000000 non-null  int64 \n",
            " 11  image           2233 non-null     object\n",
            "dtypes: bool(1), int64(2), object(9)\n",
            "memory usage: 84.9+ MB\n"
          ]
        }
      ]
    },
    {
      "cell_type": "markdown",
      "source": [
        "## We can observe that 6 out of 12 columns of the dataset do not have any Null-records within them, since the total number of rows is **1000000** and the number of non-null records in each column is also **1000000**."
      ],
      "metadata": {
        "id": "a8rMsgI6KREP"
      }
    },
    {
      "cell_type": "markdown",
      "source": [
        "##"
      ],
      "metadata": {
        "id": "ibbrsG1Wzn_w"
      }
    },
    {
      "cell_type": "markdown",
      "source": [
        "# Now let's peek at the first few rows of our data frame"
      ],
      "metadata": {
        "id": "wm3Hpmx4Spwq"
      }
    },
    {
      "cell_type": "code",
      "source": [
        "source_dataset.loc[0]"
      ],
      "metadata": {
        "id": "2wPcEgSQTnU9",
        "colab": {
          "base_uri": "https://localhost:8080/"
        },
        "outputId": "e37d5583-5e68-4f1b-c255-03e6f03eacc9"
      },
      "execution_count": null,
      "outputs": [
        {
          "output_type": "execute_result",
          "data": {
            "text/plain": [
              "overall                                                           3\n",
              "vote                                                              2\n",
              "verified                                                      False\n",
              "reviewTime                                              05 18, 2002\n",
              "reviewerID                                            AJ8AQG2X9JJ2Y\n",
              "asin                                                     0001712799\n",
              "style                      {'Format:': ' School & Library Binding'}\n",
              "reviewerName                                         Donald Gillies\n",
              "reviewText        Dr. Seuss has some really brilliant books.  Th...\n",
              "summary                              A below-average Dr. Seuss Book\n",
              "unixReviewTime                                           1021680000\n",
              "image                                                           NaN\n",
              "Name: 0, dtype: object"
            ]
          },
          "metadata": {},
          "execution_count": 10
        }
      ]
    },
    {
      "cell_type": "markdown",
      "source": [
        "# Fit the best possible datatypes for columns of type object."
      ],
      "metadata": {
        "id": "7X48aqYqUD2p"
      }
    },
    {
      "cell_type": "code",
      "source": [
        "source_dataset = source_dataset.convert_dtypes()\n",
        "source_dataset.info()"
      ],
      "metadata": {
        "id": "AUFFYVcsUol9",
        "colab": {
          "base_uri": "https://localhost:8080/"
        },
        "outputId": "cf5fd098-0f09-4e50-a84d-48e228d67913"
      },
      "execution_count": null,
      "outputs": [
        {
          "output_type": "stream",
          "name": "stdout",
          "text": [
            "<class 'pandas.core.frame.DataFrame'>\n",
            "RangeIndex: 1000000 entries, 0 to 999999\n",
            "Data columns (total 12 columns):\n",
            " #   Column          Non-Null Count    Dtype  \n",
            "---  ------          --------------    -----  \n",
            " 0   overall         1000000 non-null  Int64  \n",
            " 1   vote            195489 non-null   string \n",
            " 2   verified        1000000 non-null  boolean\n",
            " 3   reviewTime      1000000 non-null  string \n",
            " 4   reviewerID      1000000 non-null  string \n",
            " 5   asin            1000000 non-null  string \n",
            " 6   style           982181 non-null   object \n",
            " 7   reviewerName    999966 non-null   string \n",
            " 8   reviewText      999876 non-null   string \n",
            " 9   summary         999693 non-null   string \n",
            " 10  unixReviewTime  1000000 non-null  Int64  \n",
            " 11  image           2233 non-null     object \n",
            "dtypes: Int64(2), boolean(1), object(2), string(7)\n",
            "memory usage: 87.7+ MB\n"
          ]
        }
      ]
    },
    {
      "cell_type": "markdown",
      "source": [
        "##Notice that the column 'style' requires transformation since it's in the form of a \"dictionary. We need to extract the value corresponding to 'Format' in each instance."
      ],
      "metadata": {
        "id": "jd3n6fE8OFNK"
      }
    },
    {
      "cell_type": "code",
      "source": [
        "dic = {'Format:': ' No Format'}\n",
        "print(type(dic))\n",
        "\n",
        "dic2 = dict({'Format:': ' No Format'})\n",
        "print(type(dic2))\n",
        "print(dic2)"
      ],
      "metadata": {
        "id": "XIHRG9Gt2UVM",
        "colab": {
          "base_uri": "https://localhost:8080/"
        },
        "outputId": "b1ed3378-db95-48e3-95ea-0105d316ae29"
      },
      "execution_count": null,
      "outputs": [
        {
          "output_type": "stream",
          "name": "stdout",
          "text": [
            "<class 'dict'>\n",
            "<class 'dict'>\n",
            "{'Format:': ' No Format'}\n"
          ]
        }
      ]
    },
    {
      "cell_type": "code",
      "source": [
        "source_dataset['style'].isna().sum()"
      ],
      "metadata": {
        "id": "PVfeCf0i3oLy",
        "colab": {
          "base_uri": "https://localhost:8080/"
        },
        "outputId": "c3dd45af-55cd-4ede-ceba-2877b4ab9f6d"
      },
      "execution_count": null,
      "outputs": [
        {
          "output_type": "execute_result",
          "data": {
            "text/plain": [
              "17819"
            ]
          },
          "metadata": {},
          "execution_count": 13
        }
      ]
    },
    {
      "cell_type": "markdown",
      "source": [
        "## Extracting the format of the book for each review and setting format as ' No Format' for those reviews where the format is not specified."
      ],
      "metadata": {
        "id": "iGirH4ingJ-s"
      }
    },
    {
      "cell_type": "code",
      "source": [
        "source_dataset['format'] = [d.get(\"Format:\") if isinstance(d,dict) else 'No Format' for d in source_dataset['style']]"
      ],
      "metadata": {
        "id": "oqfD91q9OQiw"
      },
      "execution_count": null,
      "outputs": []
    },
    {
      "cell_type": "code",
      "source": [
        "source_dataset.head(25)"
      ],
      "metadata": {
        "id": "OlxGWnPhST8h",
        "colab": {
          "base_uri": "https://localhost:8080/",
          "height": 833
        },
        "outputId": "e11ea3f7-ce22-4383-fa96-9887c387a361"
      },
      "execution_count": null,
      "outputs": [
        {
          "output_type": "execute_result",
          "data": {
            "text/plain": [
              "    overall  vote  verified   reviewTime      reviewerID        asin  \\\n",
              "0         3     2     False  05 18, 2002   AJ8AQG2X9JJ2Y  0001712799   \n",
              "1         5  <NA>      True  12 11, 2014  A12Q7B7NT716RV  0001712799   \n",
              "2         4     3     False   01 6, 2006  A1DK5AZMXS1QA3  0002006448   \n",
              "3         4  <NA>     False   12 8, 2014  A1JMSX54DO3LOP  0002005263   \n",
              "4         2     2      True   03 3, 2014  A2IP27AZB3D1SM  0002005263   \n",
              "5         4     4     False  06 22, 2004  A2KSU7OOJ5C479  0002005263   \n",
              "6         5     2      True  01 21, 2004  A3FT7WR9YGU4RK  0002005263   \n",
              "7         1     9      True  06 10, 2003   AMFB2GBB2O84X  0002005263   \n",
              "8         5  <NA>      True  12 18, 2017  A243JAEFC50KWI  0001384198   \n",
              "9         5  <NA>      True   09 6, 2017  A25B7XXSTTN1IY  0001384198   \n",
              "10        5  <NA>      True  07 21, 2017  A1ZH1498KCF0II  0001384198   \n",
              "11        5  <NA>      True   12 7, 2014  A2SZQ4RIBGH4S0  0001384198   \n",
              "12        1     4     False  11 18, 2014  A1G2NIQIC7V94N  0001384198   \n",
              "13        4  <NA>      True  10 11, 2014  A3GURTXTBN6P1H  0001384198   \n",
              "14        5  <NA>      True  12 12, 2013   AELB7NAA4TPJA  0001384198   \n",
              "15        3  <NA>      True   07 9, 2013   AW19JUIQFF9UC  0001384198   \n",
              "16        5  <NA>      True  12 20, 2012   A3PQZ1F2DKRH7  0001384198   \n",
              "17        5  <NA>      True   12 5, 2012  A3B7KA98ABG1FL  0001384198   \n",
              "18        5  <NA>      True  11 24, 2012  A2U9ETDO4GMT77  0001384198   \n",
              "19        5     2      True   06 2, 2010  A29CHKRGDMESA9  0001384198   \n",
              "20        5     5      True   09 4, 2007  A1TMAVN4CEM8U8  0001384198   \n",
              "21        1     3      True   09 9, 2016  A3UMD61W29D5BF  0001381733   \n",
              "22        5  <NA>      True   07 5, 2016   A2UHQ1S4U0VFW  0001381733   \n",
              "23        5  <NA>      True  06 26, 2015  A2FMY6FBBL3675  0001381733   \n",
              "24        5  <NA>      True  05 15, 2015  A21DC7OWHXQGF2  0001381733   \n",
              "\n",
              "                                       style          reviewerName  \\\n",
              "0   {'Format:': ' School & Library Binding'}        Donald Gillies   \n",
              "1                  {'Format:': ' Hardcover'}       True Value Girl   \n",
              "2                  {'Format:': ' Hardcover'}            Newton Ooi   \n",
              "3             {'Format:': ' Kindle Edition'}             Bookzilla   \n",
              "4             {'Format:': ' Kindle Edition'}        J. A. Drummond   \n",
              "5                  {'Format:': ' Hardcover'}     Loren D. Morrison   \n",
              "6                   {'Format:': ' Audio CD'}           Anne Melvin   \n",
              "7                  {'Format:': ' Hardcover'}              Brakaian   \n",
              "8                  {'Format:': ' Hardcover'}               dorothy   \n",
              "9                  {'Format:': ' Hardcover'}                 Snake   \n",
              "10                 {'Format:': ' Hardcover'}                Pinkie   \n",
              "11                 {'Format:': ' Hardcover'}              tessaame   \n",
              "12                 {'Format:': ' Paperback'}                 MGran   \n",
              "13            {'Format:': ' Kindle Edition'}       Neen James Inc.   \n",
              "14                 {'Format:': ' Paperback'}  Living in the desert   \n",
              "15                 {'Format:': ' Paperback'}         Millie Rhodes   \n",
              "16                 {'Format:': ' Hardcover'}        Robert M. Esch   \n",
              "17                 {'Format:': ' Hardcover'}          genevieve012   \n",
              "18                 {'Format:': ' Hardcover'}               Deborah   \n",
              "19                 {'Format:': ' Hardcover'}       Nancy E. Gordon   \n",
              "20                 {'Format:': ' Paperback'}            the gunner   \n",
              "21            {'Format:': ' Kindle Edition'}         Anon in Texas   \n",
              "22                                       NaN            Word Woman   \n",
              "23                 {'Format:': ' Hardcover'}         3Homeschooled   \n",
              "24            {'Format:': ' Kindle Edition'}         Sidney Burton   \n",
              "\n",
              "                                           reviewText  \\\n",
              "0   Dr. Seuss has some really brilliant books.  Th...   \n",
              "1                                             Love it   \n",
              "2   Hand-woven carpets are one of the few products...   \n",
              "3   Compelling, twisting mystery involving several...   \n",
              "4   I have read many of the Hillerman books and en...   \n",
              "5   I, like many of the other reviewers here, am a...   \n",
              "6   I had the CD read by George\n",
              "Guidall who does a...   \n",
              "7   I am a huge Tony Hillerman fan -- I've read ea...   \n",
              "8                           We all love the classics.   \n",
              "9                                           I love it   \n",
              "10       after all these years it is still a favorite   \n",
              "11  A great classic, my grandchildren love the story.   \n",
              "12  Not pleased with this purchase at all. I expec...   \n",
              "13  A friend suggested I read this leading to my f...   \n",
              "14  This book was purchased for a book a day adven...   \n",
              "15  It was designed to be sent in the mail which i...   \n",
              "16  My favorite book as a child in the 1940's.  It...   \n",
              "17  I bought this book to teach my 2 1/2 year old ...   \n",
              "18  One of my granddaughters favorite book.  I lov...   \n",
              "19  Can't wait to read this wonderful book to my g...   \n",
              "20  The` Little Engine that Could Storybook Treasu...   \n",
              "21  The Kindle version of the Everyman's Library C...   \n",
              "22  The perfect gift from adults who follow throug...   \n",
              "23  My children enjoyed these poems.  They now fee...   \n",
              "24                        Exactly what was described.   \n",
              "\n",
              "                                              summary  unixReviewTime image  \\\n",
              "0                      A below-average Dr. Seuss Book      1021680000   NaN   \n",
              "1                                          Five Stars      1418256000   NaN   \n",
              "2                                  Tourism as history      1136505600   NaN   \n",
              "3                        Compelling, twisting mystery      1417996800   NaN   \n",
              "4                                Tony missed the mark      1393804800   NaN   \n",
              "5         A COMPLEX , SUSPENSEFUL PLOT, BUT . . . . .      1087862400   NaN   \n",
              "6                                     A good mystery.      1074643200   NaN   \n",
              "7      Easily Hillerman's worst -- very disappointing      1055203200   NaN   \n",
              "8                                 Classics never die.      1513555200   NaN   \n",
              "9                                          Five Stars      1504656000   NaN   \n",
              "10                                         Five Stars      1500595200   NaN   \n",
              "11                                              great      1417910400   NaN   \n",
              "12  Tiny book that looks like a postcard, poor qua...      1416268800   NaN   \n",
              "13  a good reminder we can do anything we put our ...      1412985600   NaN   \n",
              "14                                     Books are cool      1386806400   NaN   \n",
              "15      I did not realize it was going to be so small      1373328000   NaN   \n",
              "16                      I think I can, I knew I could      1355961600   NaN   \n",
              "17                                    It's a Classic!      1354665600   NaN   \n",
              "18           The story that lasts through generations      1353715200   NaN   \n",
              "19                           AAAAAAAAAAAA+++++++++++=      1275436800   NaN   \n",
              "20                                      LEARN TO READ      1188864000   NaN   \n",
              "21  1 star for the Everyman's Library Children's C...      1473379200   NaN   \n",
              "22                                         Five Stars      1467676800   NaN   \n",
              "23                             Robert Louis Stevenson      1435276800   NaN   \n",
              "24                                         Five Stars      1431648000   NaN   \n",
              "\n",
              "                       format  \n",
              "0    School & Library Binding  \n",
              "1                   Hardcover  \n",
              "2                   Hardcover  \n",
              "3              Kindle Edition  \n",
              "4              Kindle Edition  \n",
              "5                   Hardcover  \n",
              "6                    Audio CD  \n",
              "7                   Hardcover  \n",
              "8                   Hardcover  \n",
              "9                   Hardcover  \n",
              "10                  Hardcover  \n",
              "11                  Hardcover  \n",
              "12                  Paperback  \n",
              "13             Kindle Edition  \n",
              "14                  Paperback  \n",
              "15                  Paperback  \n",
              "16                  Hardcover  \n",
              "17                  Hardcover  \n",
              "18                  Hardcover  \n",
              "19                  Hardcover  \n",
              "20                  Paperback  \n",
              "21             Kindle Edition  \n",
              "22                  No Format  \n",
              "23                  Hardcover  \n",
              "24             Kindle Edition  "
            ],
            "text/html": [
              "\n",
              "  <div id=\"df-408e5031-343d-498d-99db-ec8caf940000\">\n",
              "    <div class=\"colab-df-container\">\n",
              "      <div>\n",
              "<style scoped>\n",
              "    .dataframe tbody tr th:only-of-type {\n",
              "        vertical-align: middle;\n",
              "    }\n",
              "\n",
              "    .dataframe tbody tr th {\n",
              "        vertical-align: top;\n",
              "    }\n",
              "\n",
              "    .dataframe thead th {\n",
              "        text-align: right;\n",
              "    }\n",
              "</style>\n",
              "<table border=\"1\" class=\"dataframe\">\n",
              "  <thead>\n",
              "    <tr style=\"text-align: right;\">\n",
              "      <th></th>\n",
              "      <th>overall</th>\n",
              "      <th>vote</th>\n",
              "      <th>verified</th>\n",
              "      <th>reviewTime</th>\n",
              "      <th>reviewerID</th>\n",
              "      <th>asin</th>\n",
              "      <th>style</th>\n",
              "      <th>reviewerName</th>\n",
              "      <th>reviewText</th>\n",
              "      <th>summary</th>\n",
              "      <th>unixReviewTime</th>\n",
              "      <th>image</th>\n",
              "      <th>format</th>\n",
              "    </tr>\n",
              "  </thead>\n",
              "  <tbody>\n",
              "    <tr>\n",
              "      <th>0</th>\n",
              "      <td>3</td>\n",
              "      <td>2</td>\n",
              "      <td>False</td>\n",
              "      <td>05 18, 2002</td>\n",
              "      <td>AJ8AQG2X9JJ2Y</td>\n",
              "      <td>0001712799</td>\n",
              "      <td>{'Format:': ' School &amp; Library Binding'}</td>\n",
              "      <td>Donald Gillies</td>\n",
              "      <td>Dr. Seuss has some really brilliant books.  Th...</td>\n",
              "      <td>A below-average Dr. Seuss Book</td>\n",
              "      <td>1021680000</td>\n",
              "      <td>NaN</td>\n",
              "      <td>School &amp; Library Binding</td>\n",
              "    </tr>\n",
              "    <tr>\n",
              "      <th>1</th>\n",
              "      <td>5</td>\n",
              "      <td>&lt;NA&gt;</td>\n",
              "      <td>True</td>\n",
              "      <td>12 11, 2014</td>\n",
              "      <td>A12Q7B7NT716RV</td>\n",
              "      <td>0001712799</td>\n",
              "      <td>{'Format:': ' Hardcover'}</td>\n",
              "      <td>True Value Girl</td>\n",
              "      <td>Love it</td>\n",
              "      <td>Five Stars</td>\n",
              "      <td>1418256000</td>\n",
              "      <td>NaN</td>\n",
              "      <td>Hardcover</td>\n",
              "    </tr>\n",
              "    <tr>\n",
              "      <th>2</th>\n",
              "      <td>4</td>\n",
              "      <td>3</td>\n",
              "      <td>False</td>\n",
              "      <td>01 6, 2006</td>\n",
              "      <td>A1DK5AZMXS1QA3</td>\n",
              "      <td>0002006448</td>\n",
              "      <td>{'Format:': ' Hardcover'}</td>\n",
              "      <td>Newton Ooi</td>\n",
              "      <td>Hand-woven carpets are one of the few products...</td>\n",
              "      <td>Tourism as history</td>\n",
              "      <td>1136505600</td>\n",
              "      <td>NaN</td>\n",
              "      <td>Hardcover</td>\n",
              "    </tr>\n",
              "    <tr>\n",
              "      <th>3</th>\n",
              "      <td>4</td>\n",
              "      <td>&lt;NA&gt;</td>\n",
              "      <td>False</td>\n",
              "      <td>12 8, 2014</td>\n",
              "      <td>A1JMSX54DO3LOP</td>\n",
              "      <td>0002005263</td>\n",
              "      <td>{'Format:': ' Kindle Edition'}</td>\n",
              "      <td>Bookzilla</td>\n",
              "      <td>Compelling, twisting mystery involving several...</td>\n",
              "      <td>Compelling, twisting mystery</td>\n",
              "      <td>1417996800</td>\n",
              "      <td>NaN</td>\n",
              "      <td>Kindle Edition</td>\n",
              "    </tr>\n",
              "    <tr>\n",
              "      <th>4</th>\n",
              "      <td>2</td>\n",
              "      <td>2</td>\n",
              "      <td>True</td>\n",
              "      <td>03 3, 2014</td>\n",
              "      <td>A2IP27AZB3D1SM</td>\n",
              "      <td>0002005263</td>\n",
              "      <td>{'Format:': ' Kindle Edition'}</td>\n",
              "      <td>J. A. Drummond</td>\n",
              "      <td>I have read many of the Hillerman books and en...</td>\n",
              "      <td>Tony missed the mark</td>\n",
              "      <td>1393804800</td>\n",
              "      <td>NaN</td>\n",
              "      <td>Kindle Edition</td>\n",
              "    </tr>\n",
              "    <tr>\n",
              "      <th>5</th>\n",
              "      <td>4</td>\n",
              "      <td>4</td>\n",
              "      <td>False</td>\n",
              "      <td>06 22, 2004</td>\n",
              "      <td>A2KSU7OOJ5C479</td>\n",
              "      <td>0002005263</td>\n",
              "      <td>{'Format:': ' Hardcover'}</td>\n",
              "      <td>Loren D. Morrison</td>\n",
              "      <td>I, like many of the other reviewers here, am a...</td>\n",
              "      <td>A COMPLEX , SUSPENSEFUL PLOT, BUT . . . . .</td>\n",
              "      <td>1087862400</td>\n",
              "      <td>NaN</td>\n",
              "      <td>Hardcover</td>\n",
              "    </tr>\n",
              "    <tr>\n",
              "      <th>6</th>\n",
              "      <td>5</td>\n",
              "      <td>2</td>\n",
              "      <td>True</td>\n",
              "      <td>01 21, 2004</td>\n",
              "      <td>A3FT7WR9YGU4RK</td>\n",
              "      <td>0002005263</td>\n",
              "      <td>{'Format:': ' Audio CD'}</td>\n",
              "      <td>Anne Melvin</td>\n",
              "      <td>I had the CD read by George\n",
              "Guidall who does a...</td>\n",
              "      <td>A good mystery.</td>\n",
              "      <td>1074643200</td>\n",
              "      <td>NaN</td>\n",
              "      <td>Audio CD</td>\n",
              "    </tr>\n",
              "    <tr>\n",
              "      <th>7</th>\n",
              "      <td>1</td>\n",
              "      <td>9</td>\n",
              "      <td>True</td>\n",
              "      <td>06 10, 2003</td>\n",
              "      <td>AMFB2GBB2O84X</td>\n",
              "      <td>0002005263</td>\n",
              "      <td>{'Format:': ' Hardcover'}</td>\n",
              "      <td>Brakaian</td>\n",
              "      <td>I am a huge Tony Hillerman fan -- I've read ea...</td>\n",
              "      <td>Easily Hillerman's worst -- very disappointing</td>\n",
              "      <td>1055203200</td>\n",
              "      <td>NaN</td>\n",
              "      <td>Hardcover</td>\n",
              "    </tr>\n",
              "    <tr>\n",
              "      <th>8</th>\n",
              "      <td>5</td>\n",
              "      <td>&lt;NA&gt;</td>\n",
              "      <td>True</td>\n",
              "      <td>12 18, 2017</td>\n",
              "      <td>A243JAEFC50KWI</td>\n",
              "      <td>0001384198</td>\n",
              "      <td>{'Format:': ' Hardcover'}</td>\n",
              "      <td>dorothy</td>\n",
              "      <td>We all love the classics.</td>\n",
              "      <td>Classics never die.</td>\n",
              "      <td>1513555200</td>\n",
              "      <td>NaN</td>\n",
              "      <td>Hardcover</td>\n",
              "    </tr>\n",
              "    <tr>\n",
              "      <th>9</th>\n",
              "      <td>5</td>\n",
              "      <td>&lt;NA&gt;</td>\n",
              "      <td>True</td>\n",
              "      <td>09 6, 2017</td>\n",
              "      <td>A25B7XXSTTN1IY</td>\n",
              "      <td>0001384198</td>\n",
              "      <td>{'Format:': ' Hardcover'}</td>\n",
              "      <td>Snake</td>\n",
              "      <td>I love it</td>\n",
              "      <td>Five Stars</td>\n",
              "      <td>1504656000</td>\n",
              "      <td>NaN</td>\n",
              "      <td>Hardcover</td>\n",
              "    </tr>\n",
              "    <tr>\n",
              "      <th>10</th>\n",
              "      <td>5</td>\n",
              "      <td>&lt;NA&gt;</td>\n",
              "      <td>True</td>\n",
              "      <td>07 21, 2017</td>\n",
              "      <td>A1ZH1498KCF0II</td>\n",
              "      <td>0001384198</td>\n",
              "      <td>{'Format:': ' Hardcover'}</td>\n",
              "      <td>Pinkie</td>\n",
              "      <td>after all these years it is still a favorite</td>\n",
              "      <td>Five Stars</td>\n",
              "      <td>1500595200</td>\n",
              "      <td>NaN</td>\n",
              "      <td>Hardcover</td>\n",
              "    </tr>\n",
              "    <tr>\n",
              "      <th>11</th>\n",
              "      <td>5</td>\n",
              "      <td>&lt;NA&gt;</td>\n",
              "      <td>True</td>\n",
              "      <td>12 7, 2014</td>\n",
              "      <td>A2SZQ4RIBGH4S0</td>\n",
              "      <td>0001384198</td>\n",
              "      <td>{'Format:': ' Hardcover'}</td>\n",
              "      <td>tessaame</td>\n",
              "      <td>A great classic, my grandchildren love the story.</td>\n",
              "      <td>great</td>\n",
              "      <td>1417910400</td>\n",
              "      <td>NaN</td>\n",
              "      <td>Hardcover</td>\n",
              "    </tr>\n",
              "    <tr>\n",
              "      <th>12</th>\n",
              "      <td>1</td>\n",
              "      <td>4</td>\n",
              "      <td>False</td>\n",
              "      <td>11 18, 2014</td>\n",
              "      <td>A1G2NIQIC7V94N</td>\n",
              "      <td>0001384198</td>\n",
              "      <td>{'Format:': ' Paperback'}</td>\n",
              "      <td>MGran</td>\n",
              "      <td>Not pleased with this purchase at all. I expec...</td>\n",
              "      <td>Tiny book that looks like a postcard, poor qua...</td>\n",
              "      <td>1416268800</td>\n",
              "      <td>NaN</td>\n",
              "      <td>Paperback</td>\n",
              "    </tr>\n",
              "    <tr>\n",
              "      <th>13</th>\n",
              "      <td>4</td>\n",
              "      <td>&lt;NA&gt;</td>\n",
              "      <td>True</td>\n",
              "      <td>10 11, 2014</td>\n",
              "      <td>A3GURTXTBN6P1H</td>\n",
              "      <td>0001384198</td>\n",
              "      <td>{'Format:': ' Kindle Edition'}</td>\n",
              "      <td>Neen James Inc.</td>\n",
              "      <td>A friend suggested I read this leading to my f...</td>\n",
              "      <td>a good reminder we can do anything we put our ...</td>\n",
              "      <td>1412985600</td>\n",
              "      <td>NaN</td>\n",
              "      <td>Kindle Edition</td>\n",
              "    </tr>\n",
              "    <tr>\n",
              "      <th>14</th>\n",
              "      <td>5</td>\n",
              "      <td>&lt;NA&gt;</td>\n",
              "      <td>True</td>\n",
              "      <td>12 12, 2013</td>\n",
              "      <td>AELB7NAA4TPJA</td>\n",
              "      <td>0001384198</td>\n",
              "      <td>{'Format:': ' Paperback'}</td>\n",
              "      <td>Living in the desert</td>\n",
              "      <td>This book was purchased for a book a day adven...</td>\n",
              "      <td>Books are cool</td>\n",
              "      <td>1386806400</td>\n",
              "      <td>NaN</td>\n",
              "      <td>Paperback</td>\n",
              "    </tr>\n",
              "    <tr>\n",
              "      <th>15</th>\n",
              "      <td>3</td>\n",
              "      <td>&lt;NA&gt;</td>\n",
              "      <td>True</td>\n",
              "      <td>07 9, 2013</td>\n",
              "      <td>AW19JUIQFF9UC</td>\n",
              "      <td>0001384198</td>\n",
              "      <td>{'Format:': ' Paperback'}</td>\n",
              "      <td>Millie Rhodes</td>\n",
              "      <td>It was designed to be sent in the mail which i...</td>\n",
              "      <td>I did not realize it was going to be so small</td>\n",
              "      <td>1373328000</td>\n",
              "      <td>NaN</td>\n",
              "      <td>Paperback</td>\n",
              "    </tr>\n",
              "    <tr>\n",
              "      <th>16</th>\n",
              "      <td>5</td>\n",
              "      <td>&lt;NA&gt;</td>\n",
              "      <td>True</td>\n",
              "      <td>12 20, 2012</td>\n",
              "      <td>A3PQZ1F2DKRH7</td>\n",
              "      <td>0001384198</td>\n",
              "      <td>{'Format:': ' Hardcover'}</td>\n",
              "      <td>Robert M. Esch</td>\n",
              "      <td>My favorite book as a child in the 1940's.  It...</td>\n",
              "      <td>I think I can, I knew I could</td>\n",
              "      <td>1355961600</td>\n",
              "      <td>NaN</td>\n",
              "      <td>Hardcover</td>\n",
              "    </tr>\n",
              "    <tr>\n",
              "      <th>17</th>\n",
              "      <td>5</td>\n",
              "      <td>&lt;NA&gt;</td>\n",
              "      <td>True</td>\n",
              "      <td>12 5, 2012</td>\n",
              "      <td>A3B7KA98ABG1FL</td>\n",
              "      <td>0001384198</td>\n",
              "      <td>{'Format:': ' Hardcover'}</td>\n",
              "      <td>genevieve012</td>\n",
              "      <td>I bought this book to teach my 2 1/2 year old ...</td>\n",
              "      <td>It's a Classic!</td>\n",
              "      <td>1354665600</td>\n",
              "      <td>NaN</td>\n",
              "      <td>Hardcover</td>\n",
              "    </tr>\n",
              "    <tr>\n",
              "      <th>18</th>\n",
              "      <td>5</td>\n",
              "      <td>&lt;NA&gt;</td>\n",
              "      <td>True</td>\n",
              "      <td>11 24, 2012</td>\n",
              "      <td>A2U9ETDO4GMT77</td>\n",
              "      <td>0001384198</td>\n",
              "      <td>{'Format:': ' Hardcover'}</td>\n",
              "      <td>Deborah</td>\n",
              "      <td>One of my granddaughters favorite book.  I lov...</td>\n",
              "      <td>The story that lasts through generations</td>\n",
              "      <td>1353715200</td>\n",
              "      <td>NaN</td>\n",
              "      <td>Hardcover</td>\n",
              "    </tr>\n",
              "    <tr>\n",
              "      <th>19</th>\n",
              "      <td>5</td>\n",
              "      <td>2</td>\n",
              "      <td>True</td>\n",
              "      <td>06 2, 2010</td>\n",
              "      <td>A29CHKRGDMESA9</td>\n",
              "      <td>0001384198</td>\n",
              "      <td>{'Format:': ' Hardcover'}</td>\n",
              "      <td>Nancy E. Gordon</td>\n",
              "      <td>Can't wait to read this wonderful book to my g...</td>\n",
              "      <td>AAAAAAAAAAAA+++++++++++=</td>\n",
              "      <td>1275436800</td>\n",
              "      <td>NaN</td>\n",
              "      <td>Hardcover</td>\n",
              "    </tr>\n",
              "    <tr>\n",
              "      <th>20</th>\n",
              "      <td>5</td>\n",
              "      <td>5</td>\n",
              "      <td>True</td>\n",
              "      <td>09 4, 2007</td>\n",
              "      <td>A1TMAVN4CEM8U8</td>\n",
              "      <td>0001384198</td>\n",
              "      <td>{'Format:': ' Paperback'}</td>\n",
              "      <td>the gunner</td>\n",
              "      <td>The` Little Engine that Could Storybook Treasu...</td>\n",
              "      <td>LEARN TO READ</td>\n",
              "      <td>1188864000</td>\n",
              "      <td>NaN</td>\n",
              "      <td>Paperback</td>\n",
              "    </tr>\n",
              "    <tr>\n",
              "      <th>21</th>\n",
              "      <td>1</td>\n",
              "      <td>3</td>\n",
              "      <td>True</td>\n",
              "      <td>09 9, 2016</td>\n",
              "      <td>A3UMD61W29D5BF</td>\n",
              "      <td>0001381733</td>\n",
              "      <td>{'Format:': ' Kindle Edition'}</td>\n",
              "      <td>Anon in Texas</td>\n",
              "      <td>The Kindle version of the Everyman's Library C...</td>\n",
              "      <td>1 star for the Everyman's Library Children's C...</td>\n",
              "      <td>1473379200</td>\n",
              "      <td>NaN</td>\n",
              "      <td>Kindle Edition</td>\n",
              "    </tr>\n",
              "    <tr>\n",
              "      <th>22</th>\n",
              "      <td>5</td>\n",
              "      <td>&lt;NA&gt;</td>\n",
              "      <td>True</td>\n",
              "      <td>07 5, 2016</td>\n",
              "      <td>A2UHQ1S4U0VFW</td>\n",
              "      <td>0001381733</td>\n",
              "      <td>NaN</td>\n",
              "      <td>Word Woman</td>\n",
              "      <td>The perfect gift from adults who follow throug...</td>\n",
              "      <td>Five Stars</td>\n",
              "      <td>1467676800</td>\n",
              "      <td>NaN</td>\n",
              "      <td>No Format</td>\n",
              "    </tr>\n",
              "    <tr>\n",
              "      <th>23</th>\n",
              "      <td>5</td>\n",
              "      <td>&lt;NA&gt;</td>\n",
              "      <td>True</td>\n",
              "      <td>06 26, 2015</td>\n",
              "      <td>A2FMY6FBBL3675</td>\n",
              "      <td>0001381733</td>\n",
              "      <td>{'Format:': ' Hardcover'}</td>\n",
              "      <td>3Homeschooled</td>\n",
              "      <td>My children enjoyed these poems.  They now fee...</td>\n",
              "      <td>Robert Louis Stevenson</td>\n",
              "      <td>1435276800</td>\n",
              "      <td>NaN</td>\n",
              "      <td>Hardcover</td>\n",
              "    </tr>\n",
              "    <tr>\n",
              "      <th>24</th>\n",
              "      <td>5</td>\n",
              "      <td>&lt;NA&gt;</td>\n",
              "      <td>True</td>\n",
              "      <td>05 15, 2015</td>\n",
              "      <td>A21DC7OWHXQGF2</td>\n",
              "      <td>0001381733</td>\n",
              "      <td>{'Format:': ' Kindle Edition'}</td>\n",
              "      <td>Sidney Burton</td>\n",
              "      <td>Exactly what was described.</td>\n",
              "      <td>Five Stars</td>\n",
              "      <td>1431648000</td>\n",
              "      <td>NaN</td>\n",
              "      <td>Kindle Edition</td>\n",
              "    </tr>\n",
              "  </tbody>\n",
              "</table>\n",
              "</div>\n",
              "      <button class=\"colab-df-convert\" onclick=\"convertToInteractive('df-408e5031-343d-498d-99db-ec8caf940000')\"\n",
              "              title=\"Convert this dataframe to an interactive table.\"\n",
              "              style=\"display:none;\">\n",
              "        \n",
              "  <svg xmlns=\"http://www.w3.org/2000/svg\" height=\"24px\"viewBox=\"0 0 24 24\"\n",
              "       width=\"24px\">\n",
              "    <path d=\"M0 0h24v24H0V0z\" fill=\"none\"/>\n",
              "    <path d=\"M18.56 5.44l.94 2.06.94-2.06 2.06-.94-2.06-.94-.94-2.06-.94 2.06-2.06.94zm-11 1L8.5 8.5l.94-2.06 2.06-.94-2.06-.94L8.5 2.5l-.94 2.06-2.06.94zm10 10l.94 2.06.94-2.06 2.06-.94-2.06-.94-.94-2.06-.94 2.06-2.06.94z\"/><path d=\"M17.41 7.96l-1.37-1.37c-.4-.4-.92-.59-1.43-.59-.52 0-1.04.2-1.43.59L10.3 9.45l-7.72 7.72c-.78.78-.78 2.05 0 2.83L4 21.41c.39.39.9.59 1.41.59.51 0 1.02-.2 1.41-.59l7.78-7.78 2.81-2.81c.8-.78.8-2.07 0-2.86zM5.41 20L4 18.59l7.72-7.72 1.47 1.35L5.41 20z\"/>\n",
              "  </svg>\n",
              "      </button>\n",
              "      \n",
              "  <style>\n",
              "    .colab-df-container {\n",
              "      display:flex;\n",
              "      flex-wrap:wrap;\n",
              "      gap: 12px;\n",
              "    }\n",
              "\n",
              "    .colab-df-convert {\n",
              "      background-color: #E8F0FE;\n",
              "      border: none;\n",
              "      border-radius: 50%;\n",
              "      cursor: pointer;\n",
              "      display: none;\n",
              "      fill: #1967D2;\n",
              "      height: 32px;\n",
              "      padding: 0 0 0 0;\n",
              "      width: 32px;\n",
              "    }\n",
              "\n",
              "    .colab-df-convert:hover {\n",
              "      background-color: #E2EBFA;\n",
              "      box-shadow: 0px 1px 2px rgba(60, 64, 67, 0.3), 0px 1px 3px 1px rgba(60, 64, 67, 0.15);\n",
              "      fill: #174EA6;\n",
              "    }\n",
              "\n",
              "    [theme=dark] .colab-df-convert {\n",
              "      background-color: #3B4455;\n",
              "      fill: #D2E3FC;\n",
              "    }\n",
              "\n",
              "    [theme=dark] .colab-df-convert:hover {\n",
              "      background-color: #434B5C;\n",
              "      box-shadow: 0px 1px 3px 1px rgba(0, 0, 0, 0.15);\n",
              "      filter: drop-shadow(0px 1px 2px rgba(0, 0, 0, 0.3));\n",
              "      fill: #FFFFFF;\n",
              "    }\n",
              "  </style>\n",
              "\n",
              "      <script>\n",
              "        const buttonEl =\n",
              "          document.querySelector('#df-408e5031-343d-498d-99db-ec8caf940000 button.colab-df-convert');\n",
              "        buttonEl.style.display =\n",
              "          google.colab.kernel.accessAllowed ? 'block' : 'none';\n",
              "\n",
              "        async function convertToInteractive(key) {\n",
              "          const element = document.querySelector('#df-408e5031-343d-498d-99db-ec8caf940000');\n",
              "          const dataTable =\n",
              "            await google.colab.kernel.invokeFunction('convertToInteractive',\n",
              "                                                     [key], {});\n",
              "          if (!dataTable) return;\n",
              "\n",
              "          const docLinkHtml = 'Like what you see? Visit the ' +\n",
              "            '<a target=\"_blank\" href=https://colab.research.google.com/notebooks/data_table.ipynb>data table notebook</a>'\n",
              "            + ' to learn more about interactive tables.';\n",
              "          element.innerHTML = '';\n",
              "          dataTable['output_type'] = 'display_data';\n",
              "          await google.colab.output.renderOutput(dataTable, element);\n",
              "          const docLink = document.createElement('div');\n",
              "          docLink.innerHTML = docLinkHtml;\n",
              "          element.appendChild(docLink);\n",
              "        }\n",
              "      </script>\n",
              "    </div>\n",
              "  </div>\n",
              "  "
            ]
          },
          "metadata": {},
          "execution_count": 15
        }
      ]
    },
    {
      "cell_type": "markdown",
      "source": [
        "## As visible from the information panel below, the Dataframe contains 3 objects of type 'object'\n",
        "\n",
        "1. style\n",
        "\n",
        "2. image and\n",
        "\n",
        "3. format\n",
        "\n",
        "We have extract the value from the column 'style' and stored it in the column 'format'. Also, the column 'image' does not hold any significance as it contains only 2233 Non-null values. Therefore we will remove the columns 'style' and 'image' in subsequent steps."
      ],
      "metadata": {
        "id": "-kOVtyAlemS4"
      }
    },
    {
      "cell_type": "code",
      "source": [
        "source_dataset.info()"
      ],
      "metadata": {
        "id": "pIIUNY0T-jQg",
        "colab": {
          "base_uri": "https://localhost:8080/"
        },
        "outputId": "c7f8e168-b916-4f84-a46a-c4552baed4a1"
      },
      "execution_count": null,
      "outputs": [
        {
          "output_type": "stream",
          "name": "stdout",
          "text": [
            "<class 'pandas.core.frame.DataFrame'>\n",
            "RangeIndex: 1000000 entries, 0 to 999999\n",
            "Data columns (total 13 columns):\n",
            " #   Column          Non-Null Count    Dtype  \n",
            "---  ------          --------------    -----  \n",
            " 0   overall         1000000 non-null  Int64  \n",
            " 1   vote            195489 non-null   string \n",
            " 2   verified        1000000 non-null  boolean\n",
            " 3   reviewTime      1000000 non-null  string \n",
            " 4   reviewerID      1000000 non-null  string \n",
            " 5   asin            1000000 non-null  string \n",
            " 6   style           982181 non-null   object \n",
            " 7   reviewerName    999966 non-null   string \n",
            " 8   reviewText      999876 non-null   string \n",
            " 9   summary         999693 non-null   string \n",
            " 10  unixReviewTime  1000000 non-null  Int64  \n",
            " 11  image           2233 non-null     object \n",
            " 12  format          999940 non-null   object \n",
            "dtypes: Int64(2), boolean(1), object(3), string(7)\n",
            "memory usage: 95.4+ MB\n"
          ]
        }
      ]
    },
    {
      "cell_type": "markdown",
      "source": [
        "##Fitting the best possible datatype for the column 'format'"
      ],
      "metadata": {
        "id": "nIucXkXwfaAj"
      }
    },
    {
      "cell_type": "code",
      "source": [
        "source_dataset = source_dataset.convert_dtypes()\n",
        "source_dataset.info()"
      ],
      "metadata": {
        "id": "ZrCOh-mR-n-Q",
        "colab": {
          "base_uri": "https://localhost:8080/"
        },
        "outputId": "dcce306a-0b6e-49d2-8be3-ddc53afc25a0"
      },
      "execution_count": null,
      "outputs": [
        {
          "output_type": "stream",
          "name": "stdout",
          "text": [
            "<class 'pandas.core.frame.DataFrame'>\n",
            "RangeIndex: 1000000 entries, 0 to 999999\n",
            "Data columns (total 13 columns):\n",
            " #   Column          Non-Null Count    Dtype  \n",
            "---  ------          --------------    -----  \n",
            " 0   overall         1000000 non-null  Int64  \n",
            " 1   vote            195489 non-null   string \n",
            " 2   verified        1000000 non-null  boolean\n",
            " 3   reviewTime      1000000 non-null  string \n",
            " 4   reviewerID      1000000 non-null  string \n",
            " 5   asin            1000000 non-null  string \n",
            " 6   style           982181 non-null   object \n",
            " 7   reviewerName    999966 non-null   string \n",
            " 8   reviewText      999876 non-null   string \n",
            " 9   summary         999693 non-null   string \n",
            " 10  unixReviewTime  1000000 non-null  Int64  \n",
            " 11  image           2233 non-null     object \n",
            " 12  format          999940 non-null   string \n",
            "dtypes: Int64(2), boolean(1), object(2), string(8)\n",
            "memory usage: 95.4+ MB\n"
          ]
        }
      ]
    },
    {
      "cell_type": "code",
      "source": [
        "source_dataset.drop(columns=[\"style\",\"image\"],axis=1,inplace=True)"
      ],
      "metadata": {
        "id": "kDD1ZxPPh5b-"
      },
      "execution_count": null,
      "outputs": []
    },
    {
      "cell_type": "code",
      "source": [
        "source_dataset.drop(columns=[\"vote\"],axis=1,inplace=True)"
      ],
      "metadata": {
        "id": "RZSE-SzgPYrO"
      },
      "execution_count": null,
      "outputs": []
    },
    {
      "cell_type": "code",
      "source": [
        "source_dataset.columns"
      ],
      "metadata": {
        "id": "BHDl-asVl222",
        "colab": {
          "base_uri": "https://localhost:8080/"
        },
        "outputId": "966fb202-8140-48e9-fdf1-b483c7bf0d1c"
      },
      "execution_count": null,
      "outputs": [
        {
          "output_type": "execute_result",
          "data": {
            "text/plain": [
              "Index(['overall', 'verified', 'reviewTime', 'reviewerID', 'asin',\n",
              "       'reviewerName', 'reviewText', 'summary', 'unixReviewTime', 'format'],\n",
              "      dtype='object')"
            ]
          },
          "metadata": {},
          "execution_count": 20
        }
      ]
    },
    {
      "cell_type": "markdown",
      "source": [
        "## Let us now add some more properties to the dataframe.\n",
        "First we will add the following properties for the reviewText:\n",
        "\n",
        "● Number of characters.\n",
        "\n",
        "● The number of words.\n",
        "\n",
        "● Boolean Value to indicate the presence of non-alphanumeric characters.\n"
      ],
      "metadata": {
        "id": "AEtI7IQrOYJ2"
      }
    },
    {
      "cell_type": "code",
      "source": [
        "source_dataset.head(5)"
      ],
      "metadata": {
        "id": "lfLEsD0JhqMY",
        "colab": {
          "base_uri": "https://localhost:8080/",
          "height": 206
        },
        "outputId": "79df0b37-910d-4712-b3f7-d7593e582229"
      },
      "execution_count": null,
      "outputs": [
        {
          "output_type": "execute_result",
          "data": {
            "text/plain": [
              "   overall  verified   reviewTime      reviewerID        asin  \\\n",
              "0        3     False  05 18, 2002   AJ8AQG2X9JJ2Y  0001712799   \n",
              "1        5      True  12 11, 2014  A12Q7B7NT716RV  0001712799   \n",
              "2        4     False   01 6, 2006  A1DK5AZMXS1QA3  0002006448   \n",
              "3        4     False   12 8, 2014  A1JMSX54DO3LOP  0002005263   \n",
              "4        2      True   03 3, 2014  A2IP27AZB3D1SM  0002005263   \n",
              "\n",
              "      reviewerName                                         reviewText  \\\n",
              "0   Donald Gillies  Dr. Seuss has some really brilliant books.  Th...   \n",
              "1  True Value Girl                                            Love it   \n",
              "2       Newton Ooi  Hand-woven carpets are one of the few products...   \n",
              "3        Bookzilla  Compelling, twisting mystery involving several...   \n",
              "4   J. A. Drummond  I have read many of the Hillerman books and en...   \n",
              "\n",
              "                          summary  unixReviewTime                     format  \n",
              "0  A below-average Dr. Seuss Book      1021680000   School & Library Binding  \n",
              "1                      Five Stars      1418256000                  Hardcover  \n",
              "2              Tourism as history      1136505600                  Hardcover  \n",
              "3    Compelling, twisting mystery      1417996800             Kindle Edition  \n",
              "4            Tony missed the mark      1393804800             Kindle Edition  "
            ],
            "text/html": [
              "\n",
              "  <div id=\"df-78514551-3392-435a-8be8-d4b609de364a\">\n",
              "    <div class=\"colab-df-container\">\n",
              "      <div>\n",
              "<style scoped>\n",
              "    .dataframe tbody tr th:only-of-type {\n",
              "        vertical-align: middle;\n",
              "    }\n",
              "\n",
              "    .dataframe tbody tr th {\n",
              "        vertical-align: top;\n",
              "    }\n",
              "\n",
              "    .dataframe thead th {\n",
              "        text-align: right;\n",
              "    }\n",
              "</style>\n",
              "<table border=\"1\" class=\"dataframe\">\n",
              "  <thead>\n",
              "    <tr style=\"text-align: right;\">\n",
              "      <th></th>\n",
              "      <th>overall</th>\n",
              "      <th>verified</th>\n",
              "      <th>reviewTime</th>\n",
              "      <th>reviewerID</th>\n",
              "      <th>asin</th>\n",
              "      <th>reviewerName</th>\n",
              "      <th>reviewText</th>\n",
              "      <th>summary</th>\n",
              "      <th>unixReviewTime</th>\n",
              "      <th>format</th>\n",
              "    </tr>\n",
              "  </thead>\n",
              "  <tbody>\n",
              "    <tr>\n",
              "      <th>0</th>\n",
              "      <td>3</td>\n",
              "      <td>False</td>\n",
              "      <td>05 18, 2002</td>\n",
              "      <td>AJ8AQG2X9JJ2Y</td>\n",
              "      <td>0001712799</td>\n",
              "      <td>Donald Gillies</td>\n",
              "      <td>Dr. Seuss has some really brilliant books.  Th...</td>\n",
              "      <td>A below-average Dr. Seuss Book</td>\n",
              "      <td>1021680000</td>\n",
              "      <td>School &amp; Library Binding</td>\n",
              "    </tr>\n",
              "    <tr>\n",
              "      <th>1</th>\n",
              "      <td>5</td>\n",
              "      <td>True</td>\n",
              "      <td>12 11, 2014</td>\n",
              "      <td>A12Q7B7NT716RV</td>\n",
              "      <td>0001712799</td>\n",
              "      <td>True Value Girl</td>\n",
              "      <td>Love it</td>\n",
              "      <td>Five Stars</td>\n",
              "      <td>1418256000</td>\n",
              "      <td>Hardcover</td>\n",
              "    </tr>\n",
              "    <tr>\n",
              "      <th>2</th>\n",
              "      <td>4</td>\n",
              "      <td>False</td>\n",
              "      <td>01 6, 2006</td>\n",
              "      <td>A1DK5AZMXS1QA3</td>\n",
              "      <td>0002006448</td>\n",
              "      <td>Newton Ooi</td>\n",
              "      <td>Hand-woven carpets are one of the few products...</td>\n",
              "      <td>Tourism as history</td>\n",
              "      <td>1136505600</td>\n",
              "      <td>Hardcover</td>\n",
              "    </tr>\n",
              "    <tr>\n",
              "      <th>3</th>\n",
              "      <td>4</td>\n",
              "      <td>False</td>\n",
              "      <td>12 8, 2014</td>\n",
              "      <td>A1JMSX54DO3LOP</td>\n",
              "      <td>0002005263</td>\n",
              "      <td>Bookzilla</td>\n",
              "      <td>Compelling, twisting mystery involving several...</td>\n",
              "      <td>Compelling, twisting mystery</td>\n",
              "      <td>1417996800</td>\n",
              "      <td>Kindle Edition</td>\n",
              "    </tr>\n",
              "    <tr>\n",
              "      <th>4</th>\n",
              "      <td>2</td>\n",
              "      <td>True</td>\n",
              "      <td>03 3, 2014</td>\n",
              "      <td>A2IP27AZB3D1SM</td>\n",
              "      <td>0002005263</td>\n",
              "      <td>J. A. Drummond</td>\n",
              "      <td>I have read many of the Hillerman books and en...</td>\n",
              "      <td>Tony missed the mark</td>\n",
              "      <td>1393804800</td>\n",
              "      <td>Kindle Edition</td>\n",
              "    </tr>\n",
              "  </tbody>\n",
              "</table>\n",
              "</div>\n",
              "      <button class=\"colab-df-convert\" onclick=\"convertToInteractive('df-78514551-3392-435a-8be8-d4b609de364a')\"\n",
              "              title=\"Convert this dataframe to an interactive table.\"\n",
              "              style=\"display:none;\">\n",
              "        \n",
              "  <svg xmlns=\"http://www.w3.org/2000/svg\" height=\"24px\"viewBox=\"0 0 24 24\"\n",
              "       width=\"24px\">\n",
              "    <path d=\"M0 0h24v24H0V0z\" fill=\"none\"/>\n",
              "    <path d=\"M18.56 5.44l.94 2.06.94-2.06 2.06-.94-2.06-.94-.94-2.06-.94 2.06-2.06.94zm-11 1L8.5 8.5l.94-2.06 2.06-.94-2.06-.94L8.5 2.5l-.94 2.06-2.06.94zm10 10l.94 2.06.94-2.06 2.06-.94-2.06-.94-.94-2.06-.94 2.06-2.06.94z\"/><path d=\"M17.41 7.96l-1.37-1.37c-.4-.4-.92-.59-1.43-.59-.52 0-1.04.2-1.43.59L10.3 9.45l-7.72 7.72c-.78.78-.78 2.05 0 2.83L4 21.41c.39.39.9.59 1.41.59.51 0 1.02-.2 1.41-.59l7.78-7.78 2.81-2.81c.8-.78.8-2.07 0-2.86zM5.41 20L4 18.59l7.72-7.72 1.47 1.35L5.41 20z\"/>\n",
              "  </svg>\n",
              "      </button>\n",
              "      \n",
              "  <style>\n",
              "    .colab-df-container {\n",
              "      display:flex;\n",
              "      flex-wrap:wrap;\n",
              "      gap: 12px;\n",
              "    }\n",
              "\n",
              "    .colab-df-convert {\n",
              "      background-color: #E8F0FE;\n",
              "      border: none;\n",
              "      border-radius: 50%;\n",
              "      cursor: pointer;\n",
              "      display: none;\n",
              "      fill: #1967D2;\n",
              "      height: 32px;\n",
              "      padding: 0 0 0 0;\n",
              "      width: 32px;\n",
              "    }\n",
              "\n",
              "    .colab-df-convert:hover {\n",
              "      background-color: #E2EBFA;\n",
              "      box-shadow: 0px 1px 2px rgba(60, 64, 67, 0.3), 0px 1px 3px 1px rgba(60, 64, 67, 0.15);\n",
              "      fill: #174EA6;\n",
              "    }\n",
              "\n",
              "    [theme=dark] .colab-df-convert {\n",
              "      background-color: #3B4455;\n",
              "      fill: #D2E3FC;\n",
              "    }\n",
              "\n",
              "    [theme=dark] .colab-df-convert:hover {\n",
              "      background-color: #434B5C;\n",
              "      box-shadow: 0px 1px 3px 1px rgba(0, 0, 0, 0.15);\n",
              "      filter: drop-shadow(0px 1px 2px rgba(0, 0, 0, 0.3));\n",
              "      fill: #FFFFFF;\n",
              "    }\n",
              "  </style>\n",
              "\n",
              "      <script>\n",
              "        const buttonEl =\n",
              "          document.querySelector('#df-78514551-3392-435a-8be8-d4b609de364a button.colab-df-convert');\n",
              "        buttonEl.style.display =\n",
              "          google.colab.kernel.accessAllowed ? 'block' : 'none';\n",
              "\n",
              "        async function convertToInteractive(key) {\n",
              "          const element = document.querySelector('#df-78514551-3392-435a-8be8-d4b609de364a');\n",
              "          const dataTable =\n",
              "            await google.colab.kernel.invokeFunction('convertToInteractive',\n",
              "                                                     [key], {});\n",
              "          if (!dataTable) return;\n",
              "\n",
              "          const docLinkHtml = 'Like what you see? Visit the ' +\n",
              "            '<a target=\"_blank\" href=https://colab.research.google.com/notebooks/data_table.ipynb>data table notebook</a>'\n",
              "            + ' to learn more about interactive tables.';\n",
              "          element.innerHTML = '';\n",
              "          dataTable['output_type'] = 'display_data';\n",
              "          await google.colab.output.renderOutput(dataTable, element);\n",
              "          const docLink = document.createElement('div');\n",
              "          docLink.innerHTML = docLinkHtml;\n",
              "          element.appendChild(docLink);\n",
              "        }\n",
              "      </script>\n",
              "    </div>\n",
              "  </div>\n",
              "  "
            ]
          },
          "metadata": {},
          "execution_count": 21
        }
      ]
    },
    {
      "cell_type": "code",
      "source": [
        "import nltk\n",
        "from nltk.tokenize import sent_tokenize\n",
        "from nltk.tokenize import word_tokenize\n",
        "from nltk.probability import FreqDist\n",
        "nltk.download('punkt')"
      ],
      "metadata": {
        "id": "46geinhsj6u9",
        "colab": {
          "base_uri": "https://localhost:8080/"
        },
        "outputId": "f6391fe2-b90f-4cae-a273-6ea1acf79b30"
      },
      "execution_count": null,
      "outputs": [
        {
          "output_type": "stream",
          "name": "stderr",
          "text": [
            "[nltk_data] Downloading package punkt to /root/nltk_data...\n",
            "[nltk_data]   Package punkt is already up-to-date!\n"
          ]
        },
        {
          "output_type": "execute_result",
          "data": {
            "text/plain": [
              "True"
            ]
          },
          "metadata": {},
          "execution_count": 22
        }
      ]
    },
    {
      "cell_type": "markdown",
      "source": [
        "## Creating a column for the total number of characters in each Review Text Instance"
      ],
      "metadata": {
        "id": "jhSLAs1vLrHy"
      }
    },
    {
      "cell_type": "code",
      "source": [
        "source_dataset['reviewText_num_characters'] = [len(d) if isinstance(d,str) else 0 for d in source_dataset['reviewText']]\n",
        "# source_dataset['format'] = [d.get(\"Format:\") if isinstance(d,dict) else 'No Format' for d in source_dataset['style']]"
      ],
      "metadata": {
        "id": "ZyzKgMZtlf9K"
      },
      "execution_count": null,
      "outputs": []
    },
    {
      "cell_type": "markdown",
      "source": [
        "## Creating a column for the total number of words in each Review Text Instance"
      ],
      "metadata": {
        "id": "l1hdYhaVLxC3"
      }
    },
    {
      "cell_type": "code",
      "source": [
        "source_dataset['reviewText_num_words'] = [len(d.split()) if isinstance(d,str) else 0 for d in source_dataset['reviewText']]\n"
      ],
      "metadata": {
        "id": "QGXUX_pjxqgH"
      },
      "execution_count": null,
      "outputs": []
    },
    {
      "cell_type": "markdown",
      "source": [
        "## Creating a column for verifying if the reviewText containes Non-AlphaNumeric characters"
      ],
      "metadata": {
        "id": "VdDXXoi5Lysd"
      }
    },
    {
      "cell_type": "code",
      "source": [
        "source_dataset['contains_Non_AlphaNumeric'] = [\"False\" if isinstance(d,str) and d.replace(\" \",\"\").isalnum()  else \"True\" for d in source_dataset['reviewText']]"
      ],
      "metadata": {
        "id": "hnNN9Y00JdlF"
      },
      "execution_count": null,
      "outputs": []
    },
    {
      "cell_type": "code",
      "source": [
        "# # source_dataset[source_dataset['reviewText_num_words'] == 1.0])\n",
        "# # type(source_dataset['reviewText'][5847])\n",
        "# for d in source_dataset['reviewText']:\n",
        "#   if isinstance(d,str) and d.replace(\" \",\"\").isalnum():\n",
        "#     print(\"True - No SPl\")\n",
        "#   else:\n",
        "#     print(\"No Review Text\")"
      ],
      "metadata": {
        "id": "hFinpQC_oVYW"
      },
      "execution_count": null,
      "outputs": []
    },
    {
      "cell_type": "code",
      "source": [
        "source_dataset.head(5)"
      ],
      "metadata": {
        "id": "XxFNs6UdrMrx",
        "colab": {
          "base_uri": "https://localhost:8080/",
          "height": 302
        },
        "outputId": "588d40d3-9007-49df-d916-da06fb31bcf9"
      },
      "execution_count": null,
      "outputs": [
        {
          "output_type": "execute_result",
          "data": {
            "text/plain": [
              "   overall  verified   reviewTime      reviewerID        asin  \\\n",
              "0        3     False  05 18, 2002   AJ8AQG2X9JJ2Y  0001712799   \n",
              "1        5      True  12 11, 2014  A12Q7B7NT716RV  0001712799   \n",
              "2        4     False   01 6, 2006  A1DK5AZMXS1QA3  0002006448   \n",
              "3        4     False   12 8, 2014  A1JMSX54DO3LOP  0002005263   \n",
              "4        2      True   03 3, 2014  A2IP27AZB3D1SM  0002005263   \n",
              "\n",
              "      reviewerName                                         reviewText  \\\n",
              "0   Donald Gillies  Dr. Seuss has some really brilliant books.  Th...   \n",
              "1  True Value Girl                                            Love it   \n",
              "2       Newton Ooi  Hand-woven carpets are one of the few products...   \n",
              "3        Bookzilla  Compelling, twisting mystery involving several...   \n",
              "4   J. A. Drummond  I have read many of the Hillerman books and en...   \n",
              "\n",
              "                          summary  unixReviewTime                     format  \\\n",
              "0  A below-average Dr. Seuss Book      1021680000   School & Library Binding   \n",
              "1                      Five Stars      1418256000                  Hardcover   \n",
              "2              Tourism as history      1136505600                  Hardcover   \n",
              "3    Compelling, twisting mystery      1417996800             Kindle Edition   \n",
              "4            Tony missed the mark      1393804800             Kindle Edition   \n",
              "\n",
              "   reviewText_num_characters  reviewText_num_words contains_Non_AlphaNumeric  \n",
              "0                        617                   117                      True  \n",
              "1                          7                     2                     False  \n",
              "2                       1419                   247                      True  \n",
              "3                        314                    45                      True  \n",
              "4                        235                    45                      True  "
            ],
            "text/html": [
              "\n",
              "  <div id=\"df-014a95b1-13d3-432a-b780-ac554d542e93\">\n",
              "    <div class=\"colab-df-container\">\n",
              "      <div>\n",
              "<style scoped>\n",
              "    .dataframe tbody tr th:only-of-type {\n",
              "        vertical-align: middle;\n",
              "    }\n",
              "\n",
              "    .dataframe tbody tr th {\n",
              "        vertical-align: top;\n",
              "    }\n",
              "\n",
              "    .dataframe thead th {\n",
              "        text-align: right;\n",
              "    }\n",
              "</style>\n",
              "<table border=\"1\" class=\"dataframe\">\n",
              "  <thead>\n",
              "    <tr style=\"text-align: right;\">\n",
              "      <th></th>\n",
              "      <th>overall</th>\n",
              "      <th>verified</th>\n",
              "      <th>reviewTime</th>\n",
              "      <th>reviewerID</th>\n",
              "      <th>asin</th>\n",
              "      <th>reviewerName</th>\n",
              "      <th>reviewText</th>\n",
              "      <th>summary</th>\n",
              "      <th>unixReviewTime</th>\n",
              "      <th>format</th>\n",
              "      <th>reviewText_num_characters</th>\n",
              "      <th>reviewText_num_words</th>\n",
              "      <th>contains_Non_AlphaNumeric</th>\n",
              "    </tr>\n",
              "  </thead>\n",
              "  <tbody>\n",
              "    <tr>\n",
              "      <th>0</th>\n",
              "      <td>3</td>\n",
              "      <td>False</td>\n",
              "      <td>05 18, 2002</td>\n",
              "      <td>AJ8AQG2X9JJ2Y</td>\n",
              "      <td>0001712799</td>\n",
              "      <td>Donald Gillies</td>\n",
              "      <td>Dr. Seuss has some really brilliant books.  Th...</td>\n",
              "      <td>A below-average Dr. Seuss Book</td>\n",
              "      <td>1021680000</td>\n",
              "      <td>School &amp; Library Binding</td>\n",
              "      <td>617</td>\n",
              "      <td>117</td>\n",
              "      <td>True</td>\n",
              "    </tr>\n",
              "    <tr>\n",
              "      <th>1</th>\n",
              "      <td>5</td>\n",
              "      <td>True</td>\n",
              "      <td>12 11, 2014</td>\n",
              "      <td>A12Q7B7NT716RV</td>\n",
              "      <td>0001712799</td>\n",
              "      <td>True Value Girl</td>\n",
              "      <td>Love it</td>\n",
              "      <td>Five Stars</td>\n",
              "      <td>1418256000</td>\n",
              "      <td>Hardcover</td>\n",
              "      <td>7</td>\n",
              "      <td>2</td>\n",
              "      <td>False</td>\n",
              "    </tr>\n",
              "    <tr>\n",
              "      <th>2</th>\n",
              "      <td>4</td>\n",
              "      <td>False</td>\n",
              "      <td>01 6, 2006</td>\n",
              "      <td>A1DK5AZMXS1QA3</td>\n",
              "      <td>0002006448</td>\n",
              "      <td>Newton Ooi</td>\n",
              "      <td>Hand-woven carpets are one of the few products...</td>\n",
              "      <td>Tourism as history</td>\n",
              "      <td>1136505600</td>\n",
              "      <td>Hardcover</td>\n",
              "      <td>1419</td>\n",
              "      <td>247</td>\n",
              "      <td>True</td>\n",
              "    </tr>\n",
              "    <tr>\n",
              "      <th>3</th>\n",
              "      <td>4</td>\n",
              "      <td>False</td>\n",
              "      <td>12 8, 2014</td>\n",
              "      <td>A1JMSX54DO3LOP</td>\n",
              "      <td>0002005263</td>\n",
              "      <td>Bookzilla</td>\n",
              "      <td>Compelling, twisting mystery involving several...</td>\n",
              "      <td>Compelling, twisting mystery</td>\n",
              "      <td>1417996800</td>\n",
              "      <td>Kindle Edition</td>\n",
              "      <td>314</td>\n",
              "      <td>45</td>\n",
              "      <td>True</td>\n",
              "    </tr>\n",
              "    <tr>\n",
              "      <th>4</th>\n",
              "      <td>2</td>\n",
              "      <td>True</td>\n",
              "      <td>03 3, 2014</td>\n",
              "      <td>A2IP27AZB3D1SM</td>\n",
              "      <td>0002005263</td>\n",
              "      <td>J. A. Drummond</td>\n",
              "      <td>I have read many of the Hillerman books and en...</td>\n",
              "      <td>Tony missed the mark</td>\n",
              "      <td>1393804800</td>\n",
              "      <td>Kindle Edition</td>\n",
              "      <td>235</td>\n",
              "      <td>45</td>\n",
              "      <td>True</td>\n",
              "    </tr>\n",
              "  </tbody>\n",
              "</table>\n",
              "</div>\n",
              "      <button class=\"colab-df-convert\" onclick=\"convertToInteractive('df-014a95b1-13d3-432a-b780-ac554d542e93')\"\n",
              "              title=\"Convert this dataframe to an interactive table.\"\n",
              "              style=\"display:none;\">\n",
              "        \n",
              "  <svg xmlns=\"http://www.w3.org/2000/svg\" height=\"24px\"viewBox=\"0 0 24 24\"\n",
              "       width=\"24px\">\n",
              "    <path d=\"M0 0h24v24H0V0z\" fill=\"none\"/>\n",
              "    <path d=\"M18.56 5.44l.94 2.06.94-2.06 2.06-.94-2.06-.94-.94-2.06-.94 2.06-2.06.94zm-11 1L8.5 8.5l.94-2.06 2.06-.94-2.06-.94L8.5 2.5l-.94 2.06-2.06.94zm10 10l.94 2.06.94-2.06 2.06-.94-2.06-.94-.94-2.06-.94 2.06-2.06.94z\"/><path d=\"M17.41 7.96l-1.37-1.37c-.4-.4-.92-.59-1.43-.59-.52 0-1.04.2-1.43.59L10.3 9.45l-7.72 7.72c-.78.78-.78 2.05 0 2.83L4 21.41c.39.39.9.59 1.41.59.51 0 1.02-.2 1.41-.59l7.78-7.78 2.81-2.81c.8-.78.8-2.07 0-2.86zM5.41 20L4 18.59l7.72-7.72 1.47 1.35L5.41 20z\"/>\n",
              "  </svg>\n",
              "      </button>\n",
              "      \n",
              "  <style>\n",
              "    .colab-df-container {\n",
              "      display:flex;\n",
              "      flex-wrap:wrap;\n",
              "      gap: 12px;\n",
              "    }\n",
              "\n",
              "    .colab-df-convert {\n",
              "      background-color: #E8F0FE;\n",
              "      border: none;\n",
              "      border-radius: 50%;\n",
              "      cursor: pointer;\n",
              "      display: none;\n",
              "      fill: #1967D2;\n",
              "      height: 32px;\n",
              "      padding: 0 0 0 0;\n",
              "      width: 32px;\n",
              "    }\n",
              "\n",
              "    .colab-df-convert:hover {\n",
              "      background-color: #E2EBFA;\n",
              "      box-shadow: 0px 1px 2px rgba(60, 64, 67, 0.3), 0px 1px 3px 1px rgba(60, 64, 67, 0.15);\n",
              "      fill: #174EA6;\n",
              "    }\n",
              "\n",
              "    [theme=dark] .colab-df-convert {\n",
              "      background-color: #3B4455;\n",
              "      fill: #D2E3FC;\n",
              "    }\n",
              "\n",
              "    [theme=dark] .colab-df-convert:hover {\n",
              "      background-color: #434B5C;\n",
              "      box-shadow: 0px 1px 3px 1px rgba(0, 0, 0, 0.15);\n",
              "      filter: drop-shadow(0px 1px 2px rgba(0, 0, 0, 0.3));\n",
              "      fill: #FFFFFF;\n",
              "    }\n",
              "  </style>\n",
              "\n",
              "      <script>\n",
              "        const buttonEl =\n",
              "          document.querySelector('#df-014a95b1-13d3-432a-b780-ac554d542e93 button.colab-df-convert');\n",
              "        buttonEl.style.display =\n",
              "          google.colab.kernel.accessAllowed ? 'block' : 'none';\n",
              "\n",
              "        async function convertToInteractive(key) {\n",
              "          const element = document.querySelector('#df-014a95b1-13d3-432a-b780-ac554d542e93');\n",
              "          const dataTable =\n",
              "            await google.colab.kernel.invokeFunction('convertToInteractive',\n",
              "                                                     [key], {});\n",
              "          if (!dataTable) return;\n",
              "\n",
              "          const docLinkHtml = 'Like what you see? Visit the ' +\n",
              "            '<a target=\"_blank\" href=https://colab.research.google.com/notebooks/data_table.ipynb>data table notebook</a>'\n",
              "            + ' to learn more about interactive tables.';\n",
              "          element.innerHTML = '';\n",
              "          dataTable['output_type'] = 'display_data';\n",
              "          await google.colab.output.renderOutput(dataTable, element);\n",
              "          const docLink = document.createElement('div');\n",
              "          docLink.innerHTML = docLinkHtml;\n",
              "          element.appendChild(docLink);\n",
              "        }\n",
              "      </script>\n",
              "    </div>\n",
              "  </div>\n",
              "  "
            ]
          },
          "metadata": {},
          "execution_count": 27
        }
      ]
    },
    {
      "cell_type": "markdown",
      "source": [
        "# Split the Datatypes into Numerical and Categorical attributes"
      ],
      "metadata": {
        "id": "YiH0Xe-dkvjg"
      }
    },
    {
      "cell_type": "markdown",
      "source": [
        "**Let's Segregate the columns with numerical values**"
      ],
      "metadata": {
        "id": "LnYG-El4jiWp"
      }
    },
    {
      "cell_type": "code",
      "source": [
        "source_dataset.describe(include=['number'])"
      ],
      "metadata": {
        "id": "70-SlRM4sSuz",
        "colab": {
          "base_uri": "https://localhost:8080/",
          "height": 394
        },
        "outputId": "b5292095-1231-4338-80ce-45ffcae7c379"
      },
      "execution_count": null,
      "outputs": [
        {
          "output_type": "execute_result",
          "data": {
            "text/plain": [
              "          overall verified  unixReviewTime  reviewText_num_characters  \\\n",
              "count  1000000.00  1000000      1000000.00                 1000000.00   \n",
              "unique        NaN        2             NaN                        NaN   \n",
              "top           NaN     True             NaN                        NaN   \n",
              "freq          NaN   674237             NaN                        NaN   \n",
              "mean         4.37      NaN   1406255022.37                     541.05   \n",
              "std          1.00      NaN    101010911.58                     867.98   \n",
              "min          1.00      NaN    849657600.00                       0.00   \n",
              "25%          4.00      NaN   1376265600.00                     114.00   \n",
              "50%          5.00      NaN   1425686400.00                     227.00   \n",
              "75%          5.00      NaN   1472601600.00                     599.00   \n",
              "max          5.00      NaN   1537920000.00                   31759.00   \n",
              "\n",
              "        reviewText_num_words  \n",
              "count             1000000.00  \n",
              "unique                   NaN  \n",
              "top                      NaN  \n",
              "freq                     NaN  \n",
              "mean                   96.48  \n",
              "std                   150.61  \n",
              "min                     0.00  \n",
              "25%                    21.00  \n",
              "50%                    42.00  \n",
              "75%                   108.00  \n",
              "max                  5359.00  "
            ],
            "text/html": [
              "\n",
              "  <div id=\"df-224d7e26-a7c2-4b7b-8e0a-000c2a39e536\">\n",
              "    <div class=\"colab-df-container\">\n",
              "      <div>\n",
              "<style scoped>\n",
              "    .dataframe tbody tr th:only-of-type {\n",
              "        vertical-align: middle;\n",
              "    }\n",
              "\n",
              "    .dataframe tbody tr th {\n",
              "        vertical-align: top;\n",
              "    }\n",
              "\n",
              "    .dataframe thead th {\n",
              "        text-align: right;\n",
              "    }\n",
              "</style>\n",
              "<table border=\"1\" class=\"dataframe\">\n",
              "  <thead>\n",
              "    <tr style=\"text-align: right;\">\n",
              "      <th></th>\n",
              "      <th>overall</th>\n",
              "      <th>verified</th>\n",
              "      <th>unixReviewTime</th>\n",
              "      <th>reviewText_num_characters</th>\n",
              "      <th>reviewText_num_words</th>\n",
              "    </tr>\n",
              "  </thead>\n",
              "  <tbody>\n",
              "    <tr>\n",
              "      <th>count</th>\n",
              "      <td>1000000.00</td>\n",
              "      <td>1000000</td>\n",
              "      <td>1000000.00</td>\n",
              "      <td>1000000.00</td>\n",
              "      <td>1000000.00</td>\n",
              "    </tr>\n",
              "    <tr>\n",
              "      <th>unique</th>\n",
              "      <td>NaN</td>\n",
              "      <td>2</td>\n",
              "      <td>NaN</td>\n",
              "      <td>NaN</td>\n",
              "      <td>NaN</td>\n",
              "    </tr>\n",
              "    <tr>\n",
              "      <th>top</th>\n",
              "      <td>NaN</td>\n",
              "      <td>True</td>\n",
              "      <td>NaN</td>\n",
              "      <td>NaN</td>\n",
              "      <td>NaN</td>\n",
              "    </tr>\n",
              "    <tr>\n",
              "      <th>freq</th>\n",
              "      <td>NaN</td>\n",
              "      <td>674237</td>\n",
              "      <td>NaN</td>\n",
              "      <td>NaN</td>\n",
              "      <td>NaN</td>\n",
              "    </tr>\n",
              "    <tr>\n",
              "      <th>mean</th>\n",
              "      <td>4.37</td>\n",
              "      <td>NaN</td>\n",
              "      <td>1406255022.37</td>\n",
              "      <td>541.05</td>\n",
              "      <td>96.48</td>\n",
              "    </tr>\n",
              "    <tr>\n",
              "      <th>std</th>\n",
              "      <td>1.00</td>\n",
              "      <td>NaN</td>\n",
              "      <td>101010911.58</td>\n",
              "      <td>867.98</td>\n",
              "      <td>150.61</td>\n",
              "    </tr>\n",
              "    <tr>\n",
              "      <th>min</th>\n",
              "      <td>1.00</td>\n",
              "      <td>NaN</td>\n",
              "      <td>849657600.00</td>\n",
              "      <td>0.00</td>\n",
              "      <td>0.00</td>\n",
              "    </tr>\n",
              "    <tr>\n",
              "      <th>25%</th>\n",
              "      <td>4.00</td>\n",
              "      <td>NaN</td>\n",
              "      <td>1376265600.00</td>\n",
              "      <td>114.00</td>\n",
              "      <td>21.00</td>\n",
              "    </tr>\n",
              "    <tr>\n",
              "      <th>50%</th>\n",
              "      <td>5.00</td>\n",
              "      <td>NaN</td>\n",
              "      <td>1425686400.00</td>\n",
              "      <td>227.00</td>\n",
              "      <td>42.00</td>\n",
              "    </tr>\n",
              "    <tr>\n",
              "      <th>75%</th>\n",
              "      <td>5.00</td>\n",
              "      <td>NaN</td>\n",
              "      <td>1472601600.00</td>\n",
              "      <td>599.00</td>\n",
              "      <td>108.00</td>\n",
              "    </tr>\n",
              "    <tr>\n",
              "      <th>max</th>\n",
              "      <td>5.00</td>\n",
              "      <td>NaN</td>\n",
              "      <td>1537920000.00</td>\n",
              "      <td>31759.00</td>\n",
              "      <td>5359.00</td>\n",
              "    </tr>\n",
              "  </tbody>\n",
              "</table>\n",
              "</div>\n",
              "      <button class=\"colab-df-convert\" onclick=\"convertToInteractive('df-224d7e26-a7c2-4b7b-8e0a-000c2a39e536')\"\n",
              "              title=\"Convert this dataframe to an interactive table.\"\n",
              "              style=\"display:none;\">\n",
              "        \n",
              "  <svg xmlns=\"http://www.w3.org/2000/svg\" height=\"24px\"viewBox=\"0 0 24 24\"\n",
              "       width=\"24px\">\n",
              "    <path d=\"M0 0h24v24H0V0z\" fill=\"none\"/>\n",
              "    <path d=\"M18.56 5.44l.94 2.06.94-2.06 2.06-.94-2.06-.94-.94-2.06-.94 2.06-2.06.94zm-11 1L8.5 8.5l.94-2.06 2.06-.94-2.06-.94L8.5 2.5l-.94 2.06-2.06.94zm10 10l.94 2.06.94-2.06 2.06-.94-2.06-.94-.94-2.06-.94 2.06-2.06.94z\"/><path d=\"M17.41 7.96l-1.37-1.37c-.4-.4-.92-.59-1.43-.59-.52 0-1.04.2-1.43.59L10.3 9.45l-7.72 7.72c-.78.78-.78 2.05 0 2.83L4 21.41c.39.39.9.59 1.41.59.51 0 1.02-.2 1.41-.59l7.78-7.78 2.81-2.81c.8-.78.8-2.07 0-2.86zM5.41 20L4 18.59l7.72-7.72 1.47 1.35L5.41 20z\"/>\n",
              "  </svg>\n",
              "      </button>\n",
              "      \n",
              "  <style>\n",
              "    .colab-df-container {\n",
              "      display:flex;\n",
              "      flex-wrap:wrap;\n",
              "      gap: 12px;\n",
              "    }\n",
              "\n",
              "    .colab-df-convert {\n",
              "      background-color: #E8F0FE;\n",
              "      border: none;\n",
              "      border-radius: 50%;\n",
              "      cursor: pointer;\n",
              "      display: none;\n",
              "      fill: #1967D2;\n",
              "      height: 32px;\n",
              "      padding: 0 0 0 0;\n",
              "      width: 32px;\n",
              "    }\n",
              "\n",
              "    .colab-df-convert:hover {\n",
              "      background-color: #E2EBFA;\n",
              "      box-shadow: 0px 1px 2px rgba(60, 64, 67, 0.3), 0px 1px 3px 1px rgba(60, 64, 67, 0.15);\n",
              "      fill: #174EA6;\n",
              "    }\n",
              "\n",
              "    [theme=dark] .colab-df-convert {\n",
              "      background-color: #3B4455;\n",
              "      fill: #D2E3FC;\n",
              "    }\n",
              "\n",
              "    [theme=dark] .colab-df-convert:hover {\n",
              "      background-color: #434B5C;\n",
              "      box-shadow: 0px 1px 3px 1px rgba(0, 0, 0, 0.15);\n",
              "      filter: drop-shadow(0px 1px 2px rgba(0, 0, 0, 0.3));\n",
              "      fill: #FFFFFF;\n",
              "    }\n",
              "  </style>\n",
              "\n",
              "      <script>\n",
              "        const buttonEl =\n",
              "          document.querySelector('#df-224d7e26-a7c2-4b7b-8e0a-000c2a39e536 button.colab-df-convert');\n",
              "        buttonEl.style.display =\n",
              "          google.colab.kernel.accessAllowed ? 'block' : 'none';\n",
              "\n",
              "        async function convertToInteractive(key) {\n",
              "          const element = document.querySelector('#df-224d7e26-a7c2-4b7b-8e0a-000c2a39e536');\n",
              "          const dataTable =\n",
              "            await google.colab.kernel.invokeFunction('convertToInteractive',\n",
              "                                                     [key], {});\n",
              "          if (!dataTable) return;\n",
              "\n",
              "          const docLinkHtml = 'Like what you see? Visit the ' +\n",
              "            '<a target=\"_blank\" href=https://colab.research.google.com/notebooks/data_table.ipynb>data table notebook</a>'\n",
              "            + ' to learn more about interactive tables.';\n",
              "          element.innerHTML = '';\n",
              "          dataTable['output_type'] = 'display_data';\n",
              "          await google.colab.output.renderOutput(dataTable, element);\n",
              "          const docLink = document.createElement('div');\n",
              "          docLink.innerHTML = docLinkHtml;\n",
              "          element.appendChild(docLink);\n",
              "        }\n",
              "      </script>\n",
              "    </div>\n",
              "  </div>\n",
              "  "
            ]
          },
          "metadata": {},
          "execution_count": 28
        }
      ]
    },
    {
      "cell_type": "markdown",
      "source": [
        "**Let's Segregate the columns with categorical values**"
      ],
      "metadata": {
        "id": "IKeqmHL5kqlr"
      }
    },
    {
      "cell_type": "code",
      "source": [
        "source_dataset.describe(exclude=['number'])"
      ],
      "metadata": {
        "id": "2MmNcK8lsTzC",
        "colab": {
          "base_uri": "https://localhost:8080/",
          "height": 175
        },
        "outputId": "94eb2f86-82a5-4a42-cf25-3d8ed599ddc0"
      },
      "execution_count": null,
      "outputs": [
        {
          "output_type": "execute_result",
          "data": {
            "text/plain": [
              "         reviewTime      reviewerID        asin     reviewerName reviewText  \\\n",
              "count       1000000         1000000     1000000           999966     999876   \n",
              "unique         7514          610262      323635           435945     952186   \n",
              "top     02 20, 2015  A2F6N60Z96CAJI  038568231X  Amazon Customer      Great   \n",
              "freq           1537             317        1013            46661       1105   \n",
              "\n",
              "           summary           format contains_Non_AlphaNumeric  \n",
              "count       999693           999940                   1000000  \n",
              "unique      629717               90                         2  \n",
              "top     Five Stars   Kindle Edition                      True  \n",
              "freq         93655           561493                    943365  "
            ],
            "text/html": [
              "\n",
              "  <div id=\"df-60427f93-575f-49a9-bbfe-6e87ab5e9eba\">\n",
              "    <div class=\"colab-df-container\">\n",
              "      <div>\n",
              "<style scoped>\n",
              "    .dataframe tbody tr th:only-of-type {\n",
              "        vertical-align: middle;\n",
              "    }\n",
              "\n",
              "    .dataframe tbody tr th {\n",
              "        vertical-align: top;\n",
              "    }\n",
              "\n",
              "    .dataframe thead th {\n",
              "        text-align: right;\n",
              "    }\n",
              "</style>\n",
              "<table border=\"1\" class=\"dataframe\">\n",
              "  <thead>\n",
              "    <tr style=\"text-align: right;\">\n",
              "      <th></th>\n",
              "      <th>reviewTime</th>\n",
              "      <th>reviewerID</th>\n",
              "      <th>asin</th>\n",
              "      <th>reviewerName</th>\n",
              "      <th>reviewText</th>\n",
              "      <th>summary</th>\n",
              "      <th>format</th>\n",
              "      <th>contains_Non_AlphaNumeric</th>\n",
              "    </tr>\n",
              "  </thead>\n",
              "  <tbody>\n",
              "    <tr>\n",
              "      <th>count</th>\n",
              "      <td>1000000</td>\n",
              "      <td>1000000</td>\n",
              "      <td>1000000</td>\n",
              "      <td>999966</td>\n",
              "      <td>999876</td>\n",
              "      <td>999693</td>\n",
              "      <td>999940</td>\n",
              "      <td>1000000</td>\n",
              "    </tr>\n",
              "    <tr>\n",
              "      <th>unique</th>\n",
              "      <td>7514</td>\n",
              "      <td>610262</td>\n",
              "      <td>323635</td>\n",
              "      <td>435945</td>\n",
              "      <td>952186</td>\n",
              "      <td>629717</td>\n",
              "      <td>90</td>\n",
              "      <td>2</td>\n",
              "    </tr>\n",
              "    <tr>\n",
              "      <th>top</th>\n",
              "      <td>02 20, 2015</td>\n",
              "      <td>A2F6N60Z96CAJI</td>\n",
              "      <td>038568231X</td>\n",
              "      <td>Amazon Customer</td>\n",
              "      <td>Great</td>\n",
              "      <td>Five Stars</td>\n",
              "      <td>Kindle Edition</td>\n",
              "      <td>True</td>\n",
              "    </tr>\n",
              "    <tr>\n",
              "      <th>freq</th>\n",
              "      <td>1537</td>\n",
              "      <td>317</td>\n",
              "      <td>1013</td>\n",
              "      <td>46661</td>\n",
              "      <td>1105</td>\n",
              "      <td>93655</td>\n",
              "      <td>561493</td>\n",
              "      <td>943365</td>\n",
              "    </tr>\n",
              "  </tbody>\n",
              "</table>\n",
              "</div>\n",
              "      <button class=\"colab-df-convert\" onclick=\"convertToInteractive('df-60427f93-575f-49a9-bbfe-6e87ab5e9eba')\"\n",
              "              title=\"Convert this dataframe to an interactive table.\"\n",
              "              style=\"display:none;\">\n",
              "        \n",
              "  <svg xmlns=\"http://www.w3.org/2000/svg\" height=\"24px\"viewBox=\"0 0 24 24\"\n",
              "       width=\"24px\">\n",
              "    <path d=\"M0 0h24v24H0V0z\" fill=\"none\"/>\n",
              "    <path d=\"M18.56 5.44l.94 2.06.94-2.06 2.06-.94-2.06-.94-.94-2.06-.94 2.06-2.06.94zm-11 1L8.5 8.5l.94-2.06 2.06-.94-2.06-.94L8.5 2.5l-.94 2.06-2.06.94zm10 10l.94 2.06.94-2.06 2.06-.94-2.06-.94-.94-2.06-.94 2.06-2.06.94z\"/><path d=\"M17.41 7.96l-1.37-1.37c-.4-.4-.92-.59-1.43-.59-.52 0-1.04.2-1.43.59L10.3 9.45l-7.72 7.72c-.78.78-.78 2.05 0 2.83L4 21.41c.39.39.9.59 1.41.59.51 0 1.02-.2 1.41-.59l7.78-7.78 2.81-2.81c.8-.78.8-2.07 0-2.86zM5.41 20L4 18.59l7.72-7.72 1.47 1.35L5.41 20z\"/>\n",
              "  </svg>\n",
              "      </button>\n",
              "      \n",
              "  <style>\n",
              "    .colab-df-container {\n",
              "      display:flex;\n",
              "      flex-wrap:wrap;\n",
              "      gap: 12px;\n",
              "    }\n",
              "\n",
              "    .colab-df-convert {\n",
              "      background-color: #E8F0FE;\n",
              "      border: none;\n",
              "      border-radius: 50%;\n",
              "      cursor: pointer;\n",
              "      display: none;\n",
              "      fill: #1967D2;\n",
              "      height: 32px;\n",
              "      padding: 0 0 0 0;\n",
              "      width: 32px;\n",
              "    }\n",
              "\n",
              "    .colab-df-convert:hover {\n",
              "      background-color: #E2EBFA;\n",
              "      box-shadow: 0px 1px 2px rgba(60, 64, 67, 0.3), 0px 1px 3px 1px rgba(60, 64, 67, 0.15);\n",
              "      fill: #174EA6;\n",
              "    }\n",
              "\n",
              "    [theme=dark] .colab-df-convert {\n",
              "      background-color: #3B4455;\n",
              "      fill: #D2E3FC;\n",
              "    }\n",
              "\n",
              "    [theme=dark] .colab-df-convert:hover {\n",
              "      background-color: #434B5C;\n",
              "      box-shadow: 0px 1px 3px 1px rgba(0, 0, 0, 0.15);\n",
              "      filter: drop-shadow(0px 1px 2px rgba(0, 0, 0, 0.3));\n",
              "      fill: #FFFFFF;\n",
              "    }\n",
              "  </style>\n",
              "\n",
              "      <script>\n",
              "        const buttonEl =\n",
              "          document.querySelector('#df-60427f93-575f-49a9-bbfe-6e87ab5e9eba button.colab-df-convert');\n",
              "        buttonEl.style.display =\n",
              "          google.colab.kernel.accessAllowed ? 'block' : 'none';\n",
              "\n",
              "        async function convertToInteractive(key) {\n",
              "          const element = document.querySelector('#df-60427f93-575f-49a9-bbfe-6e87ab5e9eba');\n",
              "          const dataTable =\n",
              "            await google.colab.kernel.invokeFunction('convertToInteractive',\n",
              "                                                     [key], {});\n",
              "          if (!dataTable) return;\n",
              "\n",
              "          const docLinkHtml = 'Like what you see? Visit the ' +\n",
              "            '<a target=\"_blank\" href=https://colab.research.google.com/notebooks/data_table.ipynb>data table notebook</a>'\n",
              "            + ' to learn more about interactive tables.';\n",
              "          element.innerHTML = '';\n",
              "          dataTable['output_type'] = 'display_data';\n",
              "          await google.colab.output.renderOutput(dataTable, element);\n",
              "          const docLink = document.createElement('div');\n",
              "          docLink.innerHTML = docLinkHtml;\n",
              "          element.appendChild(docLink);\n",
              "        }\n",
              "      </script>\n",
              "    </div>\n",
              "  </div>\n",
              "  "
            ]
          },
          "metadata": {},
          "execution_count": 29
        }
      ]
    },
    {
      "cell_type": "markdown",
      "source": [
        "# 1.B.Data Quality Report for Continuous Features:\n",
        "Code refererred from [CSCI 6409 - Tutorial 2](https://dal.brightspace.com/d2l/le/content/221741/viewContent/3023670/View)"
      ],
      "metadata": {
        "id": "IJNOgsDmtBkZ"
      }
    },
    {
      "cell_type": "code",
      "source": [
        "def build_continuous_features_report(data_df):\n",
        "    \n",
        "    \"\"\"Build tabular report for continuous features\"\"\"\n",
        "\n",
        "    stats = {\n",
        "        \"Count\": len,\n",
        "        \"Miss %\": lambda df: df.isna().sum() / len(df) * 100,\n",
        "        \"Card.\": lambda df: df.nunique(),\n",
        "        \"Min\": lambda df: df.min(),\n",
        "        \"1st Qrt.\": lambda df: df.quantile(0.25),\n",
        "        \"Mean\": lambda df: df.mean(),\n",
        "        \"Median\": lambda df: df.median(),\n",
        "        \"3rd Qrt\": lambda df: df.quantile(0.75),\n",
        "        \"Max\": lambda df: df.max(),\n",
        "        \"Std. Dev.\": lambda df: df.std(),\n",
        "    }\n",
        "\n",
        "    contin_feat_names = data_df.select_dtypes(\"number\").columns\n",
        "    continuous_data_df = data_df[contin_feat_names]\n",
        "\n",
        "    report_df = pd.DataFrame(index=contin_feat_names, columns=stats.keys())\n",
        "\n",
        "    for stat_name, fn in stats.items():\n",
        "        # NOTE: ignore warnings for empty features\n",
        "        with warnings.catch_warnings():\n",
        "            warnings.simplefilter(\"ignore\", category=RuntimeWarning)\n",
        "            report_df[stat_name] = fn(continuous_data_df)\n",
        "\n",
        "    return report_df\n",
        "build_continuous_features_report(source_dataset)"
      ],
      "metadata": {
        "id": "b-JiQ8PItHbB",
        "colab": {
          "base_uri": "https://localhost:8080/",
          "height": 206
        },
        "outputId": "db63c902-f1ad-4f85-f7ce-55c7908a9ed3"
      },
      "execution_count": null,
      "outputs": [
        {
          "output_type": "execute_result",
          "data": {
            "text/plain": [
              "                             Count  Miss %  Card.        Min      1st Qrt.  \\\n",
              "overall                    1000000    0.00      5          1          4.00   \n",
              "verified                   1000000    0.00      2      False          0.00   \n",
              "unixReviewTime             1000000    0.00   7514  849657600 1376265600.00   \n",
              "reviewText_num_characters  1000000    0.00   7917          0        114.00   \n",
              "reviewText_num_words       1000000    0.00   2000          0         21.00   \n",
              "\n",
              "                                   Mean        Median       3rd Qrt  \\\n",
              "overall                            4.37          5.00          5.00   \n",
              "verified                           0.67          1.00          1.00   \n",
              "unixReviewTime            1406255022.37 1425686400.00 1472601600.00   \n",
              "reviewText_num_characters        541.05        227.00        599.00   \n",
              "reviewText_num_words              96.48         42.00        108.00   \n",
              "\n",
              "                                  Max    Std. Dev.  \n",
              "overall                             5         1.00  \n",
              "verified                         True         0.47  \n",
              "unixReviewTime             1537920000 101010911.58  \n",
              "reviewText_num_characters       31759       867.98  \n",
              "reviewText_num_words             5359       150.61  "
            ],
            "text/html": [
              "\n",
              "  <div id=\"df-c865ee09-5592-4e31-a229-db5b7b946494\">\n",
              "    <div class=\"colab-df-container\">\n",
              "      <div>\n",
              "<style scoped>\n",
              "    .dataframe tbody tr th:only-of-type {\n",
              "        vertical-align: middle;\n",
              "    }\n",
              "\n",
              "    .dataframe tbody tr th {\n",
              "        vertical-align: top;\n",
              "    }\n",
              "\n",
              "    .dataframe thead th {\n",
              "        text-align: right;\n",
              "    }\n",
              "</style>\n",
              "<table border=\"1\" class=\"dataframe\">\n",
              "  <thead>\n",
              "    <tr style=\"text-align: right;\">\n",
              "      <th></th>\n",
              "      <th>Count</th>\n",
              "      <th>Miss %</th>\n",
              "      <th>Card.</th>\n",
              "      <th>Min</th>\n",
              "      <th>1st Qrt.</th>\n",
              "      <th>Mean</th>\n",
              "      <th>Median</th>\n",
              "      <th>3rd Qrt</th>\n",
              "      <th>Max</th>\n",
              "      <th>Std. Dev.</th>\n",
              "    </tr>\n",
              "  </thead>\n",
              "  <tbody>\n",
              "    <tr>\n",
              "      <th>overall</th>\n",
              "      <td>1000000</td>\n",
              "      <td>0.00</td>\n",
              "      <td>5</td>\n",
              "      <td>1</td>\n",
              "      <td>4.00</td>\n",
              "      <td>4.37</td>\n",
              "      <td>5.00</td>\n",
              "      <td>5.00</td>\n",
              "      <td>5</td>\n",
              "      <td>1.00</td>\n",
              "    </tr>\n",
              "    <tr>\n",
              "      <th>verified</th>\n",
              "      <td>1000000</td>\n",
              "      <td>0.00</td>\n",
              "      <td>2</td>\n",
              "      <td>False</td>\n",
              "      <td>0.00</td>\n",
              "      <td>0.67</td>\n",
              "      <td>1.00</td>\n",
              "      <td>1.00</td>\n",
              "      <td>True</td>\n",
              "      <td>0.47</td>\n",
              "    </tr>\n",
              "    <tr>\n",
              "      <th>unixReviewTime</th>\n",
              "      <td>1000000</td>\n",
              "      <td>0.00</td>\n",
              "      <td>7514</td>\n",
              "      <td>849657600</td>\n",
              "      <td>1376265600.00</td>\n",
              "      <td>1406255022.37</td>\n",
              "      <td>1425686400.00</td>\n",
              "      <td>1472601600.00</td>\n",
              "      <td>1537920000</td>\n",
              "      <td>101010911.58</td>\n",
              "    </tr>\n",
              "    <tr>\n",
              "      <th>reviewText_num_characters</th>\n",
              "      <td>1000000</td>\n",
              "      <td>0.00</td>\n",
              "      <td>7917</td>\n",
              "      <td>0</td>\n",
              "      <td>114.00</td>\n",
              "      <td>541.05</td>\n",
              "      <td>227.00</td>\n",
              "      <td>599.00</td>\n",
              "      <td>31759</td>\n",
              "      <td>867.98</td>\n",
              "    </tr>\n",
              "    <tr>\n",
              "      <th>reviewText_num_words</th>\n",
              "      <td>1000000</td>\n",
              "      <td>0.00</td>\n",
              "      <td>2000</td>\n",
              "      <td>0</td>\n",
              "      <td>21.00</td>\n",
              "      <td>96.48</td>\n",
              "      <td>42.00</td>\n",
              "      <td>108.00</td>\n",
              "      <td>5359</td>\n",
              "      <td>150.61</td>\n",
              "    </tr>\n",
              "  </tbody>\n",
              "</table>\n",
              "</div>\n",
              "      <button class=\"colab-df-convert\" onclick=\"convertToInteractive('df-c865ee09-5592-4e31-a229-db5b7b946494')\"\n",
              "              title=\"Convert this dataframe to an interactive table.\"\n",
              "              style=\"display:none;\">\n",
              "        \n",
              "  <svg xmlns=\"http://www.w3.org/2000/svg\" height=\"24px\"viewBox=\"0 0 24 24\"\n",
              "       width=\"24px\">\n",
              "    <path d=\"M0 0h24v24H0V0z\" fill=\"none\"/>\n",
              "    <path d=\"M18.56 5.44l.94 2.06.94-2.06 2.06-.94-2.06-.94-.94-2.06-.94 2.06-2.06.94zm-11 1L8.5 8.5l.94-2.06 2.06-.94-2.06-.94L8.5 2.5l-.94 2.06-2.06.94zm10 10l.94 2.06.94-2.06 2.06-.94-2.06-.94-.94-2.06-.94 2.06-2.06.94z\"/><path d=\"M17.41 7.96l-1.37-1.37c-.4-.4-.92-.59-1.43-.59-.52 0-1.04.2-1.43.59L10.3 9.45l-7.72 7.72c-.78.78-.78 2.05 0 2.83L4 21.41c.39.39.9.59 1.41.59.51 0 1.02-.2 1.41-.59l7.78-7.78 2.81-2.81c.8-.78.8-2.07 0-2.86zM5.41 20L4 18.59l7.72-7.72 1.47 1.35L5.41 20z\"/>\n",
              "  </svg>\n",
              "      </button>\n",
              "      \n",
              "  <style>\n",
              "    .colab-df-container {\n",
              "      display:flex;\n",
              "      flex-wrap:wrap;\n",
              "      gap: 12px;\n",
              "    }\n",
              "\n",
              "    .colab-df-convert {\n",
              "      background-color: #E8F0FE;\n",
              "      border: none;\n",
              "      border-radius: 50%;\n",
              "      cursor: pointer;\n",
              "      display: none;\n",
              "      fill: #1967D2;\n",
              "      height: 32px;\n",
              "      padding: 0 0 0 0;\n",
              "      width: 32px;\n",
              "    }\n",
              "\n",
              "    .colab-df-convert:hover {\n",
              "      background-color: #E2EBFA;\n",
              "      box-shadow: 0px 1px 2px rgba(60, 64, 67, 0.3), 0px 1px 3px 1px rgba(60, 64, 67, 0.15);\n",
              "      fill: #174EA6;\n",
              "    }\n",
              "\n",
              "    [theme=dark] .colab-df-convert {\n",
              "      background-color: #3B4455;\n",
              "      fill: #D2E3FC;\n",
              "    }\n",
              "\n",
              "    [theme=dark] .colab-df-convert:hover {\n",
              "      background-color: #434B5C;\n",
              "      box-shadow: 0px 1px 3px 1px rgba(0, 0, 0, 0.15);\n",
              "      filter: drop-shadow(0px 1px 2px rgba(0, 0, 0, 0.3));\n",
              "      fill: #FFFFFF;\n",
              "    }\n",
              "  </style>\n",
              "\n",
              "      <script>\n",
              "        const buttonEl =\n",
              "          document.querySelector('#df-c865ee09-5592-4e31-a229-db5b7b946494 button.colab-df-convert');\n",
              "        buttonEl.style.display =\n",
              "          google.colab.kernel.accessAllowed ? 'block' : 'none';\n",
              "\n",
              "        async function convertToInteractive(key) {\n",
              "          const element = document.querySelector('#df-c865ee09-5592-4e31-a229-db5b7b946494');\n",
              "          const dataTable =\n",
              "            await google.colab.kernel.invokeFunction('convertToInteractive',\n",
              "                                                     [key], {});\n",
              "          if (!dataTable) return;\n",
              "\n",
              "          const docLinkHtml = 'Like what you see? Visit the ' +\n",
              "            '<a target=\"_blank\" href=https://colab.research.google.com/notebooks/data_table.ipynb>data table notebook</a>'\n",
              "            + ' to learn more about interactive tables.';\n",
              "          element.innerHTML = '';\n",
              "          dataTable['output_type'] = 'display_data';\n",
              "          await google.colab.output.renderOutput(dataTable, element);\n",
              "          const docLink = document.createElement('div');\n",
              "          docLink.innerHTML = docLinkHtml;\n",
              "          element.appendChild(docLink);\n",
              "        }\n",
              "      </script>\n",
              "    </div>\n",
              "  </div>\n",
              "  "
            ]
          },
          "metadata": {},
          "execution_count": 30
        }
      ]
    },
    {
      "cell_type": "markdown",
      "source": [
        "# Data Quality Report for Categorical Features:\n",
        "Code refererred from [CSCI 6409 - Tutorial 2](https://dal.brightspace.com/d2l/le/content/221741/viewContent/3023670/View)"
      ],
      "metadata": {
        "id": "CGyxHN4EuHOa"
      }
    },
    {
      "cell_type": "code",
      "source": [
        "def build_categorical_features_report(data_df):\n",
        "\n",
        "    \"\"\"Build tabular report for categorical features\"\"\"\n",
        "\n",
        "    def _mode(df):\n",
        "        return df.apply(lambda ft: ft.mode().to_list()).T\n",
        "\n",
        "    def _mode_freq(df):\n",
        "        return df.apply(lambda ft: ft.value_counts()[ft.mode()].sum())\n",
        "\n",
        "    def _second_mode(df):\n",
        "        return df.apply(lambda ft: ft[~ft.isin(ft.mode())].mode().to_list()).T\n",
        "\n",
        "    def _second_mode_freq(df):\n",
        "        return df.apply(\n",
        "            lambda ft: ft[~ft.isin(ft.mode())]\n",
        "            .value_counts()[ft[~ft.isin(ft.mode())].mode()]\n",
        "            .sum()\n",
        "        )\n",
        "\n",
        "    stats = {\n",
        "        \"Count\": len,\n",
        "        \"Miss %\": lambda df: df.isna().sum() / len(df) * 100,\n",
        "        \"Card.\": lambda df: df.nunique(),\n",
        "        \"Mode\": _mode,\n",
        "        \"Mode Freq\": _mode_freq,\n",
        "        \"Mode %\": lambda df: _mode_freq(df) / len(df) * 100,\n",
        "        \"2nd Mode\": _second_mode,\n",
        "        \"2nd Mode Freq\": _second_mode_freq,\n",
        "        \"2nd Mode %\": lambda df: _second_mode_freq(df) / len(df) * 100,\n",
        "    }\n",
        "\n",
        "    cat_feat_names = data_df.select_dtypes(exclude=\"number\").columns\n",
        "    continuous_data_df = data_df[cat_feat_names]\n",
        "\n",
        "    report_df = pd.DataFrame(index=cat_feat_names, columns=stats.keys())\n",
        "\n",
        "    for stat_name, fn in stats.items():\n",
        "        # NOTE: ignore warnings for empty features\n",
        "        with warnings.catch_warnings():\n",
        "            warnings.simplefilter(\"ignore\", category=RuntimeWarning)\n",
        "            report_df[stat_name] = fn(continuous_data_df)\n",
        "\n",
        "    return report_df"
      ],
      "metadata": {
        "id": "woRDBEO_uLsm"
      },
      "execution_count": null,
      "outputs": []
    },
    {
      "cell_type": "code",
      "source": [
        "# test_dataset = source_dataset[[\"reviewText\",\"format\"]].copy()\n",
        "build_categorical_features_report(source_dataset)"
      ],
      "metadata": {
        "colab": {
          "base_uri": "https://localhost:8080/",
          "height": 300
        },
        "id": "DraIqreIuz4h",
        "outputId": "5b2c72f8-ffdf-4878-ab28-794ef2fc9ccd"
      },
      "execution_count": null,
      "outputs": [
        {
          "output_type": "execute_result",
          "data": {
            "text/plain": [
              "                             Count  Miss %   Card.             Mode  \\\n",
              "reviewTime                 1000000    0.00    7514      02 20, 2015   \n",
              "reviewerID                 1000000    0.00  610262   A2F6N60Z96CAJI   \n",
              "asin                       1000000    0.00  323635       038568231X   \n",
              "reviewerName               1000000    0.00  435945  Amazon Customer   \n",
              "reviewText                 1000000    0.01  952186            Great   \n",
              "summary                    1000000    0.03  629717       Five Stars   \n",
              "format                     1000000    0.01      90   Kindle Edition   \n",
              "contains_Non_AlphaNumeric  1000000    0.00       2             True   \n",
              "\n",
              "                           Mode Freq  Mode %         2nd Mode  2nd Mode Freq  \\\n",
              "reviewTime                      1537    0.15      03 29, 2016           1243   \n",
              "reviewerID                       317    0.03   A2OJW07GQRNJUT            240   \n",
              "asin                            1013    0.10       0297859382            828   \n",
              "reviewerName                   46661    4.67  Kindle Customer          32034   \n",
              "reviewText                      1105    0.11             good           1071   \n",
              "summary                        93655    9.37       Four Stars          23557   \n",
              "format                        561493   56.15        Paperback         229310   \n",
              "contains_Non_AlphaNumeric     943365   94.34            False          56635   \n",
              "\n",
              "                           2nd Mode %  \n",
              "reviewTime                       0.12  \n",
              "reviewerID                       0.02  \n",
              "asin                             0.08  \n",
              "reviewerName                     3.20  \n",
              "reviewText                       0.11  \n",
              "summary                          2.36  \n",
              "format                          22.93  \n",
              "contains_Non_AlphaNumeric        5.66  "
            ],
            "text/html": [
              "\n",
              "  <div id=\"df-9f1a5fd0-621a-4822-9edb-4007a0e9b22d\">\n",
              "    <div class=\"colab-df-container\">\n",
              "      <div>\n",
              "<style scoped>\n",
              "    .dataframe tbody tr th:only-of-type {\n",
              "        vertical-align: middle;\n",
              "    }\n",
              "\n",
              "    .dataframe tbody tr th {\n",
              "        vertical-align: top;\n",
              "    }\n",
              "\n",
              "    .dataframe thead th {\n",
              "        text-align: right;\n",
              "    }\n",
              "</style>\n",
              "<table border=\"1\" class=\"dataframe\">\n",
              "  <thead>\n",
              "    <tr style=\"text-align: right;\">\n",
              "      <th></th>\n",
              "      <th>Count</th>\n",
              "      <th>Miss %</th>\n",
              "      <th>Card.</th>\n",
              "      <th>Mode</th>\n",
              "      <th>Mode Freq</th>\n",
              "      <th>Mode %</th>\n",
              "      <th>2nd Mode</th>\n",
              "      <th>2nd Mode Freq</th>\n",
              "      <th>2nd Mode %</th>\n",
              "    </tr>\n",
              "  </thead>\n",
              "  <tbody>\n",
              "    <tr>\n",
              "      <th>reviewTime</th>\n",
              "      <td>1000000</td>\n",
              "      <td>0.00</td>\n",
              "      <td>7514</td>\n",
              "      <td>02 20, 2015</td>\n",
              "      <td>1537</td>\n",
              "      <td>0.15</td>\n",
              "      <td>03 29, 2016</td>\n",
              "      <td>1243</td>\n",
              "      <td>0.12</td>\n",
              "    </tr>\n",
              "    <tr>\n",
              "      <th>reviewerID</th>\n",
              "      <td>1000000</td>\n",
              "      <td>0.00</td>\n",
              "      <td>610262</td>\n",
              "      <td>A2F6N60Z96CAJI</td>\n",
              "      <td>317</td>\n",
              "      <td>0.03</td>\n",
              "      <td>A2OJW07GQRNJUT</td>\n",
              "      <td>240</td>\n",
              "      <td>0.02</td>\n",
              "    </tr>\n",
              "    <tr>\n",
              "      <th>asin</th>\n",
              "      <td>1000000</td>\n",
              "      <td>0.00</td>\n",
              "      <td>323635</td>\n",
              "      <td>038568231X</td>\n",
              "      <td>1013</td>\n",
              "      <td>0.10</td>\n",
              "      <td>0297859382</td>\n",
              "      <td>828</td>\n",
              "      <td>0.08</td>\n",
              "    </tr>\n",
              "    <tr>\n",
              "      <th>reviewerName</th>\n",
              "      <td>1000000</td>\n",
              "      <td>0.00</td>\n",
              "      <td>435945</td>\n",
              "      <td>Amazon Customer</td>\n",
              "      <td>46661</td>\n",
              "      <td>4.67</td>\n",
              "      <td>Kindle Customer</td>\n",
              "      <td>32034</td>\n",
              "      <td>3.20</td>\n",
              "    </tr>\n",
              "    <tr>\n",
              "      <th>reviewText</th>\n",
              "      <td>1000000</td>\n",
              "      <td>0.01</td>\n",
              "      <td>952186</td>\n",
              "      <td>Great</td>\n",
              "      <td>1105</td>\n",
              "      <td>0.11</td>\n",
              "      <td>good</td>\n",
              "      <td>1071</td>\n",
              "      <td>0.11</td>\n",
              "    </tr>\n",
              "    <tr>\n",
              "      <th>summary</th>\n",
              "      <td>1000000</td>\n",
              "      <td>0.03</td>\n",
              "      <td>629717</td>\n",
              "      <td>Five Stars</td>\n",
              "      <td>93655</td>\n",
              "      <td>9.37</td>\n",
              "      <td>Four Stars</td>\n",
              "      <td>23557</td>\n",
              "      <td>2.36</td>\n",
              "    </tr>\n",
              "    <tr>\n",
              "      <th>format</th>\n",
              "      <td>1000000</td>\n",
              "      <td>0.01</td>\n",
              "      <td>90</td>\n",
              "      <td>Kindle Edition</td>\n",
              "      <td>561493</td>\n",
              "      <td>56.15</td>\n",
              "      <td>Paperback</td>\n",
              "      <td>229310</td>\n",
              "      <td>22.93</td>\n",
              "    </tr>\n",
              "    <tr>\n",
              "      <th>contains_Non_AlphaNumeric</th>\n",
              "      <td>1000000</td>\n",
              "      <td>0.00</td>\n",
              "      <td>2</td>\n",
              "      <td>True</td>\n",
              "      <td>943365</td>\n",
              "      <td>94.34</td>\n",
              "      <td>False</td>\n",
              "      <td>56635</td>\n",
              "      <td>5.66</td>\n",
              "    </tr>\n",
              "  </tbody>\n",
              "</table>\n",
              "</div>\n",
              "      <button class=\"colab-df-convert\" onclick=\"convertToInteractive('df-9f1a5fd0-621a-4822-9edb-4007a0e9b22d')\"\n",
              "              title=\"Convert this dataframe to an interactive table.\"\n",
              "              style=\"display:none;\">\n",
              "        \n",
              "  <svg xmlns=\"http://www.w3.org/2000/svg\" height=\"24px\"viewBox=\"0 0 24 24\"\n",
              "       width=\"24px\">\n",
              "    <path d=\"M0 0h24v24H0V0z\" fill=\"none\"/>\n",
              "    <path d=\"M18.56 5.44l.94 2.06.94-2.06 2.06-.94-2.06-.94-.94-2.06-.94 2.06-2.06.94zm-11 1L8.5 8.5l.94-2.06 2.06-.94-2.06-.94L8.5 2.5l-.94 2.06-2.06.94zm10 10l.94 2.06.94-2.06 2.06-.94-2.06-.94-.94-2.06-.94 2.06-2.06.94z\"/><path d=\"M17.41 7.96l-1.37-1.37c-.4-.4-.92-.59-1.43-.59-.52 0-1.04.2-1.43.59L10.3 9.45l-7.72 7.72c-.78.78-.78 2.05 0 2.83L4 21.41c.39.39.9.59 1.41.59.51 0 1.02-.2 1.41-.59l7.78-7.78 2.81-2.81c.8-.78.8-2.07 0-2.86zM5.41 20L4 18.59l7.72-7.72 1.47 1.35L5.41 20z\"/>\n",
              "  </svg>\n",
              "      </button>\n",
              "      \n",
              "  <style>\n",
              "    .colab-df-container {\n",
              "      display:flex;\n",
              "      flex-wrap:wrap;\n",
              "      gap: 12px;\n",
              "    }\n",
              "\n",
              "    .colab-df-convert {\n",
              "      background-color: #E8F0FE;\n",
              "      border: none;\n",
              "      border-radius: 50%;\n",
              "      cursor: pointer;\n",
              "      display: none;\n",
              "      fill: #1967D2;\n",
              "      height: 32px;\n",
              "      padding: 0 0 0 0;\n",
              "      width: 32px;\n",
              "    }\n",
              "\n",
              "    .colab-df-convert:hover {\n",
              "      background-color: #E2EBFA;\n",
              "      box-shadow: 0px 1px 2px rgba(60, 64, 67, 0.3), 0px 1px 3px 1px rgba(60, 64, 67, 0.15);\n",
              "      fill: #174EA6;\n",
              "    }\n",
              "\n",
              "    [theme=dark] .colab-df-convert {\n",
              "      background-color: #3B4455;\n",
              "      fill: #D2E3FC;\n",
              "    }\n",
              "\n",
              "    [theme=dark] .colab-df-convert:hover {\n",
              "      background-color: #434B5C;\n",
              "      box-shadow: 0px 1px 3px 1px rgba(0, 0, 0, 0.15);\n",
              "      filter: drop-shadow(0px 1px 2px rgba(0, 0, 0, 0.3));\n",
              "      fill: #FFFFFF;\n",
              "    }\n",
              "  </style>\n",
              "\n",
              "      <script>\n",
              "        const buttonEl =\n",
              "          document.querySelector('#df-9f1a5fd0-621a-4822-9edb-4007a0e9b22d button.colab-df-convert');\n",
              "        buttonEl.style.display =\n",
              "          google.colab.kernel.accessAllowed ? 'block' : 'none';\n",
              "\n",
              "        async function convertToInteractive(key) {\n",
              "          const element = document.querySelector('#df-9f1a5fd0-621a-4822-9edb-4007a0e9b22d');\n",
              "          const dataTable =\n",
              "            await google.colab.kernel.invokeFunction('convertToInteractive',\n",
              "                                                     [key], {});\n",
              "          if (!dataTable) return;\n",
              "\n",
              "          const docLinkHtml = 'Like what you see? Visit the ' +\n",
              "            '<a target=\"_blank\" href=https://colab.research.google.com/notebooks/data_table.ipynb>data table notebook</a>'\n",
              "            + ' to learn more about interactive tables.';\n",
              "          element.innerHTML = '';\n",
              "          dataTable['output_type'] = 'display_data';\n",
              "          await google.colab.output.renderOutput(dataTable, element);\n",
              "          const docLink = document.createElement('div');\n",
              "          docLink.innerHTML = docLinkHtml;\n",
              "          element.appendChild(docLink);\n",
              "        }\n",
              "      </script>\n",
              "    </div>\n",
              "  </div>\n",
              "  "
            ]
          },
          "metadata": {},
          "execution_count": 32
        }
      ]
    },
    {
      "cell_type": "code",
      "source": [
        "source_dataset.info()"
      ],
      "metadata": {
        "id": "Vpo3_xnpOUZP",
        "colab": {
          "base_uri": "https://localhost:8080/"
        },
        "outputId": "54be97c2-d511-44a8-9129-4702d6cf2fa6"
      },
      "execution_count": null,
      "outputs": [
        {
          "output_type": "stream",
          "name": "stdout",
          "text": [
            "<class 'pandas.core.frame.DataFrame'>\n",
            "RangeIndex: 1000000 entries, 0 to 999999\n",
            "Data columns (total 13 columns):\n",
            " #   Column                     Non-Null Count    Dtype  \n",
            "---  ------                     --------------    -----  \n",
            " 0   overall                    1000000 non-null  Int64  \n",
            " 1   verified                   1000000 non-null  boolean\n",
            " 2   reviewTime                 1000000 non-null  string \n",
            " 3   reviewerID                 1000000 non-null  string \n",
            " 4   asin                       1000000 non-null  string \n",
            " 5   reviewerName               999966 non-null   string \n",
            " 6   reviewText                 999876 non-null   string \n",
            " 7   summary                    999693 non-null   string \n",
            " 8   unixReviewTime             1000000 non-null  Int64  \n",
            " 9   format                     999940 non-null   string \n",
            " 10  reviewText_num_characters  1000000 non-null  int64  \n",
            " 11  reviewText_num_words       1000000 non-null  int64  \n",
            " 12  contains_Non_AlphaNumeric  1000000 non-null  object \n",
            "dtypes: Int64(2), boolean(1), int64(2), object(1), string(7)\n",
            "memory usage: 95.4+ MB\n"
          ]
        }
      ]
    },
    {
      "cell_type": "markdown",
      "source": [
        "# Visualization of Continuous Features"
      ],
      "metadata": {
        "id": "iyPXf9Vxv1-q"
      }
    },
    {
      "cell_type": "markdown",
      "source": [
        "## Configuring Plot properties"
      ],
      "metadata": {
        "id": "ufXqunmNKfsC"
      }
    },
    {
      "cell_type": "code",
      "source": [
        "from matplotlib import pyplot as plt\n",
        "%matplotlib inline\n",
        "plt.rcParams[\"figure.figsize\"] = [12, 8]\n",
        "plt.rcParams[\"font.size\"] = 15"
      ],
      "metadata": {
        "id": "5GXp8Cm-vvji"
      },
      "execution_count": null,
      "outputs": []
    },
    {
      "cell_type": "markdown",
      "source": [
        "## Histogram for the column - overall"
      ],
      "metadata": {
        "id": "AWrjHmVbKnEE"
      }
    },
    {
      "cell_type": "code",
      "source": [
        "source_dataset.hist(column=['overall'])\n",
        "plt.xlabel('Overall - Range')\n",
        "plt.ylabel('Number of Occurrences')\n",
        "plt.title('Overall Histogram')"
      ],
      "metadata": {
        "colab": {
          "base_uri": "https://localhost:8080/",
          "height": 545
        },
        "id": "YwsnEmryJc-q",
        "outputId": "376d9dac-c9de-4b53-9db0-8d5fc9617153"
      },
      "execution_count": null,
      "outputs": [
        {
          "output_type": "execute_result",
          "data": {
            "text/plain": [
              "Text(0.5, 1.0, 'Overall Histogram')"
            ]
          },
          "metadata": {},
          "execution_count": 35
        },
        {
          "output_type": "display_data",
          "data": {
            "text/plain": [
              "<Figure size 864x576 with 1 Axes>"
            ],
            "image/png": "[encoded data removed]"
          },
          "metadata": {
            "needs_background": "light"
          }
        }
      ]
    },
    {
      "cell_type": "markdown",
      "source": [
        "## Histogram for the column - UnixReviewTime"
      ],
      "metadata": {
        "id": "czppwm2qLUoi"
      }
    },
    {
      "cell_type": "code",
      "source": [
        "source_dataset.hist(column=['unixReviewTime'])\n",
        "plt.xlabel('UnixReviewTime Range')\n",
        "plt.ylabel('Number of Occurrences')\n",
        "plt.title('UnixReviewTime Histogram')"
      ],
      "metadata": {
        "colab": {
          "base_uri": "https://localhost:8080/",
          "height": 545
        },
        "id": "nmS1Jj21Jcwh",
        "outputId": "dc1639f8-1de1-4702-e185-b65ea3d349f3"
      },
      "execution_count": null,
      "outputs": [
        {
          "output_type": "execute_result",
          "data": {
            "text/plain": [
              "Text(0.5, 1.0, 'UnixReviewTime Histogram')"
            ]
          },
          "metadata": {},
          "execution_count": 36
        },
        {
          "output_type": "display_data",
          "data": {
            "text/plain": [
              "<Figure size 864x576 with 1 Axes>"
            ],
            "image/png": "[encoded data removed]"
          },
          "metadata": {
            "needs_background": "light"
          }
        }
      ]
    },
    {
      "cell_type": "markdown",
      "source": [
        "## Histogram for the column - reviewText_num_characters"
      ],
      "metadata": {
        "id": "WOy8v9tILaqT"
      }
    },
    {
      "cell_type": "code",
      "source": [
        "source_dataset.hist(column=['reviewText_num_characters'])\n",
        "plt.xlabel('ReviewText Number of Characters Range')\n",
        "plt.ylabel('Number of Occurrences')\n",
        "plt.title('ReviewText Number of Characters Histogram')"
      ],
      "metadata": {
        "colab": {
          "base_uri": "https://localhost:8080/",
          "height": 545
        },
        "id": "ij2k_DBKJcQ5",
        "outputId": "b33dc60e-cc76-406d-bfdc-ead336ebcd70"
      },
      "execution_count": null,
      "outputs": [
        {
          "output_type": "execute_result",
          "data": {
            "text/plain": [
              "Text(0.5, 1.0, 'ReviewText Number of Characters Histogram')"
            ]
          },
          "metadata": {},
          "execution_count": 37
        },
        {
          "output_type": "display_data",
          "data": {
            "text/plain": [
              "<Figure size 864x576 with 1 Axes>"
            ],
            "image/png": "[encoded data removed]"
          },
          "metadata": {
            "needs_background": "light"
          }
        }
      ]
    },
    {
      "cell_type": "markdown",
      "source": [
        "## Histogram for the column - reviewText_num_words"
      ],
      "metadata": {
        "id": "7cV9BarsQ0hb"
      }
    },
    {
      "cell_type": "code",
      "source": [
        "source_dataset.hist(column=['reviewText_num_words'])\n",
        "plt.xlabel('ReviewText Number of Words Range')\n",
        "plt.ylabel('Number of Occurrences')\n",
        "plt.title('ReviewText Number of Words Histogram')"
      ],
      "metadata": {
        "colab": {
          "base_uri": "https://localhost:8080/",
          "height": 545
        },
        "outputId": "f71861b4-4ec0-4d9c-9ce6-372bba1c0121",
        "id": "rlu_TicYQ0hc"
      },
      "execution_count": null,
      "outputs": [
        {
          "output_type": "execute_result",
          "data": {
            "text/plain": [
              "Text(0.5, 1.0, 'ReviewText Number of Words Histogram')"
            ]
          },
          "metadata": {},
          "execution_count": 38
        },
        {
          "output_type": "display_data",
          "data": {
            "text/plain": [
              "<Figure size 864x576 with 1 Axes>"
            ],
            "image/png": "[encoded data removed]"
          },
          "metadata": {
            "needs_background": "light"
          }
        }
      ]
    },
    {
      "cell_type": "markdown",
      "source": [
        "# Visualization of Categorical Features"
      ],
      "metadata": {
        "id": "xco7OQjCGYz1"
      }
    },
    {
      "cell_type": "markdown",
      "source": [
        "## Frequencies of True / False for the Column - \"verified\""
      ],
      "metadata": {
        "id": "QFETlC9xbToJ"
      }
    },
    {
      "cell_type": "code",
      "source": [
        "p1 = source_dataset['verified'].value_counts().plot.bar(color=['green', 'red']);\n",
        "plt.xlabel('Verified Categories')\n",
        "plt.ylabel('Number of Occurrences')\n",
        "plt.title('Bar Plot for Verified')"
      ],
      "metadata": {
        "colab": {
          "base_uri": "https://localhost:8080/",
          "height": 568
        },
        "outputId": "211418b0-217f-46b2-9048-9b685139490c",
        "id": "0CL12vUJbToS"
      },
      "execution_count": null,
      "outputs": [
        {
          "output_type": "execute_result",
          "data": {
            "text/plain": [
              "Text(0.5, 1.0, 'Bar Plot for Verified')"
            ]
          },
          "metadata": {},
          "execution_count": 39
        },
        {
          "output_type": "display_data",
          "data": {
            "text/plain": [
              "<Figure size 864x576 with 1 Axes>"
            ],
            "image/png": "[encoded data removed]"
          },
          "metadata": {
            "needs_background": "light"
          }
        }
      ]
    },
    {
      "cell_type": "markdown",
      "source": [
        "## Frequency Distribution for the Column - \"format\""
      ],
      "metadata": {
        "id": "twvSWq4jdDy_"
      }
    },
    {
      "cell_type": "code",
      "source": [
        "plt.figure(figsize=(25,8))\n",
        "p1 = source_dataset['format'].value_counts().plot.bar(color=['#00A4CCFF', '#F95700FF'],edgecolor='black');\n",
        "plt.xlabel('Format Categories')\n",
        "plt.ylabel('Number of Occurrences')\n",
        "plt.title('Bar Plot for Format')"
      ],
      "metadata": {
        "colab": {
          "base_uri": "https://localhost:8080/",
          "height": 770
        },
        "outputId": "58f12128-2878-4d60-dbbd-35394e9975fc",
        "id": "B0BN5rUmdDzA"
      },
      "execution_count": null,
      "outputs": [
        {
          "output_type": "execute_result",
          "data": {
            "text/plain": [
              "Text(0.5, 1.0, 'Bar Plot for Format')"
            ]
          },
          "metadata": {},
          "execution_count": 40
        },
        {
          "output_type": "display_data",
          "data": {
            "text/plain": [
              "<Figure size 1800x576 with 1 Axes>"
            ],
            "image/png": "[encoded data removed]"
          },
          "metadata": {
            "needs_background": "light"
          }
        }
      ]
    },
    {
      "cell_type": "markdown",
      "source": [
        "We have not performed Frequency distribution for the other categorical columns as they are insignificant for exploratory analysis."
      ],
      "metadata": {
        "id": "vyp4x3tpR_rY"
      }
    },
    {
      "cell_type": "markdown",
      "source": [
        "# 1.C.Data Quality Issues, Plan and Preprocessing"
      ],
      "metadata": {
        "id": "eC_mqXDcPE6W"
      }
    },
    {
      "cell_type": "markdown",
      "source": [
        "## Missing values:"
      ],
      "metadata": {
        "id": "UUdEJyXmQIcA"
      }
    },
    {
      "cell_type": "code",
      "source": [
        "source_dataset.isna().sum().sum()"
      ],
      "metadata": {
        "colab": {
          "base_uri": "https://localhost:8080/"
        },
        "id": "JtzQMcAlioTO",
        "outputId": "047dcc41-af9d-43ae-bd81-b9fe5bf9e3ea"
      },
      "execution_count": null,
      "outputs": [
        {
          "output_type": "execute_result",
          "data": {
            "text/plain": [
              "525"
            ]
          },
          "metadata": {},
          "execution_count": 41
        }
      ]
    },
    {
      "cell_type": "code",
      "source": [
        "source_dataset.info()"
      ],
      "metadata": {
        "colab": {
          "base_uri": "https://localhost:8080/"
        },
        "id": "Y09RZ1i7Sfkm",
        "outputId": "37426879-5cea-44d1-94c6-4b45b133f980"
      },
      "execution_count": null,
      "outputs": [
        {
          "output_type": "stream",
          "name": "stdout",
          "text": [
            "<class 'pandas.core.frame.DataFrame'>\n",
            "RangeIndex: 1000000 entries, 0 to 999999\n",
            "Data columns (total 13 columns):\n",
            " #   Column                     Non-Null Count    Dtype  \n",
            "---  ------                     --------------    -----  \n",
            " 0   overall                    1000000 non-null  Int64  \n",
            " 1   verified                   1000000 non-null  boolean\n",
            " 2   reviewTime                 1000000 non-null  string \n",
            " 3   reviewerID                 1000000 non-null  string \n",
            " 4   asin                       1000000 non-null  string \n",
            " 5   reviewerName               999966 non-null   string \n",
            " 6   reviewText                 999876 non-null   string \n",
            " 7   summary                    999693 non-null   string \n",
            " 8   unixReviewTime             1000000 non-null  Int64  \n",
            " 9   format                     999940 non-null   string \n",
            " 10  reviewText_num_characters  1000000 non-null  int64  \n",
            " 11  reviewText_num_words       1000000 non-null  int64  \n",
            " 12  contains_Non_AlphaNumeric  1000000 non-null  object \n",
            "dtypes: Int64(2), boolean(1), int64(2), object(1), string(7)\n",
            "memory usage: 95.4+ MB\n"
          ]
        }
      ]
    },
    {
      "cell_type": "code",
      "source": [
        "source_dataset.reviewerName = source_dataset.reviewerName.fillna(\"No Reviewer Name\")"
      ],
      "metadata": {
        "id": "NsgE8JYwT1NN"
      },
      "execution_count": null,
      "outputs": []
    },
    {
      "cell_type": "code",
      "source": [
        "source_dataset.reviewText = source_dataset.reviewText.fillna(\"No Review Text\")"
      ],
      "metadata": {
        "id": "28HIRBB0UfHQ"
      },
      "execution_count": null,
      "outputs": []
    },
    {
      "cell_type": "code",
      "source": [
        "source_dataset.summary = source_dataset.summary.fillna(\"No Summary\")"
      ],
      "metadata": {
        "id": "TnEw8vBkUmQc"
      },
      "execution_count": null,
      "outputs": []
    },
    {
      "cell_type": "code",
      "source": [
        "source_dataset.format = source_dataset.format.fillna(\"No Format\")"
      ],
      "metadata": {
        "id": "AhqII4leUyR-"
      },
      "execution_count": null,
      "outputs": []
    },
    {
      "cell_type": "code",
      "source": [
        "source_dataset.info()"
      ],
      "metadata": {
        "colab": {
          "base_uri": "https://localhost:8080/"
        },
        "id": "EmojIAXtU9AL",
        "outputId": "d88c6ae0-3c33-4129-863d-37a961e8711e"
      },
      "execution_count": null,
      "outputs": [
        {
          "output_type": "stream",
          "name": "stdout",
          "text": [
            "<class 'pandas.core.frame.DataFrame'>\n",
            "RangeIndex: 1000000 entries, 0 to 999999\n",
            "Data columns (total 13 columns):\n",
            " #   Column                     Non-Null Count    Dtype  \n",
            "---  ------                     --------------    -----  \n",
            " 0   overall                    1000000 non-null  Int64  \n",
            " 1   verified                   1000000 non-null  boolean\n",
            " 2   reviewTime                 1000000 non-null  string \n",
            " 3   reviewerID                 1000000 non-null  string \n",
            " 4   asin                       1000000 non-null  string \n",
            " 5   reviewerName               1000000 non-null  string \n",
            " 6   reviewText                 1000000 non-null  string \n",
            " 7   summary                    1000000 non-null  string \n",
            " 8   unixReviewTime             1000000 non-null  Int64  \n",
            " 9   format                     1000000 non-null  string \n",
            " 10  reviewText_num_characters  1000000 non-null  int64  \n",
            " 11  reviewText_num_words       1000000 non-null  int64  \n",
            " 12  contains_Non_AlphaNumeric  1000000 non-null  object \n",
            "dtypes: Int64(2), boolean(1), int64(2), object(1), string(7)\n",
            "memory usage: 95.4+ MB\n"
          ]
        }
      ]
    },
    {
      "cell_type": "markdown",
      "source": [
        "## Irregular Cardinality"
      ],
      "metadata": {
        "id": "WroKSA4uF_yW"
      }
    },
    {
      "cell_type": "markdown",
      "source": [
        "The column 'verified' has a cardinality of 2, which is odd for a continuous feature, therefore we will be treating this column as a categorical feature and we will also convert it into \"0\"s and \"1\"s."
      ],
      "metadata": {
        "id": "U1gqCBqhGDWe"
      }
    },
    {
      "cell_type": "markdown",
      "source": [
        "## \"Verfied\"\n",
        "\n",
        "Let's convert the feature 'verified' into numeric values"
      ],
      "metadata": {
        "id": "mKKsNHjFPdk4"
      }
    },
    {
      "cell_type": "code",
      "source": [
        "source_dataset['verified'].replace(to_replace=True, value=1, inplace=True)\n",
        "source_dataset['verified'].replace(to_replace=False,  value=0, inplace=True)\n",
        "source_dataset['verified'] = source_dataset['verified'].astype(int)\n",
        "source_dataset.dtypes"
      ],
      "metadata": {
        "colab": {
          "base_uri": "https://localhost:8080/"
        },
        "id": "TONw0N3rPfrW",
        "outputId": "2fef8e5e-9959-4a81-f331-e40b29722393"
      },
      "execution_count": null,
      "outputs": [
        {
          "output_type": "execute_result",
          "data": {
            "text/plain": [
              "overall                       Int64\n",
              "verified                      int64\n",
              "reviewTime                   string\n",
              "reviewerID                   string\n",
              "asin                         string\n",
              "reviewerName                 string\n",
              "reviewText                   string\n",
              "summary                      string\n",
              "unixReviewTime                Int64\n",
              "format                       string\n",
              "reviewText_num_characters     int64\n",
              "reviewText_num_words          int64\n",
              "contains_Non_AlphaNumeric    object\n",
              "dtype: object"
            ]
          },
          "metadata": {},
          "execution_count": 48
        }
      ]
    },
    {
      "cell_type": "code",
      "source": [
        "source_dataset.head(10)"
      ],
      "metadata": {
        "colab": {
          "base_uri": "https://localhost:8080/",
          "height": 528
        },
        "id": "_bxENDaiQnWX",
        "outputId": "a9bcab12-2cdc-489c-d0c9-e043101efa14"
      },
      "execution_count": null,
      "outputs": [
        {
          "output_type": "execute_result",
          "data": {
            "text/plain": [
              "   overall  verified   reviewTime      reviewerID        asin  \\\n",
              "0        3         0  05 18, 2002   AJ8AQG2X9JJ2Y  0001712799   \n",
              "1        5         1  12 11, 2014  A12Q7B7NT716RV  0001712799   \n",
              "2        4         0   01 6, 2006  A1DK5AZMXS1QA3  0002006448   \n",
              "3        4         0   12 8, 2014  A1JMSX54DO3LOP  0002005263   \n",
              "4        2         1   03 3, 2014  A2IP27AZB3D1SM  0002005263   \n",
              "5        4         0  06 22, 2004  A2KSU7OOJ5C479  0002005263   \n",
              "6        5         1  01 21, 2004  A3FT7WR9YGU4RK  0002005263   \n",
              "7        1         1  06 10, 2003   AMFB2GBB2O84X  0002005263   \n",
              "8        5         1  12 18, 2017  A243JAEFC50KWI  0001384198   \n",
              "9        5         1   09 6, 2017  A25B7XXSTTN1IY  0001384198   \n",
              "\n",
              "        reviewerName                                         reviewText  \\\n",
              "0     Donald Gillies  Dr. Seuss has some really brilliant books.  Th...   \n",
              "1    True Value Girl                                            Love it   \n",
              "2         Newton Ooi  Hand-woven carpets are one of the few products...   \n",
              "3          Bookzilla  Compelling, twisting mystery involving several...   \n",
              "4     J. A. Drummond  I have read many of the Hillerman books and en...   \n",
              "5  Loren D. Morrison  I, like many of the other reviewers here, am a...   \n",
              "6        Anne Melvin  I had the CD read by George\n",
              "Guidall who does a...   \n",
              "7           Brakaian  I am a huge Tony Hillerman fan -- I've read ea...   \n",
              "8            dorothy                          We all love the classics.   \n",
              "9              Snake                                          I love it   \n",
              "\n",
              "                                          summary  unixReviewTime  \\\n",
              "0                  A below-average Dr. Seuss Book      1021680000   \n",
              "1                                      Five Stars      1418256000   \n",
              "2                              Tourism as history      1136505600   \n",
              "3                    Compelling, twisting mystery      1417996800   \n",
              "4                            Tony missed the mark      1393804800   \n",
              "5     A COMPLEX , SUSPENSEFUL PLOT, BUT . . . . .      1087862400   \n",
              "6                                 A good mystery.      1074643200   \n",
              "7  Easily Hillerman's worst -- very disappointing      1055203200   \n",
              "8                             Classics never die.      1513555200   \n",
              "9                                      Five Stars      1504656000   \n",
              "\n",
              "                      format  reviewText_num_characters  reviewText_num_words  \\\n",
              "0   School & Library Binding                        617                   117   \n",
              "1                  Hardcover                          7                     2   \n",
              "2                  Hardcover                       1419                   247   \n",
              "3             Kindle Edition                        314                    45   \n",
              "4             Kindle Edition                        235                    45   \n",
              "5                  Hardcover                       2244                   384   \n",
              "6                   Audio CD                        462                    88   \n",
              "7                  Hardcover                       1781                   328   \n",
              "8                  Hardcover                         25                     5   \n",
              "9                  Hardcover                          9                     3   \n",
              "\n",
              "  contains_Non_AlphaNumeric  \n",
              "0                      True  \n",
              "1                     False  \n",
              "2                      True  \n",
              "3                      True  \n",
              "4                      True  \n",
              "5                      True  \n",
              "6                      True  \n",
              "7                      True  \n",
              "8                      True  \n",
              "9                     False  "
            ],
            "text/html": [
              "\n",
              "  <div id=\"df-be1a8d11-866d-4607-8252-0902e4477f61\">\n",
              "    <div class=\"colab-df-container\">\n",
              "      <div>\n",
              "<style scoped>\n",
              "    .dataframe tbody tr th:only-of-type {\n",
              "        vertical-align: middle;\n",
              "    }\n",
              "\n",
              "    .dataframe tbody tr th {\n",
              "        vertical-align: top;\n",
              "    }\n",
              "\n",
              "    .dataframe thead th {\n",
              "        text-align: right;\n",
              "    }\n",
              "</style>\n",
              "<table border=\"1\" class=\"dataframe\">\n",
              "  <thead>\n",
              "    <tr style=\"text-align: right;\">\n",
              "      <th></th>\n",
              "      <th>overall</th>\n",
              "      <th>verified</th>\n",
              "      <th>reviewTime</th>\n",
              "      <th>reviewerID</th>\n",
              "      <th>asin</th>\n",
              "      <th>reviewerName</th>\n",
              "      <th>reviewText</th>\n",
              "      <th>summary</th>\n",
              "      <th>unixReviewTime</th>\n",
              "      <th>format</th>\n",
              "      <th>reviewText_num_characters</th>\n",
              "      <th>reviewText_num_words</th>\n",
              "      <th>contains_Non_AlphaNumeric</th>\n",
              "    </tr>\n",
              "  </thead>\n",
              "  <tbody>\n",
              "    <tr>\n",
              "      <th>0</th>\n",
              "      <td>3</td>\n",
              "      <td>0</td>\n",
              "      <td>05 18, 2002</td>\n",
              "      <td>AJ8AQG2X9JJ2Y</td>\n",
              "      <td>0001712799</td>\n",
              "      <td>Donald Gillies</td>\n",
              "      <td>Dr. Seuss has some really brilliant books.  Th...</td>\n",
              "      <td>A below-average Dr. Seuss Book</td>\n",
              "      <td>1021680000</td>\n",
              "      <td>School &amp; Library Binding</td>\n",
              "      <td>617</td>\n",
              "      <td>117</td>\n",
              "      <td>True</td>\n",
              "    </tr>\n",
              "    <tr>\n",
              "      <th>1</th>\n",
              "      <td>5</td>\n",
              "      <td>1</td>\n",
              "      <td>12 11, 2014</td>\n",
              "      <td>A12Q7B7NT716RV</td>\n",
              "      <td>0001712799</td>\n",
              "      <td>True Value Girl</td>\n",
              "      <td>Love it</td>\n",
              "      <td>Five Stars</td>\n",
              "      <td>1418256000</td>\n",
              "      <td>Hardcover</td>\n",
              "      <td>7</td>\n",
              "      <td>2</td>\n",
              "      <td>False</td>\n",
              "    </tr>\n",
              "    <tr>\n",
              "      <th>2</th>\n",
              "      <td>4</td>\n",
              "      <td>0</td>\n",
              "      <td>01 6, 2006</td>\n",
              "      <td>A1DK5AZMXS1QA3</td>\n",
              "      <td>0002006448</td>\n",
              "      <td>Newton Ooi</td>\n",
              "      <td>Hand-woven carpets are one of the few products...</td>\n",
              "      <td>Tourism as history</td>\n",
              "      <td>1136505600</td>\n",
              "      <td>Hardcover</td>\n",
              "      <td>1419</td>\n",
              "      <td>247</td>\n",
              "      <td>True</td>\n",
              "    </tr>\n",
              "    <tr>\n",
              "      <th>3</th>\n",
              "      <td>4</td>\n",
              "      <td>0</td>\n",
              "      <td>12 8, 2014</td>\n",
              "      <td>A1JMSX54DO3LOP</td>\n",
              "      <td>0002005263</td>\n",
              "      <td>Bookzilla</td>\n",
              "      <td>Compelling, twisting mystery involving several...</td>\n",
              "      <td>Compelling, twisting mystery</td>\n",
              "      <td>1417996800</td>\n",
              "      <td>Kindle Edition</td>\n",
              "      <td>314</td>\n",
              "      <td>45</td>\n",
              "      <td>True</td>\n",
              "    </tr>\n",
              "    <tr>\n",
              "      <th>4</th>\n",
              "      <td>2</td>\n",
              "      <td>1</td>\n",
              "      <td>03 3, 2014</td>\n",
              "      <td>A2IP27AZB3D1SM</td>\n",
              "      <td>0002005263</td>\n",
              "      <td>J. A. Drummond</td>\n",
              "      <td>I have read many of the Hillerman books and en...</td>\n",
              "      <td>Tony missed the mark</td>\n",
              "      <td>1393804800</td>\n",
              "      <td>Kindle Edition</td>\n",
              "      <td>235</td>\n",
              "      <td>45</td>\n",
              "      <td>True</td>\n",
              "    </tr>\n",
              "    <tr>\n",
              "      <th>5</th>\n",
              "      <td>4</td>\n",
              "      <td>0</td>\n",
              "      <td>06 22, 2004</td>\n",
              "      <td>A2KSU7OOJ5C479</td>\n",
              "      <td>0002005263</td>\n",
              "      <td>Loren D. Morrison</td>\n",
              "      <td>I, like many of the other reviewers here, am a...</td>\n",
              "      <td>A COMPLEX , SUSPENSEFUL PLOT, BUT . . . . .</td>\n",
              "      <td>1087862400</td>\n",
              "      <td>Hardcover</td>\n",
              "      <td>2244</td>\n",
              "      <td>384</td>\n",
              "      <td>True</td>\n",
              "    </tr>\n",
              "    <tr>\n",
              "      <th>6</th>\n",
              "      <td>5</td>\n",
              "      <td>1</td>\n",
              "      <td>01 21, 2004</td>\n",
              "      <td>A3FT7WR9YGU4RK</td>\n",
              "      <td>0002005263</td>\n",
              "      <td>Anne Melvin</td>\n",
              "      <td>I had the CD read by George\n",
              "Guidall who does a...</td>\n",
              "      <td>A good mystery.</td>\n",
              "      <td>1074643200</td>\n",
              "      <td>Audio CD</td>\n",
              "      <td>462</td>\n",
              "      <td>88</td>\n",
              "      <td>True</td>\n",
              "    </tr>\n",
              "    <tr>\n",
              "      <th>7</th>\n",
              "      <td>1</td>\n",
              "      <td>1</td>\n",
              "      <td>06 10, 2003</td>\n",
              "      <td>AMFB2GBB2O84X</td>\n",
              "      <td>0002005263</td>\n",
              "      <td>Brakaian</td>\n",
              "      <td>I am a huge Tony Hillerman fan -- I've read ea...</td>\n",
              "      <td>Easily Hillerman's worst -- very disappointing</td>\n",
              "      <td>1055203200</td>\n",
              "      <td>Hardcover</td>\n",
              "      <td>1781</td>\n",
              "      <td>328</td>\n",
              "      <td>True</td>\n",
              "    </tr>\n",
              "    <tr>\n",
              "      <th>8</th>\n",
              "      <td>5</td>\n",
              "      <td>1</td>\n",
              "      <td>12 18, 2017</td>\n",
              "      <td>A243JAEFC50KWI</td>\n",
              "      <td>0001384198</td>\n",
              "      <td>dorothy</td>\n",
              "      <td>We all love the classics.</td>\n",
              "      <td>Classics never die.</td>\n",
              "      <td>1513555200</td>\n",
              "      <td>Hardcover</td>\n",
              "      <td>25</td>\n",
              "      <td>5</td>\n",
              "      <td>True</td>\n",
              "    </tr>\n",
              "    <tr>\n",
              "      <th>9</th>\n",
              "      <td>5</td>\n",
              "      <td>1</td>\n",
              "      <td>09 6, 2017</td>\n",
              "      <td>A25B7XXSTTN1IY</td>\n",
              "      <td>0001384198</td>\n",
              "      <td>Snake</td>\n",
              "      <td>I love it</td>\n",
              "      <td>Five Stars</td>\n",
              "      <td>1504656000</td>\n",
              "      <td>Hardcover</td>\n",
              "      <td>9</td>\n",
              "      <td>3</td>\n",
              "      <td>False</td>\n",
              "    </tr>\n",
              "  </tbody>\n",
              "</table>\n",
              "</div>\n",
              "      <button class=\"colab-df-convert\" onclick=\"convertToInteractive('df-be1a8d11-866d-4607-8252-0902e4477f61')\"\n",
              "              title=\"Convert this dataframe to an interactive table.\"\n",
              "              style=\"display:none;\">\n",
              "        \n",
              "  <svg xmlns=\"http://www.w3.org/2000/svg\" height=\"24px\"viewBox=\"0 0 24 24\"\n",
              "       width=\"24px\">\n",
              "    <path d=\"M0 0h24v24H0V0z\" fill=\"none\"/>\n",
              "    <path d=\"M18.56 5.44l.94 2.06.94-2.06 2.06-.94-2.06-.94-.94-2.06-.94 2.06-2.06.94zm-11 1L8.5 8.5l.94-2.06 2.06-.94-2.06-.94L8.5 2.5l-.94 2.06-2.06.94zm10 10l.94 2.06.94-2.06 2.06-.94-2.06-.94-.94-2.06-.94 2.06-2.06.94z\"/><path d=\"M17.41 7.96l-1.37-1.37c-.4-.4-.92-.59-1.43-.59-.52 0-1.04.2-1.43.59L10.3 9.45l-7.72 7.72c-.78.78-.78 2.05 0 2.83L4 21.41c.39.39.9.59 1.41.59.51 0 1.02-.2 1.41-.59l7.78-7.78 2.81-2.81c.8-.78.8-2.07 0-2.86zM5.41 20L4 18.59l7.72-7.72 1.47 1.35L5.41 20z\"/>\n",
              "  </svg>\n",
              "      </button>\n",
              "      \n",
              "  <style>\n",
              "    .colab-df-container {\n",
              "      display:flex;\n",
              "      flex-wrap:wrap;\n",
              "      gap: 12px;\n",
              "    }\n",
              "\n",
              "    .colab-df-convert {\n",
              "      background-color: #E8F0FE;\n",
              "      border: none;\n",
              "      border-radius: 50%;\n",
              "      cursor: pointer;\n",
              "      display: none;\n",
              "      fill: #1967D2;\n",
              "      height: 32px;\n",
              "      padding: 0 0 0 0;\n",
              "      width: 32px;\n",
              "    }\n",
              "\n",
              "    .colab-df-convert:hover {\n",
              "      background-color: #E2EBFA;\n",
              "      box-shadow: 0px 1px 2px rgba(60, 64, 67, 0.3), 0px 1px 3px 1px rgba(60, 64, 67, 0.15);\n",
              "      fill: #174EA6;\n",
              "    }\n",
              "\n",
              "    [theme=dark] .colab-df-convert {\n",
              "      background-color: #3B4455;\n",
              "      fill: #D2E3FC;\n",
              "    }\n",
              "\n",
              "    [theme=dark] .colab-df-convert:hover {\n",
              "      background-color: #434B5C;\n",
              "      box-shadow: 0px 1px 3px 1px rgba(0, 0, 0, 0.15);\n",
              "      filter: drop-shadow(0px 1px 2px rgba(0, 0, 0, 0.3));\n",
              "      fill: #FFFFFF;\n",
              "    }\n",
              "  </style>\n",
              "\n",
              "      <script>\n",
              "        const buttonEl =\n",
              "          document.querySelector('#df-be1a8d11-866d-4607-8252-0902e4477f61 button.colab-df-convert');\n",
              "        buttonEl.style.display =\n",
              "          google.colab.kernel.accessAllowed ? 'block' : 'none';\n",
              "\n",
              "        async function convertToInteractive(key) {\n",
              "          const element = document.querySelector('#df-be1a8d11-866d-4607-8252-0902e4477f61');\n",
              "          const dataTable =\n",
              "            await google.colab.kernel.invokeFunction('convertToInteractive',\n",
              "                                                     [key], {});\n",
              "          if (!dataTable) return;\n",
              "\n",
              "          const docLinkHtml = 'Like what you see? Visit the ' +\n",
              "            '<a target=\"_blank\" href=https://colab.research.google.com/notebooks/data_table.ipynb>data table notebook</a>'\n",
              "            + ' to learn more about interactive tables.';\n",
              "          element.innerHTML = '';\n",
              "          dataTable['output_type'] = 'display_data';\n",
              "          await google.colab.output.renderOutput(dataTable, element);\n",
              "          const docLink = document.createElement('div');\n",
              "          docLink.innerHTML = docLinkHtml;\n",
              "          element.appendChild(docLink);\n",
              "        }\n",
              "      </script>\n",
              "    </div>\n",
              "  </div>\n",
              "  "
            ]
          },
          "metadata": {},
          "execution_count": 49
        }
      ]
    },
    {
      "cell_type": "markdown",
      "source": [
        "## Let's perform 'one-hot encoding' to determine the correlation between features and subsequently build models to predict customer churn."
      ],
      "metadata": {
        "id": "gHHRXOww3Ei8"
      }
    },
    {
      "cell_type": "code",
      "source": [
        "# #import pandas as pd\n",
        "# transformed_df = pd.get_dummies(source_dataset, columns = ['format'])\n",
        "# transformed_df.head(5)"
      ],
      "metadata": {
        "id": "hV5hbEKnNBlE"
      },
      "execution_count": null,
      "outputs": []
    },
    {
      "cell_type": "markdown",
      "source": [
        "## What is the distribution of the top 50 most frequent words (excluding the stop words) for each of the textual features?\n",
        "\n",
        "Answer: We will be considering the textual features reviewText and summary for this question"
      ],
      "metadata": {
        "id": "7--wtjzbZ3ho"
      }
    },
    {
      "cell_type": "markdown",
      "source": [
        "Let us first remove the stop words and create corresponding columns for each of these features"
      ],
      "metadata": {
        "id": "CQPD5KaEaOdj"
      }
    },
    {
      "cell_type": "code",
      "source": [
        "# source_dataset.drop([\"reviewText_num_characters\",\"reviewText_num_words\",\"contains_Non_AlphaNumeric\"],axis=1])\n",
        "# source_dataset.drop(columns=[\"reviewText_num_characters\",\"reviewText_num_words\",\"contains_Non_AlphaNumeric\"],axis=1,inplace=True)"
      ],
      "metadata": {
        "id": "0Nr4tkuW1kQe"
      },
      "execution_count": null,
      "outputs": []
    },
    {
      "cell_type": "code",
      "source": [
        "from nltk.corpus import stopwords\n",
        "nltk.download('stopwords')\n",
        "stop_words = set(stopwords.words('english')) "
      ],
      "metadata": {
        "colab": {
          "base_uri": "https://localhost:8080/"
        },
        "id": "nPD1VF4pZ21Y",
        "outputId": "07d73eb4-28a6-43c3-e4d6-854498d8d35d"
      },
      "execution_count": null,
      "outputs": [
        {
          "output_type": "stream",
          "name": "stderr",
          "text": [
            "[nltk_data] Downloading package stopwords to /root/nltk_data...\n",
            "[nltk_data]   Package stopwords is already up-to-date!\n"
          ]
        }
      ]
    },
    {
      "cell_type": "code",
      "source": [
        "# a = [ ] while(1): a.append('1')\n",
        "\n"
      ],
      "metadata": {
        "id": "huyHzn17v03p"
      },
      "execution_count": null,
      "outputs": []
    },
    {
      "cell_type": "code",
      "source": [
        "source_dataset['reviewText'][0]"
      ],
      "metadata": {
        "colab": {
          "base_uri": "https://localhost:8080/",
          "height": 73
        },
        "id": "PjTjbnwYTIlH",
        "outputId": "974e59d9-34ee-4e6f-8622-3af65a6d0fd5"
      },
      "execution_count": null,
      "outputs": [
        {
          "output_type": "execute_result",
          "data": {
            "text/plain": [
              "'Dr. Seuss has some really brilliant books.  This book is just a so-so Dr. Seuss.  As a parent who is familiar with about 15 Dr. Seuss books, this is one of my least favorite books.\\nThe book attempts to teach the child what \"Up\" means.  There is a terrific amount of repetition, and the cleverness in the rhyming and pictures is not \"Up!\" to par with other Dr. Seuss books.\\nMy 6-month old children are too young to understand this book, but I think that Mommy and Daddy will tire of the book long before they have gotten the very simple and trivial message in this book : what is the difference between Up and Down ...'"
            ],
            "application/vnd.google.colaboratory.intrinsic+json": {
              "type": "string"
            }
          },
          "metadata": {},
          "execution_count": 54
        }
      ]
    },
    {
      "cell_type": "code",
      "source": [
        "# words = [word for w in source_dataset['reviewText_tokenized'] for word in w  if word.lower() not in stop_words]\n",
        "\n",
        "source_dataset['reviewText_filtered'] = source_dataset['reviewText'].apply(lambda x: ' '.join(word for word in x.split() if word.lower() not in stop_words))\n",
        "source_dataset['summary_filtered'] = source_dataset['summary'].apply(lambda x: ' '.join(word for word in x.split() if word.lower() not in stop_words))\n",
        "\n",
        "\n",
        "# [[w for w in text.split() if w.lower() not in stopwords_set]\n",
        "#             for text in texts]"
      ],
      "metadata": {
        "id": "Aac4F9p4tZah"
      },
      "execution_count": null,
      "outputs": []
    },
    {
      "cell_type": "code",
      "source": [
        "source_dataset['reviewText_filtered'][0]"
      ],
      "metadata": {
        "colab": {
          "base_uri": "https://localhost:8080/",
          "height": 55
        },
        "id": "RNsbj3UPTFCz",
        "outputId": "f76d5a33-1136-4cfa-9987-9870e4948238"
      },
      "execution_count": null,
      "outputs": [
        {
          "output_type": "execute_result",
          "data": {
            "text/plain": [
              "'Dr. Seuss really brilliant books. book so-so Dr. Seuss. parent familiar 15 Dr. Seuss books, one least favorite books. book attempts teach child \"Up\" means. terrific amount repetition, cleverness rhyming pictures \"Up!\" par Dr. Seuss books. 6-month old children young understand book, think Mommy Daddy tire book long gotten simple trivial message book : difference ...'"
            ],
            "application/vnd.google.colaboratory.intrinsic+json": {
              "type": "string"
            }
          },
          "metadata": {},
          "execution_count": 56
        }
      ]
    },
    {
      "cell_type": "code",
      "source": [
        "# from nltk.probability import FreqDist\n",
        "\n",
        "# # Count frequency of each token in the list\n",
        "# FreqDist(words)\n",
        "# words=pd.series\n",
        "source_dataset['reviewText_filtered'].value_counts(ascending=False)[0:50]"
      ],
      "metadata": {
        "colab": {
          "base_uri": "https://localhost:8080/"
        },
        "id": "XaijLKNb3woX",
        "outputId": "b9886b5a-3343-47f2-b7ae-7e5c907b6e36"
      },
      "execution_count": null,
      "outputs": [
        {
          "output_type": "execute_result",
          "data": {
            "text/plain": [
              "good           1737\n",
              "great          1117\n",
              "Great          1109\n",
              "Great book      964\n",
              "Good            898\n",
              "good book       863\n",
              "Good read       724\n",
              "ok              723\n",
              "Excellent       687\n",
              "good read       683\n",
              "Good book       682\n",
              "great book      642\n",
              "Great book!     539\n",
              "Great read      506\n",
              "love            487\n",
              "Loved           441\n",
              "Love            437\n",
              "Great!          412\n",
              "Great book.     408\n",
              "excellent       364\n",
              "loved           337\n",
              "Good read.      321\n",
              "Loved it!       298\n",
              "great read      296\n",
              "Good book.      288\n",
              "Great read!     280\n",
              "Ok              254\n",
              "good read.      253\n",
              "Awesome         231\n",
              "                230\n",
              "OK              230\n",
              "Excellent!      226\n",
              "nice            224\n",
              "Thanks          214\n",
              "Great read.     209\n",
              "Love it!        207\n",
              "gift            196\n",
              "good.           190\n",
              "Thank           189\n",
              "expected        178\n",
              "thanks          177\n",
              "interesting     175\n",
              "Loved it.       166\n",
              "good book.      158\n",
              "thank           155\n",
              "helpful         146\n",
              "A+              144\n",
              "Perfect         144\n",
              "Interesting     143\n",
              "informative     142\n",
              "Name: reviewText_filtered, dtype: int64"
            ]
          },
          "metadata": {},
          "execution_count": 57
        }
      ]
    },
    {
      "cell_type": "code",
      "source": [
        "import gc\n",
        "gc.collect()"
      ],
      "metadata": {
        "colab": {
          "base_uri": "https://localhost:8080/"
        },
        "id": "uYPWMoaV2ccm",
        "outputId": "98d43520-3f9f-4440-a8a4-0259e8808725"
      },
      "execution_count": null,
      "outputs": [
        {
          "output_type": "execute_result",
          "data": {
            "text/plain": [
              "267"
            ]
          },
          "metadata": {},
          "execution_count": 58
        }
      ]
    },
    {
      "cell_type": "code",
      "source": [
        "source_dataset['summary_filtered'].value_counts(ascending=False)[0:50]"
      ],
      "metadata": {
        "colab": {
          "base_uri": "https://localhost:8080/"
        },
        "id": "Ol1I3SuvUyHs",
        "outputId": "f747bb60-ae3d-471e-c6c8-c6a07df0591c"
      },
      "execution_count": null,
      "outputs": [
        {
          "output_type": "execute_result",
          "data": {
            "text/plain": [
              "Five Stars       93657\n",
              "Four Stars       23557\n",
              "Three Stars       9118\n",
              "Great book        3501\n",
              "Good read         3310\n",
              "Great read        3042\n",
              "Two Stars         2949\n",
              "One Star          2752\n",
              "Loved             2357\n",
              "Excellent         2327\n",
              "Loved it!         2235\n",
              "Great             2089\n",
              "good read         1929\n",
              "Good              1857\n",
              "Good book         1847\n",
              "good              1802\n",
              "Great Read        1779\n",
              "Great Book        1716\n",
              "Great book!       1607\n",
              "Good Read         1593\n",
              "Awesome           1520\n",
              "Love              1473\n",
              "Great read!       1461\n",
              "Amazing           1412\n",
              "                  1328\n",
              "Wow               1171\n",
              "great read        1153\n",
              "great book        1150\n",
              "good book         1075\n",
              "Wonderful         1072\n",
              "Interesting       1070\n",
              "Great story        985\n",
              "Disappointing      917\n",
              "Great!             867\n",
              "Enjoyable          829\n",
              "great              814\n",
              "Excellent!         807\n",
              "Good Book          796\n",
              "love               773\n",
              "Great Book!        764\n",
              "ok                 759\n",
              "Fantastic          729\n",
              "Disappointed       715\n",
              "Love it!           715\n",
              "Great Read!        712\n",
              "Wow!               691\n",
              "Good story         678\n",
              "Awesome!           671\n",
              "loved              659\n",
              "must read          650\n",
              "Name: summary_filtered, dtype: int64"
            ]
          },
          "metadata": {},
          "execution_count": 59
        }
      ]
    },
    {
      "cell_type": "code",
      "source": [
        "source_dataset[\"format\"].value_counts(ascending=False)"
      ],
      "metadata": {
        "colab": {
          "base_uri": "https://localhost:8080/"
        },
        "id": "4ecCxzGd5YR2",
        "outputId": "d043eed7-b813-4355-c1aa-200251527bcd"
      },
      "execution_count": null,
      "outputs": [
        {
          "output_type": "execute_result",
          "data": {
            "text/plain": [
              " Kindle Edition                     561493\n",
              " Paperback                          229310\n",
              " Hardcover                          133260\n",
              " Mass Market Paperback               32080\n",
              "No Format                            17879\n",
              " Board book                           4847\n",
              " Audio CD                             4275\n",
              " Spiral-bound                         2434\n",
              " Audible Audiobook                    2008\n",
              " Cards                                1643\n",
              " Calendar                              905\n",
              " Perfect Paperback                     854\n",
              " Imitation Leather                     813\n",
              " Pamphlet                              659\n",
              " DVD                                   559\n",
              " Diary                                 519\n",
              " MP3 CD                                514\n",
              " Map                                   472\n",
              " Leather Bound                         462\n",
              " Hardcover-spiral                      427\n",
              " Kindle Edition with Audio/Video       423\n",
              " Library Binding                       408\n",
              " Audio Cassette                        391\n",
              " Plastic Comb                          382\n",
              " Misc. Supplies                        361\n",
              " Amazon Video                          326\n",
              " Flexibound                            322\n",
              " Ring-bound                            157\n",
              " Bonded Leather                        155\n",
              " Unknown Binding                       135\n",
              " Sheet music                           105\n",
              " Loose Leaf                            102\n",
              " School & Library Binding              101\n",
              " Blu-ray                                98\n",
              " Stationery                             88\n",
              " Vinyl Bound                            82\n",
              " Staple Bound                           75\n",
              " Comic                                  67\n",
              " CD-ROM                                 57\n",
              " Bookmark                               54\n",
              " Card Book                              49\n",
              " Misc.                                  48\n",
              " Turtleback                             47\n",
              " Roughcut                               41\n",
              " VHS Tape                               38\n",
              " DVD-ROM                                37\n",
              " Toy                                    35\n",
              " Journal                                34\n",
              " Prime Video                            33\n",
              " Accessory                              29\n",
              " Game                                   27\n",
              " Rag Book                               24\n",
              " Textbook Binding                       23\n",
              " MP3 Music                              23\n",
              " Single Issue Magazine                  22\n",
              " Poster                                 20\n",
              " Album                                  19\n",
              " Bath Book                              18\n",
              " Health and Beauty                      14\n",
              " Pocket Book                            13\n",
              " Printed Access Code                    10\n",
              " Vinyl                                   8\n",
              " Print on Demand (Paperback)             8\n",
              " Kitchen                                 8\n",
              " Electronics                             8\n",
              " Pop-Up                                  7\n",
              " Unbound                                 6\n",
              " Preloaded Digital Audio Player          6\n",
              " Tankobon Softcover                      4\n",
              " Apparel                                 4\n",
              " Audio CD Library Binding                4\n",
              " Wall Chart                              4\n",
              " JP Oversized                            3\n",
              " Digital                                 3\n",
              " Product Bundle                          2\n",
              " Tankobon Hardcover                      2\n",
              " Workbook                                2\n",
              " Tools & Home Improvement                2\n",
              " Office Product                          2\n",
              " Baby Product                            1\n",
              " Board Game                              1\n",
              " MiniDisc                                1\n",
              " Wireless Phone Accessory                1\n",
              " DVD Audio                               1\n",
              " Print on Demand (Hardcover)             1\n",
              " Print on Demand                         1\n",
              " Diskette                                1\n",
              " Sports                                  1\n",
              " HD DVD                                  1\n",
              " Paperback Bunko                         1\n",
              "Name: format, dtype: Int64"
            ]
          },
          "metadata": {},
          "execution_count": 60
        }
      ]
    },
    {
      "cell_type": "markdown",
      "source": [
        "## As visible from the proportion information, the following are the least common formats of books:\n",
        "\n",
        "Baby Product\n",
        "\n",
        "Board Game\n",
        "\n",
        "MiniDisc\n",
        "\n",
        "Wireless Phone Accessory\n",
        "\n",
        "DVD Audio\n",
        "\n",
        "Print on Demand (Hardcover)\n",
        "\n",
        "Diskette\n",
        "\n",
        "Sports\n",
        "\n",
        "HD DVD\n",
        "\n",
        "Paperback Bunko\n"
      ],
      "metadata": {
        "id": "xHP4yU3g6FgV"
      }
    },
    {
      "cell_type": "code",
      "source": [
        "source_dataset[\"format\"].value_counts(ascending=False)"
      ],
      "metadata": {
        "colab": {
          "base_uri": "https://localhost:8080/"
        },
        "id": "PuNTqqzK-EPv",
        "outputId": "41972829-96cf-47d1-a0d9-e8a207e40a96"
      },
      "execution_count": null,
      "outputs": [
        {
          "output_type": "execute_result",
          "data": {
            "text/plain": [
              " Kindle Edition                     561493\n",
              " Paperback                          229310\n",
              " Hardcover                          133260\n",
              " Mass Market Paperback               32080\n",
              "No Format                            17879\n",
              " Board book                           4847\n",
              " Audio CD                             4275\n",
              " Spiral-bound                         2434\n",
              " Audible Audiobook                    2008\n",
              " Cards                                1643\n",
              " Calendar                              905\n",
              " Perfect Paperback                     854\n",
              " Imitation Leather                     813\n",
              " Pamphlet                              659\n",
              " DVD                                   559\n",
              " Diary                                 519\n",
              " MP3 CD                                514\n",
              " Map                                   472\n",
              " Leather Bound                         462\n",
              " Hardcover-spiral                      427\n",
              " Kindle Edition with Audio/Video       423\n",
              " Library Binding                       408\n",
              " Audio Cassette                        391\n",
              " Plastic Comb                          382\n",
              " Misc. Supplies                        361\n",
              " Amazon Video                          326\n",
              " Flexibound                            322\n",
              " Ring-bound                            157\n",
              " Bonded Leather                        155\n",
              " Unknown Binding                       135\n",
              " Sheet music                           105\n",
              " Loose Leaf                            102\n",
              " School & Library Binding              101\n",
              " Blu-ray                                98\n",
              " Stationery                             88\n",
              " Vinyl Bound                            82\n",
              " Staple Bound                           75\n",
              " Comic                                  67\n",
              " CD-ROM                                 57\n",
              " Bookmark                               54\n",
              " Card Book                              49\n",
              " Misc.                                  48\n",
              " Turtleback                             47\n",
              " Roughcut                               41\n",
              " VHS Tape                               38\n",
              " DVD-ROM                                37\n",
              " Toy                                    35\n",
              " Journal                                34\n",
              " Prime Video                            33\n",
              " Accessory                              29\n",
              " Game                                   27\n",
              " Rag Book                               24\n",
              " Textbook Binding                       23\n",
              " MP3 Music                              23\n",
              " Single Issue Magazine                  22\n",
              " Poster                                 20\n",
              " Album                                  19\n",
              " Bath Book                              18\n",
              " Health and Beauty                      14\n",
              " Pocket Book                            13\n",
              " Printed Access Code                    10\n",
              " Vinyl                                   8\n",
              " Print on Demand (Paperback)             8\n",
              " Kitchen                                 8\n",
              " Electronics                             8\n",
              " Pop-Up                                  7\n",
              " Unbound                                 6\n",
              " Preloaded Digital Audio Player          6\n",
              " Tankobon Softcover                      4\n",
              " Apparel                                 4\n",
              " Audio CD Library Binding                4\n",
              " Wall Chart                              4\n",
              " JP Oversized                            3\n",
              " Digital                                 3\n",
              " Product Bundle                          2\n",
              " Tankobon Hardcover                      2\n",
              " Workbook                                2\n",
              " Tools & Home Improvement                2\n",
              " Office Product                          2\n",
              " Baby Product                            1\n",
              " Board Game                              1\n",
              " MiniDisc                                1\n",
              " Wireless Phone Accessory                1\n",
              " DVD Audio                               1\n",
              " Print on Demand (Hardcover)             1\n",
              " Print on Demand                         1\n",
              " Diskette                                1\n",
              " Sports                                  1\n",
              " HD DVD                                  1\n",
              " Paperback Bunko                         1\n",
              "Name: format, dtype: Int64"
            ]
          },
          "metadata": {},
          "execution_count": 61
        }
      ]
    },
    {
      "cell_type": "markdown",
      "source": [
        "##Finding Patterns in the Dataset"
      ],
      "metadata": {
        "id": "2zSEFJKR-w6h"
      }
    },
    {
      "cell_type": "markdown",
      "source": [
        "## Kindle Edition, Paperbacks and Hardcovers are the three most popular formats of Books, within the scope of the dataset.\n",
        "\n"
      ],
      "metadata": {
        "id": "3rnfE36hAsY-"
      }
    },
    {
      "cell_type": "markdown",
      "source": [
        "## Again Kindle Edition, Paperbacks and Hardcovers are the three most popular formats of Books which have an overall score of 5\n"
      ],
      "metadata": {
        "id": "aqRUylulVMA5"
      }
    },
    {
      "cell_type": "code",
      "source": [
        "source_dataset[source_dataset.overall==5][\"format\"].value_counts()"
      ],
      "metadata": {
        "colab": {
          "base_uri": "https://localhost:8080/"
        },
        "id": "VfE714XfBYa0",
        "outputId": "ff919fcd-4a16-4faa-c471-ca128df9f4c8"
      },
      "execution_count": null,
      "outputs": [
        {
          "output_type": "execute_result",
          "data": {
            "text/plain": [
              " Kindle Edition                     344655\n",
              " Paperback                          149846\n",
              " Hardcover                           84124\n",
              " Mass Market Paperback               17897\n",
              "No Format                            12160\n",
              " Board book                           3819\n",
              " Audio CD                             2838\n",
              " Spiral-bound                         1755\n",
              " Cards                                1224\n",
              " Audible Audiobook                    1087\n",
              " Calendar                              779\n",
              " Perfect Paperback                     625\n",
              " Imitation Leather                     623\n",
              " Pamphlet                              460\n",
              " Diary                                 386\n",
              " DVD                                   382\n",
              " Leather Bound                         369\n",
              " MP3 CD                                332\n",
              " Hardcover-spiral                      312\n",
              " Map                                   311\n",
              " Library Binding                       292\n",
              " Plastic Comb                          283\n",
              " Misc. Supplies                        261\n",
              " Flexibound                            244\n",
              " Kindle Edition with Audio/Video       241\n",
              " Audio Cassette                        227\n",
              " Amazon Video                          198\n",
              " Ring-bound                            128\n",
              " Bonded Leather                        125\n",
              " Unknown Binding                        81\n",
              " Sheet music                            79\n",
              " Blu-ray                                69\n",
              " School & Library Binding               69\n",
              " Stationery                             65\n",
              " Loose Leaf                             64\n",
              " Vinyl Bound                            59\n",
              " Staple Bound                           51\n",
              " Bookmark                               45\n",
              " Comic                                  42\n",
              " Turtleback                             40\n",
              " CD-ROM                                 34\n",
              " Card Book                              34\n",
              " Roughcut                               31\n",
              " VHS Tape                               29\n",
              " Misc.                                  29\n",
              " Journal                                28\n",
              " DVD-ROM                                24\n",
              " Toy                                    24\n",
              " Game                                   21\n",
              " Rag Book                               21\n",
              " Accessory                              20\n",
              " MP3 Music                              19\n",
              " Bath Book                              15\n",
              " Album                                  14\n",
              " Poster                                 14\n",
              " Single Issue Magazine                  13\n",
              " Pocket Book                            12\n",
              " Prime Video                            12\n",
              " Textbook Binding                       11\n",
              " Health and Beauty                      10\n",
              " Electronics                             7\n",
              " Kitchen                                 7\n",
              " Pop-Up                                  6\n",
              " Print on Demand (Paperback)             6\n",
              " Printed Access Code                     6\n",
              " Vinyl                                   6\n",
              " Tankobon Softcover                      4\n",
              " Wall Chart                              3\n",
              " JP Oversized                            3\n",
              " Apparel                                 3\n",
              " Preloaded Digital Audio Player          3\n",
              " Tools & Home Improvement                2\n",
              " Office Product                          2\n",
              " Digital                                 2\n",
              " Baby Product                            1\n",
              " Print on Demand                         1\n",
              " Unbound                                 1\n",
              " Wireless Phone Accessory                1\n",
              " DVD Audio                               1\n",
              " Diskette                                1\n",
              " Board Game                              1\n",
              " HD DVD                                  1\n",
              " Audio CD Library Binding                1\n",
              " Product Bundle                          1\n",
              " Tankobon Hardcover                      1\n",
              "Name: format, dtype: Int64"
            ]
          },
          "metadata": {},
          "execution_count": 62
        }
      ]
    },
    {
      "cell_type": "markdown",
      "source": [
        "## A total of 12160 books where the format wasn't specified had an overall score of 5."
      ],
      "metadata": {
        "id": "OvLeHAKKDDmY"
      }
    },
    {
      "cell_type": "code",
      "source": [
        "source_dataset[source_dataset.format==\"No Format\"][\"overall\"].value_counts(ascending=True)"
      ],
      "metadata": {
        "colab": {
          "base_uri": "https://localhost:8080/"
        },
        "outputId": "0459c247-6e7c-4cbb-aecb-ac321c7cd9f0",
        "id": "hAhtDxFpCggX"
      },
      "execution_count": null,
      "outputs": [
        {
          "output_type": "execute_result",
          "data": {
            "text/plain": [
              "2      576\n",
              "1      651\n",
              "3     1326\n",
              "4     3166\n",
              "5    12160\n",
              "Name: overall, dtype: Int64"
            ]
          },
          "metadata": {},
          "execution_count": 63
        }
      ]
    },
    {
      "cell_type": "markdown",
      "source": [
        "# 2. Text normalization and feature engineering "
      ],
      "metadata": {
        "id": "9-Dxh7wGDQ2z"
      }
    },
    {
      "cell_type": "markdown",
      "source": [
        "## Create a new column merging review summary and text."
      ],
      "metadata": {
        "id": "FqgAX-DUDT3r"
      }
    },
    {
      "cell_type": "code",
      "source": [
        "source_dataset['merged_review_summary'] = source_dataset['reviewText'] + source_dataset['summary']"
      ],
      "metadata": {
        "id": "nIMB_RXcDWYE"
      },
      "execution_count": null,
      "outputs": []
    },
    {
      "cell_type": "markdown",
      "source": [
        "## Remove stop words."
      ],
      "metadata": {
        "id": "Tp9paylODi14"
      }
    },
    {
      "cell_type": "markdown",
      "source": [
        "Reference: [Stackoverflow](https://stackoverflow.com/questions/29523254/python-remove-stop-words-from-pandas-dataframe)"
      ],
      "metadata": {
        "id": "5HiMzA0ZF_QD"
      }
    },
    {
      "cell_type": "code",
      "source": [
        "source_dataset['merged_review_summary'] = source_dataset['merged_review_summary'].apply(lambda x: ' '.join(word.lower() for word in x.split() if word.lower() not in stop_words))"
      ],
      "metadata": {
        "id": "HMD5nNNlEVD8"
      },
      "execution_count": null,
      "outputs": []
    },
    {
      "cell_type": "code",
      "source": [
        "source_dataset['merged_review_summary'][5]"
      ],
      "metadata": {
        "colab": {
          "base_uri": "https://localhost:8080/",
          "height": 91
        },
        "id": "-iDrV3i2Fuqa",
        "outputId": "d4d8ac3c-fda8-4049-d9e5-c0a518dfd32d"
      },
      "execution_count": null,
      "outputs": [
        {
          "output_type": "execute_result",
          "data": {
            "text/plain": [
              "'i, like many reviewers here, long standing fan tony hillerman\\'s mysteries featuring joe \"the legendary lieutenant\" leaphorn jim chee. i, also like many reviewers, found __the sinister pig__ compelling mystery. carries many themes earlier hillerman mysteries: sgt. jim chee navajo tribal police, love bernadette \"bernie\" manuelito, formerly tribal police, border patrol. chee afraid tell feelings fear rejection. aforementioned bernadette manuuelito love jim chee, also afraid express love due fear. retired \"legendary lieutenant\" ever-present maps analytical mind. always pleasure meet three again. powerful businessman/criminal money, political connections, evil intentions let anything anyone stand way. couple ex-c.i.a. agents, one operating incognito murdered almost book opens, working amoral rich man. throw characters pot mix search 40 billion dollars missing royalties never paid various indigenous tribes, c.i.a. man\\'s murder, drug smuggling plot, mystery (or perhaps mysteries) requires best leaphorn\\'s analytical abilities chee\\'s intuition begin get bottom things. well, that\\'s plot nutshell, make story well worth reading, but, something missing come anticipate hillerman\\'s novels. majority previous novels, included, integral part plots, information widely known navajo, occasionally hopi, customs, mythological history, religious rites. always felt getting cultural education well reading good mystery. unique aspect previous books missing here, i, one, missed aspect knowledge usually shares us. even unique aspect writing missing, __the sinister pig__ novel worth reading.a complex , suspenseful plot, . . . . .'"
            ],
            "application/vnd.google.colaboratory.intrinsic+json": {
              "type": "string"
            }
          },
          "metadata": {},
          "execution_count": 66
        }
      ]
    },
    {
      "cell_type": "markdown",
      "source": [
        "## Remove numbers and other non-letter characters.\n"
      ],
      "metadata": {
        "id": "5b3whdkpDicW"
      }
    },
    {
      "cell_type": "code",
      "source": [
        "source_dataset['merged_review_summary'] = source_dataset['merged_review_summary'].str.replace('[^a-zA-Z]', ' ')"
      ],
      "metadata": {
        "colab": {
          "base_uri": "https://localhost:8080/"
        },
        "id": "YKwzSiPQGG7U",
        "outputId": "7989b821-263a-4466-93c1-728352d7ee32"
      },
      "execution_count": null,
      "outputs": [
        {
          "output_type": "stream",
          "name": "stderr",
          "text": [
            "/usr/local/lib/python3.7/dist-packages/ipykernel_launcher.py:1: FutureWarning: The default value of regex will change from True to False in a future version.\n",
            "  \"\"\"Entry point for launching an IPython kernel.\n"
          ]
        }
      ]
    },
    {
      "cell_type": "code",
      "source": [
        "source_dataset['merged_review_summary'][5]"
      ],
      "metadata": {
        "colab": {
          "base_uri": "https://localhost:8080/",
          "height": 91
        },
        "id": "FLKrVlxcGd19",
        "outputId": "9a4f4fd2-1650-4ed8-b46e-083df33b69d4"
      },
      "execution_count": null,
      "outputs": [
        {
          "output_type": "execute_result",
          "data": {
            "text/plain": [
              "'i  like many reviewers here  long standing fan tony hillerman s mysteries featuring joe  the legendary lieutenant  leaphorn jim chee  i  also like many reviewers  found   the sinister pig   compelling mystery  carries many themes earlier hillerman mysteries  sgt  jim chee navajo tribal police  love bernadette  bernie  manuelito  formerly tribal police  border patrol  chee afraid tell feelings fear rejection  aforementioned bernadette manuuelito love jim chee  also afraid express love due fear  retired  legendary lieutenant  ever present maps analytical mind  always pleasure meet three again  powerful businessman criminal money  political connections  evil intentions let anything anyone stand way  couple ex c i a  agents  one operating incognito murdered almost book opens  working amoral rich man  throw characters pot mix search    billion dollars missing royalties never paid various indigenous tribes  c i a  man s murder  drug smuggling plot  mystery  or perhaps mysteries  requires best leaphorn s analytical abilities chee s intuition begin get bottom things  well  that s plot nutshell  make story well worth reading  but  something missing come anticipate hillerman s novels  majority previous novels  included  integral part plots  information widely known navajo  occasionally hopi  customs  mythological history  religious rites  always felt getting cultural education well reading good mystery  unique aspect previous books missing here  i  one  missed aspect knowledge usually shares us  even unique aspect writing missing    the sinister pig   novel worth reading a complex   suspenseful plot           '"
            ],
            "application/vnd.google.colaboratory.intrinsic+json": {
              "type": "string"
            }
          },
          "metadata": {},
          "execution_count": 68
        }
      ]
    },
    {
      "cell_type": "markdown",
      "source": [
        "## Perform either lemmatization or stemming. Motivate your choice."
      ],
      "metadata": {
        "id": "2ch5MwnEDiTk"
      }
    },
    {
      "cell_type": "markdown",
      "source": [
        "We have perfromed lemmatization. This is due to the fact that lemmatization reveals the root word corresponding to each word whereas stemming removes the inflections such as \"ish\" and \"ing\" from words. We desired to find the root word to perform analysis on the nature of the review. Stemming might have had adverse impact on this analysis since it does not always return complete words.\n",
        "\n",
        "Please note that we have taken only 100,000 rows, as stated in the assignment handout, in the interest if time and simplicity."
      ],
      "metadata": {
        "id": "64eg4JSkGgiN"
      }
    },
    {
      "cell_type": "code",
      "source": [
        "# w_tokenizer = nltk.tokenize.WhitespaceTokenizer()\n",
        "# lemmatizer = nltk.stem.WordNetLemmatizer()\n",
        "\n",
        "# def lemmatize_text(text):\n",
        "#     return [lemmatizer.lemmatize(w) for w in w_tokenizer.tokenize(text)]\n",
        "\n",
        "# source_dataset['text_lemmatized'] = df.text.apply(lemmatize_text)\n",
        "\n",
        "from nltk.stem.wordnet import WordNetLemmatizer\n",
        "\n",
        "# instantiate lemmatizer\n",
        "lem = WordNetLemmatizer()\n",
        "\n",
        "# word = \"flies\"\n",
        "# # lemmatize \"flies\" as a verb (flies => (to) fly)\n",
        "# print(\"Lemmatized Word:\",lem.lemmatize(word,\"v\"))\n",
        "\n",
        "min_dataset = source_dataset.iloc[0:100000]\n",
        "\n",
        "min_dataset['text_lemmatized'] = min_dataset.merged_review_summary.apply(lambda x: ' '.join(lem.lemmatize(word,\"v\") for word in x.split()))"
      ],
      "metadata": {
        "colab": {
          "base_uri": "https://localhost:8080/"
        },
        "id": "P45LzEc-KDEs",
        "outputId": "aea01cd3-13cb-4654-b983-66391d3d7e6d"
      },
      "execution_count": null,
      "outputs": [
        {
          "output_type": "stream",
          "name": "stderr",
          "text": [
            "/usr/local/lib/python3.7/dist-packages/ipykernel_launcher.py:20: SettingWithCopyWarning: \n",
            "A value is trying to be set on a copy of a slice from a DataFrame.\n",
            "Try using .loc[row_indexer,col_indexer] = value instead\n",
            "\n",
            "See the caveats in the documentation: https://pandas.pydata.org/pandas-docs/stable/user_guide/indexing.html#returning-a-view-versus-a-copy\n"
          ]
        }
      ]
    },
    {
      "cell_type": "code",
      "source": [
        "source_dataset['merged_review_summary'][5]"
      ],
      "metadata": {
        "colab": {
          "base_uri": "https://localhost:8080/",
          "height": 91
        },
        "id": "jOCdqv1FPNN9",
        "outputId": "eb2b8f9e-594f-415d-9042-9727eac92bff"
      },
      "execution_count": null,
      "outputs": [
        {
          "output_type": "execute_result",
          "data": {
            "text/plain": [
              "'i  like many reviewers here  long standing fan tony hillerman s mysteries featuring joe  the legendary lieutenant  leaphorn jim chee  i  also like many reviewers  found   the sinister pig   compelling mystery  carries many themes earlier hillerman mysteries  sgt  jim chee navajo tribal police  love bernadette  bernie  manuelito  formerly tribal police  border patrol  chee afraid tell feelings fear rejection  aforementioned bernadette manuuelito love jim chee  also afraid express love due fear  retired  legendary lieutenant  ever present maps analytical mind  always pleasure meet three again  powerful businessman criminal money  political connections  evil intentions let anything anyone stand way  couple ex c i a  agents  one operating incognito murdered almost book opens  working amoral rich man  throw characters pot mix search    billion dollars missing royalties never paid various indigenous tribes  c i a  man s murder  drug smuggling plot  mystery  or perhaps mysteries  requires best leaphorn s analytical abilities chee s intuition begin get bottom things  well  that s plot nutshell  make story well worth reading  but  something missing come anticipate hillerman s novels  majority previous novels  included  integral part plots  information widely known navajo  occasionally hopi  customs  mythological history  religious rites  always felt getting cultural education well reading good mystery  unique aspect previous books missing here  i  one  missed aspect knowledge usually shares us  even unique aspect writing missing    the sinister pig   novel worth reading a complex   suspenseful plot           '"
            ],
            "application/vnd.google.colaboratory.intrinsic+json": {
              "type": "string"
            }
          },
          "metadata": {},
          "execution_count": 70
        }
      ]
    },
    {
      "cell_type": "code",
      "source": [
        "min_dataset['text_lemmatized'][5]"
      ],
      "metadata": {
        "colab": {
          "base_uri": "https://localhost:8080/",
          "height": 91
        },
        "id": "CRnWE_53OxZV",
        "outputId": "a1527e0f-9c3d-4359-c643-7a1e429cdf5b"
      },
      "execution_count": null,
      "outputs": [
        {
          "output_type": "execute_result",
          "data": {
            "text/plain": [
              "'i like many reviewers here long stand fan tony hillerman s mysteries feature joe the legendary lieutenant leaphorn jim chee i also like many reviewers find the sinister pig compel mystery carry many theme earlier hillerman mysteries sgt jim chee navajo tribal police love bernadette bernie manuelito formerly tribal police border patrol chee afraid tell feel fear rejection aforementioned bernadette manuuelito love jim chee also afraid express love due fear retire legendary lieutenant ever present map analytical mind always pleasure meet three again powerful businessman criminal money political connections evil intentions let anything anyone stand way couple ex c i a agents one operate incognito murder almost book open work amoral rich man throw character pot mix search billion dollars miss royalties never pay various indigenous tribes c i a man s murder drug smuggle plot mystery or perhaps mysteries require best leaphorn s analytical abilities chee s intuition begin get bottom things well that s plot nutshell make story well worth read but something miss come anticipate hillerman s novels majority previous novels include integral part plot information widely know navajo occasionally hopi customs mythological history religious rites always felt get cultural education well read good mystery unique aspect previous book miss here i one miss aspect knowledge usually share us even unique aspect write miss the sinister pig novel worth read a complex suspenseful plot'"
            ],
            "application/vnd.google.colaboratory.intrinsic+json": {
              "type": "string"
            }
          },
          "metadata": {},
          "execution_count": 71
        }
      ]
    },
    {
      "cell_type": "markdown",
      "source": [
        "We can observe that the merged text has been lemmatized. \n",
        "\n",
        "**Example:**\n",
        "\n",
        "Standing -> Stand\n",
        "\n",
        "found -> find"
      ],
      "metadata": {
        "id": "U7CGpOM3PQex"
      }
    },
    {
      "cell_type": "markdown",
      "source": [
        "## Convert the corpus into a bag-of-words TF-IDF weighted vector representation."
      ],
      "metadata": {
        "id": "mtc-adjtDiDA"
      }
    },
    {
      "cell_type": "code",
      "source": [
        "from sklearn.feature_extraction.text import TfidfVectorizer\n",
        "v = TfidfVectorizer()\n",
        "x = v.fit_transform(min_dataset['text_lemmatized'])"
      ],
      "metadata": {
        "id": "sz4jiTBzPf6S"
      },
      "execution_count": null,
      "outputs": []
    },
    {
      "cell_type": "markdown",
      "source": [
        "#Build a model to predict overall score\n",
        "\n",
        "The task that we are solving is relevant to Regression since we will be predicting a continuous feature - 'overall score'"
      ],
      "metadata": {
        "id": "Dx0HA4PyF5ES"
      }
    },
    {
      "cell_type": "markdown",
      "source": [
        "## Let's determine the correlation between 'Overall Score' and the other features in the dataframe\n",
        "\n",
        "**References:**\n",
        "\n",
        "1. [Seaborn Histogram Plots](https://seaborn.pydata.org/generated/seaborn.histplot.html)\n",
        "\n",
        "2. [Sort Bar Plots by a Column's values](https://stackoverflow.com/questions/40902958/pandas-dataframe-bar-plot-with-sort-values-by-other-column)"
      ],
      "metadata": {
        "id": "LaoVdtRoSCZh"
      }
    },
    {
      "cell_type": "code",
      "source": [
        "plt.figure(figsize=(15,8))\n",
        "colors = ['#264653','cyan', 'pink','#00A4CCFF', '#F95700FF','#101820FF', '#FEE715FF', 'brown','#00539CFF', '#EEA47FFF','gold', 'silver','#ED2B33FF', '#2C5F2D']\n",
        "min_dataset.corr()['overall'].sort_values(ascending = False).plot(kind = 'bar', color = colors)"
      ],
      "metadata": {
        "colab": {
          "base_uri": "https://localhost:8080/",
          "height": 700
        },
        "id": "Sapd3izoFmDz",
        "outputId": "16a71820-92e4-47bc-d2f8-2152df63122c"
      },
      "execution_count": null,
      "outputs": [
        {
          "output_type": "execute_result",
          "data": {
            "text/plain": [
              "<matplotlib.axes._subplots.AxesSubplot at 0x7f3e74476090>"
            ]
          },
          "metadata": {},
          "execution_count": 73
        },
        {
          "output_type": "display_data",
          "data": {
            "text/plain": [
              "<Figure size 1080x576 with 1 Axes>"
            ],
            "image/png": "[encoded data removed]"
          },
          "metadata": {
            "needs_background": "light"
          }
        }
      ]
    },
    {
      "cell_type": "markdown",
      "source": [
        "## Feature Transformation"
      ],
      "metadata": {
        "id": "LZ_EfCT4QDVP"
      }
    },
    {
      "cell_type": "code",
      "source": [
        "min_dataset.style\n",
        "import matplotlib.pyplot as plt\n",
        "import seaborn as sb\n",
        "dataplot=sb.heatmap(min_dataset.corr())\n",
        "plt.show()"
      ],
      "metadata": {
        "colab": {
          "base_uri": "https://localhost:8080/",
          "height": 688
        },
        "id": "ibIoc4z-1oLh",
        "outputId": "6035de59-c036-41f7-aefc-4522bf279498"
      },
      "execution_count": null,
      "outputs": [
        {
          "output_type": "display_data",
          "data": {
            "text/plain": [
              "<Figure size 864x576 with 2 Axes>"
            ],
            "image/png": "[encoded data removed]"
          },
          "metadata": {
            "needs_background": "light"
          }
        }
      ]
    },
    {
      "cell_type": "markdown",
      "source": [
        "### Before we perform feature selection let us drop columns that are obviously irrelevant to score prediction as these features might have an adverse effect on the model.\n",
        "\n",
        "### Let's also seprarate the Target Feature (overall score) from the Input Features."
      ],
      "metadata": {
        "id": "K_5ddD58e8XM"
      }
    },
    {
      "cell_type": "code",
      "source": [
        "min_dataset.head(10)"
      ],
      "metadata": {
        "colab": {
          "base_uri": "https://localhost:8080/",
          "height": 964
        },
        "id": "9fJkJWo5dgon",
        "outputId": "a05b419d-64e4-4bcc-8efb-93412481ca3e"
      },
      "execution_count": null,
      "outputs": [
        {
          "output_type": "execute_result",
          "data": {
            "text/plain": [
              "   overall  verified   reviewTime      reviewerID        asin  \\\n",
              "0        3         0  05 18, 2002   AJ8AQG2X9JJ2Y  0001712799   \n",
              "1        5         1  12 11, 2014  A12Q7B7NT716RV  0001712799   \n",
              "2        4         0   01 6, 2006  A1DK5AZMXS1QA3  0002006448   \n",
              "3        4         0   12 8, 2014  A1JMSX54DO3LOP  0002005263   \n",
              "4        2         1   03 3, 2014  A2IP27AZB3D1SM  0002005263   \n",
              "5        4         0  06 22, 2004  A2KSU7OOJ5C479  0002005263   \n",
              "6        5         1  01 21, 2004  A3FT7WR9YGU4RK  0002005263   \n",
              "7        1         1  06 10, 2003   AMFB2GBB2O84X  0002005263   \n",
              "8        5         1  12 18, 2017  A243JAEFC50KWI  0001384198   \n",
              "9        5         1   09 6, 2017  A25B7XXSTTN1IY  0001384198   \n",
              "\n",
              "        reviewerName                                         reviewText  \\\n",
              "0     Donald Gillies  Dr. Seuss has some really brilliant books.  Th...   \n",
              "1    True Value Girl                                            Love it   \n",
              "2         Newton Ooi  Hand-woven carpets are one of the few products...   \n",
              "3          Bookzilla  Compelling, twisting mystery involving several...   \n",
              "4     J. A. Drummond  I have read many of the Hillerman books and en...   \n",
              "5  Loren D. Morrison  I, like many of the other reviewers here, am a...   \n",
              "6        Anne Melvin  I had the CD read by George\n",
              "Guidall who does a...   \n",
              "7           Brakaian  I am a huge Tony Hillerman fan -- I've read ea...   \n",
              "8            dorothy                          We all love the classics.   \n",
              "9              Snake                                          I love it   \n",
              "\n",
              "                                          summary  unixReviewTime  \\\n",
              "0                  A below-average Dr. Seuss Book      1021680000   \n",
              "1                                      Five Stars      1418256000   \n",
              "2                              Tourism as history      1136505600   \n",
              "3                    Compelling, twisting mystery      1417996800   \n",
              "4                            Tony missed the mark      1393804800   \n",
              "5     A COMPLEX , SUSPENSEFUL PLOT, BUT . . . . .      1087862400   \n",
              "6                                 A good mystery.      1074643200   \n",
              "7  Easily Hillerman's worst -- very disappointing      1055203200   \n",
              "8                             Classics never die.      1513555200   \n",
              "9                                      Five Stars      1504656000   \n",
              "\n",
              "                      format  reviewText_num_characters  reviewText_num_words  \\\n",
              "0   School & Library Binding                        617                   117   \n",
              "1                  Hardcover                          7                     2   \n",
              "2                  Hardcover                       1419                   247   \n",
              "3             Kindle Edition                        314                    45   \n",
              "4             Kindle Edition                        235                    45   \n",
              "5                  Hardcover                       2244                   384   \n",
              "6                   Audio CD                        462                    88   \n",
              "7                  Hardcover                       1781                   328   \n",
              "8                  Hardcover                         25                     5   \n",
              "9                  Hardcover                          9                     3   \n",
              "\n",
              "  contains_Non_AlphaNumeric  \\\n",
              "0                      True   \n",
              "1                     False   \n",
              "2                      True   \n",
              "3                      True   \n",
              "4                      True   \n",
              "5                      True   \n",
              "6                      True   \n",
              "7                      True   \n",
              "8                      True   \n",
              "9                     False   \n",
              "\n",
              "                                 reviewText_filtered  \\\n",
              "0  Dr. Seuss really brilliant books. book so-so D...   \n",
              "1                                               Love   \n",
              "2  Hand-woven carpets one products Central Asia c...   \n",
              "3  Compelling, twisting mystery involving several...   \n",
              "4  read many Hillerman books enjoyed immensely. l...   \n",
              "5  I, like many reviewers here, long standing fan...   \n",
              "6  CD read George Guidall excellent job. Many rev...   \n",
              "7  huge Tony Hillerman fan -- I've read novels mu...   \n",
              "8                                     love classics.   \n",
              "9                                               love   \n",
              "\n",
              "                            summary_filtered  \\\n",
              "0               below-average Dr. Seuss Book   \n",
              "1                                 Five Stars   \n",
              "2                            Tourism history   \n",
              "3               Compelling, twisting mystery   \n",
              "4                           Tony missed mark   \n",
              "5      COMPLEX , SUSPENSEFUL PLOT, . . . . .   \n",
              "6                              good mystery.   \n",
              "7  Easily Hillerman's worst -- disappointing   \n",
              "8                        Classics never die.   \n",
              "9                                 Five Stars   \n",
              "\n",
              "                               merged_review_summary  \\\n",
              "0  dr  seuss really brilliant books  book so so d...   \n",
              "1                                  love itfive stars   \n",
              "2  hand woven carpets one products central asia c...   \n",
              "3  compelling  twisting mystery involving several...   \n",
              "4  read many hillerman books enjoyed immensely  l...   \n",
              "5  i  like many reviewers here  long standing fan...   \n",
              "6  cd read george guidall excellent job  many rev...   \n",
              "7  huge tony hillerman fan    i ve read novels mu...   \n",
              "8                  love classics classics never die    \n",
              "9                                  love itfive stars   \n",
              "\n",
              "                                     text_lemmatized  \n",
              "0  dr seuss really brilliant book book so so dr s...  \n",
              "1                                   love itfive star  \n",
              "2  hand weave carpet one products central asia co...  \n",
              "3  compel twist mystery involve several law entit...  \n",
              "4  read many hillerman book enjoy immensely later...  \n",
              "5  i like many reviewers here long stand fan tony...  \n",
              "6  cd read george guidall excellent job many revi...  \n",
              "7  huge tony hillerman fan i ve read novels multi...  \n",
              "8                   love classics classics never die  \n",
              "9                                   love itfive star  "
            ],
            "text/html": [
              "\n",
              "  <div id=\"df-ddb6a766-8b50-47a6-8dd3-1e25f7de74ca\">\n",
              "    <div class=\"colab-df-container\">\n",
              "      <div>\n",
              "<style scoped>\n",
              "    .dataframe tbody tr th:only-of-type {\n",
              "        vertical-align: middle;\n",
              "    }\n",
              "\n",
              "    .dataframe tbody tr th {\n",
              "        vertical-align: top;\n",
              "    }\n",
              "\n",
              "    .dataframe thead th {\n",
              "        text-align: right;\n",
              "    }\n",
              "</style>\n",
              "<table border=\"1\" class=\"dataframe\">\n",
              "  <thead>\n",
              "    <tr style=\"text-align: right;\">\n",
              "      <th></th>\n",
              "      <th>overall</th>\n",
              "      <th>verified</th>\n",
              "      <th>reviewTime</th>\n",
              "      <th>reviewerID</th>\n",
              "      <th>asin</th>\n",
              "      <th>reviewerName</th>\n",
              "      <th>reviewText</th>\n",
              "      <th>summary</th>\n",
              "      <th>unixReviewTime</th>\n",
              "      <th>format</th>\n",
              "      <th>reviewText_num_characters</th>\n",
              "      <th>reviewText_num_words</th>\n",
              "      <th>contains_Non_AlphaNumeric</th>\n",
              "      <th>reviewText_filtered</th>\n",
              "      <th>summary_filtered</th>\n",
              "      <th>merged_review_summary</th>\n",
              "      <th>text_lemmatized</th>\n",
              "    </tr>\n",
              "  </thead>\n",
              "  <tbody>\n",
              "    <tr>\n",
              "      <th>0</th>\n",
              "      <td>3</td>\n",
              "      <td>0</td>\n",
              "      <td>05 18, 2002</td>\n",
              "      <td>AJ8AQG2X9JJ2Y</td>\n",
              "      <td>0001712799</td>\n",
              "      <td>Donald Gillies</td>\n",
              "      <td>Dr. Seuss has some really brilliant books.  Th...</td>\n",
              "      <td>A below-average Dr. Seuss Book</td>\n",
              "      <td>1021680000</td>\n",
              "      <td>School &amp; Library Binding</td>\n",
              "      <td>617</td>\n",
              "      <td>117</td>\n",
              "      <td>True</td>\n",
              "      <td>Dr. Seuss really brilliant books. book so-so D...</td>\n",
              "      <td>below-average Dr. Seuss Book</td>\n",
              "      <td>dr  seuss really brilliant books  book so so d...</td>\n",
              "      <td>dr seuss really brilliant book book so so dr s...</td>\n",
              "    </tr>\n",
              "    <tr>\n",
              "      <th>1</th>\n",
              "      <td>5</td>\n",
              "      <td>1</td>\n",
              "      <td>12 11, 2014</td>\n",
              "      <td>A12Q7B7NT716RV</td>\n",
              "      <td>0001712799</td>\n",
              "      <td>True Value Girl</td>\n",
              "      <td>Love it</td>\n",
              "      <td>Five Stars</td>\n",
              "      <td>1418256000</td>\n",
              "      <td>Hardcover</td>\n",
              "      <td>7</td>\n",
              "      <td>2</td>\n",
              "      <td>False</td>\n",
              "      <td>Love</td>\n",
              "      <td>Five Stars</td>\n",
              "      <td>love itfive stars</td>\n",
              "      <td>love itfive star</td>\n",
              "    </tr>\n",
              "    <tr>\n",
              "      <th>2</th>\n",
              "      <td>4</td>\n",
              "      <td>0</td>\n",
              "      <td>01 6, 2006</td>\n",
              "      <td>A1DK5AZMXS1QA3</td>\n",
              "      <td>0002006448</td>\n",
              "      <td>Newton Ooi</td>\n",
              "      <td>Hand-woven carpets are one of the few products...</td>\n",
              "      <td>Tourism as history</td>\n",
              "      <td>1136505600</td>\n",
              "      <td>Hardcover</td>\n",
              "      <td>1419</td>\n",
              "      <td>247</td>\n",
              "      <td>True</td>\n",
              "      <td>Hand-woven carpets one products Central Asia c...</td>\n",
              "      <td>Tourism history</td>\n",
              "      <td>hand woven carpets one products central asia c...</td>\n",
              "      <td>hand weave carpet one products central asia co...</td>\n",
              "    </tr>\n",
              "    <tr>\n",
              "      <th>3</th>\n",
              "      <td>4</td>\n",
              "      <td>0</td>\n",
              "      <td>12 8, 2014</td>\n",
              "      <td>A1JMSX54DO3LOP</td>\n",
              "      <td>0002005263</td>\n",
              "      <td>Bookzilla</td>\n",
              "      <td>Compelling, twisting mystery involving several...</td>\n",
              "      <td>Compelling, twisting mystery</td>\n",
              "      <td>1417996800</td>\n",
              "      <td>Kindle Edition</td>\n",
              "      <td>314</td>\n",
              "      <td>45</td>\n",
              "      <td>True</td>\n",
              "      <td>Compelling, twisting mystery involving several...</td>\n",
              "      <td>Compelling, twisting mystery</td>\n",
              "      <td>compelling  twisting mystery involving several...</td>\n",
              "      <td>compel twist mystery involve several law entit...</td>\n",
              "    </tr>\n",
              "    <tr>\n",
              "      <th>4</th>\n",
              "      <td>2</td>\n",
              "      <td>1</td>\n",
              "      <td>03 3, 2014</td>\n",
              "      <td>A2IP27AZB3D1SM</td>\n",
              "      <td>0002005263</td>\n",
              "      <td>J. A. Drummond</td>\n",
              "      <td>I have read many of the Hillerman books and en...</td>\n",
              "      <td>Tony missed the mark</td>\n",
              "      <td>1393804800</td>\n",
              "      <td>Kindle Edition</td>\n",
              "      <td>235</td>\n",
              "      <td>45</td>\n",
              "      <td>True</td>\n",
              "      <td>read many Hillerman books enjoyed immensely. l...</td>\n",
              "      <td>Tony missed mark</td>\n",
              "      <td>read many hillerman books enjoyed immensely  l...</td>\n",
              "      <td>read many hillerman book enjoy immensely later...</td>\n",
              "    </tr>\n",
              "    <tr>\n",
              "      <th>5</th>\n",
              "      <td>4</td>\n",
              "      <td>0</td>\n",
              "      <td>06 22, 2004</td>\n",
              "      <td>A2KSU7OOJ5C479</td>\n",
              "      <td>0002005263</td>\n",
              "      <td>Loren D. Morrison</td>\n",
              "      <td>I, like many of the other reviewers here, am a...</td>\n",
              "      <td>A COMPLEX , SUSPENSEFUL PLOT, BUT . . . . .</td>\n",
              "      <td>1087862400</td>\n",
              "      <td>Hardcover</td>\n",
              "      <td>2244</td>\n",
              "      <td>384</td>\n",
              "      <td>True</td>\n",
              "      <td>I, like many reviewers here, long standing fan...</td>\n",
              "      <td>COMPLEX , SUSPENSEFUL PLOT, . . . . .</td>\n",
              "      <td>i  like many reviewers here  long standing fan...</td>\n",
              "      <td>i like many reviewers here long stand fan tony...</td>\n",
              "    </tr>\n",
              "    <tr>\n",
              "      <th>6</th>\n",
              "      <td>5</td>\n",
              "      <td>1</td>\n",
              "      <td>01 21, 2004</td>\n",
              "      <td>A3FT7WR9YGU4RK</td>\n",
              "      <td>0002005263</td>\n",
              "      <td>Anne Melvin</td>\n",
              "      <td>I had the CD read by George\n",
              "Guidall who does a...</td>\n",
              "      <td>A good mystery.</td>\n",
              "      <td>1074643200</td>\n",
              "      <td>Audio CD</td>\n",
              "      <td>462</td>\n",
              "      <td>88</td>\n",
              "      <td>True</td>\n",
              "      <td>CD read George Guidall excellent job. Many rev...</td>\n",
              "      <td>good mystery.</td>\n",
              "      <td>cd read george guidall excellent job  many rev...</td>\n",
              "      <td>cd read george guidall excellent job many revi...</td>\n",
              "    </tr>\n",
              "    <tr>\n",
              "      <th>7</th>\n",
              "      <td>1</td>\n",
              "      <td>1</td>\n",
              "      <td>06 10, 2003</td>\n",
              "      <td>AMFB2GBB2O84X</td>\n",
              "      <td>0002005263</td>\n",
              "      <td>Brakaian</td>\n",
              "      <td>I am a huge Tony Hillerman fan -- I've read ea...</td>\n",
              "      <td>Easily Hillerman's worst -- very disappointing</td>\n",
              "      <td>1055203200</td>\n",
              "      <td>Hardcover</td>\n",
              "      <td>1781</td>\n",
              "      <td>328</td>\n",
              "      <td>True</td>\n",
              "      <td>huge Tony Hillerman fan -- I've read novels mu...</td>\n",
              "      <td>Easily Hillerman's worst -- disappointing</td>\n",
              "      <td>huge tony hillerman fan    i ve read novels mu...</td>\n",
              "      <td>huge tony hillerman fan i ve read novels multi...</td>\n",
              "    </tr>\n",
              "    <tr>\n",
              "      <th>8</th>\n",
              "      <td>5</td>\n",
              "      <td>1</td>\n",
              "      <td>12 18, 2017</td>\n",
              "      <td>A243JAEFC50KWI</td>\n",
              "      <td>0001384198</td>\n",
              "      <td>dorothy</td>\n",
              "      <td>We all love the classics.</td>\n",
              "      <td>Classics never die.</td>\n",
              "      <td>1513555200</td>\n",
              "      <td>Hardcover</td>\n",
              "      <td>25</td>\n",
              "      <td>5</td>\n",
              "      <td>True</td>\n",
              "      <td>love classics.</td>\n",
              "      <td>Classics never die.</td>\n",
              "      <td>love classics classics never die</td>\n",
              "      <td>love classics classics never die</td>\n",
              "    </tr>\n",
              "    <tr>\n",
              "      <th>9</th>\n",
              "      <td>5</td>\n",
              "      <td>1</td>\n",
              "      <td>09 6, 2017</td>\n",
              "      <td>A25B7XXSTTN1IY</td>\n",
              "      <td>0001384198</td>\n",
              "      <td>Snake</td>\n",
              "      <td>I love it</td>\n",
              "      <td>Five Stars</td>\n",
              "      <td>1504656000</td>\n",
              "      <td>Hardcover</td>\n",
              "      <td>9</td>\n",
              "      <td>3</td>\n",
              "      <td>False</td>\n",
              "      <td>love</td>\n",
              "      <td>Five Stars</td>\n",
              "      <td>love itfive stars</td>\n",
              "      <td>love itfive star</td>\n",
              "    </tr>\n",
              "  </tbody>\n",
              "</table>\n",
              "</div>\n",
              "      <button class=\"colab-df-convert\" onclick=\"convertToInteractive('df-ddb6a766-8b50-47a6-8dd3-1e25f7de74ca')\"\n",
              "              title=\"Convert this dataframe to an interactive table.\"\n",
              "              style=\"display:none;\">\n",
              "        \n",
              "  <svg xmlns=\"http://www.w3.org/2000/svg\" height=\"24px\"viewBox=\"0 0 24 24\"\n",
              "       width=\"24px\">\n",
              "    <path d=\"M0 0h24v24H0V0z\" fill=\"none\"/>\n",
              "    <path d=\"M18.56 5.44l.94 2.06.94-2.06 2.06-.94-2.06-.94-.94-2.06-.94 2.06-2.06.94zm-11 1L8.5 8.5l.94-2.06 2.06-.94-2.06-.94L8.5 2.5l-.94 2.06-2.06.94zm10 10l.94 2.06.94-2.06 2.06-.94-2.06-.94-.94-2.06-.94 2.06-2.06.94z\"/><path d=\"M17.41 7.96l-1.37-1.37c-.4-.4-.92-.59-1.43-.59-.52 0-1.04.2-1.43.59L10.3 9.45l-7.72 7.72c-.78.78-.78 2.05 0 2.83L4 21.41c.39.39.9.59 1.41.59.51 0 1.02-.2 1.41-.59l7.78-7.78 2.81-2.81c.8-.78.8-2.07 0-2.86zM5.41 20L4 18.59l7.72-7.72 1.47 1.35L5.41 20z\"/>\n",
              "  </svg>\n",
              "      </button>\n",
              "      \n",
              "  <style>\n",
              "    .colab-df-container {\n",
              "      display:flex;\n",
              "      flex-wrap:wrap;\n",
              "      gap: 12px;\n",
              "    }\n",
              "\n",
              "    .colab-df-convert {\n",
              "      background-color: #E8F0FE;\n",
              "      border: none;\n",
              "      border-radius: 50%;\n",
              "      cursor: pointer;\n",
              "      display: none;\n",
              "      fill: #1967D2;\n",
              "      height: 32px;\n",
              "      padding: 0 0 0 0;\n",
              "      width: 32px;\n",
              "    }\n",
              "\n",
              "    .colab-df-convert:hover {\n",
              "      background-color: #E2EBFA;\n",
              "      box-shadow: 0px 1px 2px rgba(60, 64, 67, 0.3), 0px 1px 3px 1px rgba(60, 64, 67, 0.15);\n",
              "      fill: #174EA6;\n",
              "    }\n",
              "\n",
              "    [theme=dark] .colab-df-convert {\n",
              "      background-color: #3B4455;\n",
              "      fill: #D2E3FC;\n",
              "    }\n",
              "\n",
              "    [theme=dark] .colab-df-convert:hover {\n",
              "      background-color: #434B5C;\n",
              "      box-shadow: 0px 1px 3px 1px rgba(0, 0, 0, 0.15);\n",
              "      filter: drop-shadow(0px 1px 2px rgba(0, 0, 0, 0.3));\n",
              "      fill: #FFFFFF;\n",
              "    }\n",
              "  </style>\n",
              "\n",
              "      <script>\n",
              "        const buttonEl =\n",
              "          document.querySelector('#df-ddb6a766-8b50-47a6-8dd3-1e25f7de74ca button.colab-df-convert');\n",
              "        buttonEl.style.display =\n",
              "          google.colab.kernel.accessAllowed ? 'block' : 'none';\n",
              "\n",
              "        async function convertToInteractive(key) {\n",
              "          const element = document.querySelector('#df-ddb6a766-8b50-47a6-8dd3-1e25f7de74ca');\n",
              "          const dataTable =\n",
              "            await google.colab.kernel.invokeFunction('convertToInteractive',\n",
              "                                                     [key], {});\n",
              "          if (!dataTable) return;\n",
              "\n",
              "          const docLinkHtml = 'Like what you see? Visit the ' +\n",
              "            '<a target=\"_blank\" href=https://colab.research.google.com/notebooks/data_table.ipynb>data table notebook</a>'\n",
              "            + ' to learn more about interactive tables.';\n",
              "          element.innerHTML = '';\n",
              "          dataTable['output_type'] = 'display_data';\n",
              "          await google.colab.output.renderOutput(dataTable, element);\n",
              "          const docLink = document.createElement('div');\n",
              "          docLink.innerHTML = docLinkHtml;\n",
              "          element.appendChild(docLink);\n",
              "        }\n",
              "      </script>\n",
              "    </div>\n",
              "  </div>\n",
              "  "
            ]
          },
          "metadata": {},
          "execution_count": 75
        }
      ]
    },
    {
      "cell_type": "markdown",
      "source": [
        "We will remove irrelevant features like reviewTime and reviewer information. Also we will be removing the original review text and summary since we have merged these two columns, removed stop words and lemmatized the text into one column which is the column - \"text_lemmatized\"."
      ],
      "metadata": {
        "id": "cVVqGPQgfDyF"
      }
    },
    {
      "cell_type": "code",
      "source": [
        "# Y=min_dataset.overall\n",
        "# X=min_dataset.drop(['overall','verified','reviewText_num_characters','reviewText_num_words','reviewTime','reviewerID','asin','reviewerName','unixReviewTime','contains_Non_AlphaNumeric','reviewText','summary','reviewText_filtered','summary_filtered','merged_review_summary','format'],axis=1)\n",
        "# print(type(X))\n",
        "# X.head(5)\n",
        "# Y.head(5)\n",
        "\n",
        "X = min_dataset['text_lemmatized'].tolist()\n",
        "Y = min_dataset['overall'].values\n"
      ],
      "metadata": {
        "id": "LYHe619ihq75"
      },
      "execution_count": null,
      "outputs": []
    },
    {
      "cell_type": "markdown",
      "source": [
        "# 2.Baseline Model"
      ],
      "metadata": {
        "id": "3pzieI786QDS"
      }
    },
    {
      "cell_type": "markdown",
      "source": [
        "## Training and evaluate the model on test data"
      ],
      "metadata": {
        "id": "Wz2qJ-Jmo8XO"
      }
    },
    {
      "cell_type": "code",
      "source": [
        "from sklearn.model_selection import train_test_split\n",
        "X_train, X_test, y_train, y_test = train_test_split(X, Y, test_size=0.2, random_state=101)"
      ],
      "metadata": {
        "id": "AnKwdEOFo8XO"
      },
      "execution_count": null,
      "outputs": []
    },
    {
      "cell_type": "code",
      "execution_count": null,
      "metadata": {
        "colab": {
          "base_uri": "https://localhost:8080/"
        },
        "outputId": "74ada5bc-d3ec-4105-e8ad-a9936683181a",
        "id": "4Y_TO0gvs5Yd"
      },
      "outputs": [
        {
          "name": "stdout",
          "output_type": "stream",
          "text": [
            "              precision    recall  f1-score   support\n",
            "\n",
            "           1       0.00      0.00      0.00         3\n",
            "           2       0.00      0.00      0.00         3\n",
            "           3       0.00      0.00      0.00        10\n",
            "           4       0.00      0.00      0.00        11\n",
            "           5       0.59      1.00      0.74        39\n",
            "\n",
            "    accuracy                           0.59        66\n",
            "   macro avg       0.12      0.20      0.15        66\n",
            "weighted avg       0.35      0.59      0.44        66\n",
            "\n"
          ]
        },
        {
          "name": "stderr",
          "output_type": "stream",
          "text": [
            "/usr/local/lib/python3.7/dist-packages/sklearn/feature_extraction/text.py:401: UserWarning: Your stop_words may be inconsistent with your preprocessing. Tokenizing the stop words generated tokens ['b', 'c', 'd', 'e', 'f', 'g', 'h', 'k', 'l', 'm', 'n', 'o', 'p', 'r', 's', 't', 'u', 'v', 'w', 'x', 'y'] not in stop_words.\n",
            "  % sorted(inconsistent)\n",
            "/usr/local/lib/python3.7/dist-packages/sklearn/metrics/_classification.py:1318: UndefinedMetricWarning: Precision and F-score are ill-defined and being set to 0.0 in labels with no predicted samples. Use `zero_division` parameter to control this behavior.\n",
            "  _warn_prf(average, modifier, msg_start, len(result))\n",
            "/usr/local/lib/python3.7/dist-packages/sklearn/metrics/_classification.py:1318: UndefinedMetricWarning: Precision and F-score are ill-defined and being set to 0.0 in labels with no predicted samples. Use `zero_division` parameter to control this behavior.\n",
            "  _warn_prf(average, modifier, msg_start, len(result))\n",
            "/usr/local/lib/python3.7/dist-packages/sklearn/metrics/_classification.py:1318: UndefinedMetricWarning: Precision and F-score are ill-defined and being set to 0.0 in labels with no predicted samples. Use `zero_division` parameter to control this behavior.\n",
            "  _warn_prf(average, modifier, msg_start, len(result))\n"
          ]
        }
      ],
      "source": [
        "import numpy as np\n",
        "\n",
        "import nltk\n",
        "# import the snowball stemmer which is more complex than porter\n",
        "from nltk.stem.snowball import SnowballStemmer\n",
        "\n",
        "from sklearn.feature_extraction.text import CountVectorizer\n",
        "from sklearn.pipeline import Pipeline\n",
        "from sklearn.feature_extraction.text import TfidfTransformer\n",
        "from sklearn.svm import SVC\n",
        "from sklearn.datasets import fetch_20newsgroups\n",
        "from sklearn.metrics import classification_report\n",
        "\n",
        "# download the stopwords\n",
        "nltk.download('stopwords')\n",
        "\n",
        "# create a snowball stemmer for English text that does not stem stopwords\n",
        "stemmer = SnowballStemmer(\"english\", ignore_stopwords=True)\n",
        "\n",
        "# get newsgroups dataset (categorical classification dataset)\n",
        "twenty_train = fetch_20newsgroups(subset='train', shuffle=True)\n",
        "twenty_test = fetch_20newsgroups(subset='test', shuffle=True)\n",
        "\n",
        "# create a class to vectorize stemmed text by frequency counts\n",
        "class StemmedCountVectorizer(CountVectorizer):\n",
        "    # function to create an analyzer function\n",
        "    def build_analyzer(self):\n",
        "        # initialize CountVectorizer and call build_analyzer on it\n",
        "        analyzer = super(StemmedCountVectorizer, self).build_analyzer()\n",
        "        # return a function that stems each token of input and counts\n",
        "        return lambda doc: ([stemmer.stem(w) for w in analyzer(doc)])\n",
        "\n",
        "# create an instance of the StemmedCountVectorizer using English stopwords\n",
        "stemmed_count_vect = StemmedCountVectorizer(stop_words='english')\n",
        "\n",
        "# create a pipeline to take the results of the StemmedCountVectorizer (the stem frequency)\n",
        "# pass it to a TfidfTransformer to calculate tf-idf weighting, and pass that to a\n",
        "# SVC to train the classifier on the vectorized corpus.\n",
        "text_svc_stemmed = Pipeline([('vect', stemmed_count_vect),\n",
        "                             ('tfidf', TfidfTransformer()),\n",
        "                             ('svc', SVC())])\n",
        "y_train=y_train.astype('int')\n",
        "y_test=y_test.astype('int')\n",
        "# fit the model to the data\n",
        "text_svc_stemmed = text_svc_stemmed.fit(twenty_train.data, twenty_train.target)\n",
        "# predict on new data\n",
        "predicted_svc_stemmed = text_svc_stemmed.predict(twenty_test.data)\n",
        "\n",
        "# output performace metrics \n",
        "print(classification_report(twenty_test.target, predicted_svc_stemmed))"
      ]
    },
    {
      "cell_type": "markdown",
      "source": [
        "#Perform part-of-speech tagging"
      ],
      "metadata": {
        "id": "tikmX968mbR4"
      }
    },
    {
      "cell_type": "code",
      "execution_count": null,
      "metadata": {
        "colab": {
          "base_uri": "https://localhost:8080/"
        },
        "id": "bvLVVREvLxG5",
        "outputId": "5a0f2716-1a68-4185-e9d4-21b1a6d3a17f"
      },
      "outputs": [
        {
          "name": "stdout",
          "output_type": "stream",
          "text": [
            "Drive already mounted at /content/drive; to attempt to forcibly remount, call drive.mount(\"/content/drive\", force_remount=True).\n"
          ]
        }
      ],
      "source": [
        "import pandas as pd\n",
        "import io\n",
        "from google.colab import drive\n",
        "drive.mount('/content/drive')"
      ]
    },
    {
      "cell_type": "code",
      "execution_count": null,
      "metadata": {
        "id": "EfjhKg7rMWGA"
      },
      "outputs": [],
      "source": [
        "source_dataset = pd.read_json('/content/drive/MyDrive/Colab Notebooks/sample.jsonl', lines=True)"
      ]
    },
    {
      "cell_type": "code",
      "execution_count": null,
      "metadata": {
        "id": "WCcQXVgiRrcy"
      },
      "outputs": [],
      "source": [
        "source_dataset.head(10)\n",
        "source_dataset=source_dataset.drop(source_dataset.index[100000:])"
      ]
    },
    {
      "cell_type": "code",
      "execution_count": null,
      "metadata": {
        "colab": {
          "base_uri": "https://localhost:8080/"
        },
        "id": "Byf6txo8S8iV",
        "outputId": "e8e5585d-d866-4bb3-ae21-b79d5cf70c2a"
      },
      "outputs": [
        {
          "name": "stdout",
          "output_type": "stream",
          "text": [
            "<class 'pandas.core.frame.DataFrame'>\n",
            "Int64Index: 100000 entries, 0 to 99999\n",
            "Data columns (total 12 columns):\n",
            " #   Column          Non-Null Count   Dtype \n",
            "---  ------          --------------   ----- \n",
            " 0   overall         100000 non-null  int64 \n",
            " 1   vote            21431 non-null   object\n",
            " 2   verified        100000 non-null  bool  \n",
            " 3   reviewTime      100000 non-null  object\n",
            " 4   reviewerID      100000 non-null  object\n",
            " 5   asin            100000 non-null  object\n",
            " 6   style           98182 non-null   object\n",
            " 7   reviewerName    99997 non-null   object\n",
            " 8   reviewText      99981 non-null   object\n",
            " 9   summary         99986 non-null   object\n",
            " 10  unixReviewTime  100000 non-null  int64 \n",
            " 11  image           140 non-null     object\n",
            "dtypes: bool(1), int64(2), object(9)\n",
            "memory usage: 9.3+ MB\n",
            "<class 'pandas.core.frame.DataFrame'>\n",
            "Int64Index: 100000 entries, 0 to 99999\n",
            "Data columns (total 12 columns):\n",
            " #   Column          Non-Null Count   Dtype  \n",
            "---  ------          --------------   -----  \n",
            " 0   overall         100000 non-null  Int64  \n",
            " 1   vote            21431 non-null   string \n",
            " 2   verified        100000 non-null  boolean\n",
            " 3   reviewTime      100000 non-null  string \n",
            " 4   reviewerID      100000 non-null  string \n",
            " 5   asin            100000 non-null  string \n",
            " 6   style           98182 non-null   object \n",
            " 7   reviewerName    99997 non-null   string \n",
            " 8   reviewText      99981 non-null   string \n",
            " 9   summary         99986 non-null   string \n",
            " 10  unixReviewTime  100000 non-null  Int64  \n",
            " 11  image           140 non-null     object \n",
            "dtypes: Int64(2), boolean(1), object(2), string(7)\n",
            "memory usage: 9.5+ MB\n"
          ]
        }
      ],
      "source": [
        "source_dataset.info()\n",
        "source_dataset = source_dataset.convert_dtypes()\n",
        "source_dataset.info()"
      ]
    },
    {
      "cell_type": "code",
      "execution_count": null,
      "metadata": {
        "colab": {
          "base_uri": "https://localhost:8080/"
        },
        "id": "RFn4KdcKTX3r",
        "outputId": "02b612f7-e7bd-4acd-f032-a0445a22cc88"
      },
      "outputs": [
        {
          "data": {
            "text/plain": [
              "0        Dr. Seuss has some really brilliant books.  Th...\n",
              "1                                                  Love it\n",
              "2        Hand-woven carpets are one of the few products...\n",
              "3        Compelling, twisting mystery involving several...\n",
              "4        I have read many of the Hillerman books and en...\n",
              "                               ...                        \n",
              "99995    The book was lousy.  Didn't even finish just s...\n",
              "99996    About the Book\n",
              "\n",
              "A city is hit by an epidemic o...\n",
              "99997    Simply stunning. Continues from the previous b...\n",
              "99998    Great and excellent.. I'm very confortable wit...\n",
              "99999         I read it in a couple days. Hard to put down\n",
              "Name: reviewText, Length: 100000, dtype: string"
            ]
          },
          "execution_count": 37,
          "metadata": {},
          "output_type": "execute_result"
        }
      ],
      "source": [
        "source_dataset['reviewText']"
      ]
    },
    {
      "cell_type": "code",
      "execution_count": null,
      "metadata": {
        "colab": {
          "base_uri": "https://localhost:8080/"
        },
        "id": "QQzaWkK_WW-K",
        "outputId": "764f89fb-47c0-47c0-a2ad-0a9d23d8b171"
      },
      "outputs": [
        {
          "name": "stderr",
          "output_type": "stream",
          "text": [
            "[nltk_data] Downloading package punkt to /root/nltk_data...\n",
            "[nltk_data]   Package punkt is already up-to-date!\n",
            "[nltk_data] Downloading package averaged_perceptron_tagger to\n",
            "[nltk_data]     /root/nltk_data...\n",
            "[nltk_data]   Package averaged_perceptron_tagger is already up-to-\n",
            "[nltk_data]       date!\n"
          ]
        },
        {
          "data": {
            "text/plain": [
              "True"
            ]
          },
          "execution_count": 38,
          "metadata": {},
          "output_type": "execute_result"
        }
      ],
      "source": [
        "import nltk\n",
        "nltk.download('punkt')\n",
        "nltk.download('averaged_perceptron_tagger')"
      ]
    },
    {
      "cell_type": "code",
      "execution_count": null,
      "metadata": {
        "colab": {
          "base_uri": "https://localhost:8080/"
        },
        "id": "utTT69IDYr-t",
        "outputId": "a60f9348-9952-486e-bd15-6212ea75dedd"
      },
      "outputs": [
        {
          "name": "stdout",
          "output_type": "stream",
          "text": [
            "The text to be tokenized is a None type. Defaulting to blank string.\n",
            "The text to be tokenized is a None type. Defaulting to blank string.\n",
            "The text to be tokenized is a None type. Defaulting to blank string.\n",
            "The text to be tokenized is a None type. Defaulting to blank string.\n",
            "The text to be tokenized is a None type. Defaulting to blank string.\n",
            "The text to be tokenized is a None type. Defaulting to blank string.\n",
            "The text to be tokenized is a None type. Defaulting to blank string.\n",
            "The text to be tokenized is a None type. Defaulting to blank string.\n",
            "The text to be tokenized is a None type. Defaulting to blank string.\n",
            "The text to be tokenized is a None type. Defaulting to blank string.\n",
            "The text to be tokenized is a None type. Defaulting to blank string.\n",
            "The text to be tokenized is a None type. Defaulting to blank string.\n",
            "The text to be tokenized is a None type. Defaulting to blank string.\n",
            "The text to be tokenized is a None type. Defaulting to blank string.\n",
            "The text to be tokenized is a None type. Defaulting to blank string.\n",
            "The text to be tokenized is a None type. Defaulting to blank string.\n",
            "The text to be tokenized is a None type. Defaulting to blank string.\n",
            "The text to be tokenized is a None type. Defaulting to blank string.\n",
            "The text to be tokenized is a None type. Defaulting to blank string.\n"
          ]
        }
      ],
      "source": [
        "def custom_tokenize(text):\n",
        "    if pd.isna(text):\n",
        "        print('The text to be tokenized is a None type. Defaulting to blank string.')\n",
        "        text = ''\n",
        "    return nltk.word_tokenize(text)\n",
        "source_dataset['tokenized_reviewText'] = source_dataset['reviewText'].apply(custom_tokenize)"
      ]
    },
    {
      "cell_type": "code",
      "execution_count": null,
      "metadata": {
        "colab": {
          "background_save": true
        },
        "id": "PoqdiaLycksY"
      },
      "outputs": [],
      "source": [
        "def custom_pos(tokenText):\n",
        "    return [word for word,pos in nltk.pos_tag(tokenText) if pos == 'NN']\n",
        "\n",
        "source_dataset['pos_tag_reviewText'] = source_dataset['tokenized_reviewText'].apply(custom_pos)"
      ]
    },
    {
      "cell_type": "code",
      "execution_count": null,
      "metadata": {
        "colab": {
          "base_uri": "https://localhost:8080/",
          "height": 931
        },
        "id": "MJn9YI1Z8g48",
        "outputId": "cb6df45c-cb18-4193-9ba5-0dfaee4ca736"
      },
      "outputs": [
        {
          "data": {
            "text/html": [
              "\n",
              "  <div id=\"df-8fcb3719-fd0e-45e5-806c-163cb6554451\">\n",
              "    <div class=\"colab-df-container\">\n",
              "      <div>\n",
              "<style scoped>\n",
              "    .dataframe tbody tr th:only-of-type {\n",
              "        vertical-align: middle;\n",
              "    }\n",
              "\n",
              "    .dataframe tbody tr th {\n",
              "        vertical-align: top;\n",
              "    }\n",
              "\n",
              "    .dataframe thead th {\n",
              "        text-align: right;\n",
              "    }\n",
              "</style>\n",
              "<table border=\"1\" class=\"dataframe\">\n",
              "  <thead>\n",
              "    <tr style=\"text-align: right;\">\n",
              "      <th></th>\n",
              "      <th>overall</th>\n",
              "      <th>vote</th>\n",
              "      <th>verified</th>\n",
              "      <th>reviewTime</th>\n",
              "      <th>reviewerID</th>\n",
              "      <th>asin</th>\n",
              "      <th>style</th>\n",
              "      <th>reviewerName</th>\n",
              "      <th>reviewText</th>\n",
              "      <th>summary</th>\n",
              "      <th>unixReviewTime</th>\n",
              "      <th>image</th>\n",
              "      <th>tokenized_reviewText</th>\n",
              "      <th>pos_tag_reviewText</th>\n",
              "    </tr>\n",
              "  </thead>\n",
              "  <tbody>\n",
              "    <tr>\n",
              "      <th>0</th>\n",
              "      <td>3</td>\n",
              "      <td>2</td>\n",
              "      <td>False</td>\n",
              "      <td>05 18, 2002</td>\n",
              "      <td>AJ8AQG2X9JJ2Y</td>\n",
              "      <td>0001712799</td>\n",
              "      <td>{'Format:': ' School &amp; Library Binding'}</td>\n",
              "      <td>Donald Gillies</td>\n",
              "      <td>Dr. Seuss has some really brilliant books.  Th...</td>\n",
              "      <td>A below-average Dr. Seuss Book</td>\n",
              "      <td>1021680000</td>\n",
              "      <td>NaN</td>\n",
              "      <td>[Dr., Seuss, has, some, really, brilliant, boo...</td>\n",
              "      <td>[book, parent, book, child, amount, repetition...</td>\n",
              "    </tr>\n",
              "    <tr>\n",
              "      <th>1</th>\n",
              "      <td>5</td>\n",
              "      <td>&lt;NA&gt;</td>\n",
              "      <td>True</td>\n",
              "      <td>12 11, 2014</td>\n",
              "      <td>A12Q7B7NT716RV</td>\n",
              "      <td>0001712799</td>\n",
              "      <td>{'Format:': ' Hardcover'}</td>\n",
              "      <td>True Value Girl</td>\n",
              "      <td>Love it</td>\n",
              "      <td>Five Stars</td>\n",
              "      <td>1418256000</td>\n",
              "      <td>NaN</td>\n",
              "      <td>[Love, it]</td>\n",
              "      <td>[]</td>\n",
              "    </tr>\n",
              "    <tr>\n",
              "      <th>2</th>\n",
              "      <td>4</td>\n",
              "      <td>3</td>\n",
              "      <td>False</td>\n",
              "      <td>01 6, 2006</td>\n",
              "      <td>A1DK5AZMXS1QA3</td>\n",
              "      <td>0002006448</td>\n",
              "      <td>{'Format:': ' Hardcover'}</td>\n",
              "      <td>Newton Ooi</td>\n",
              "      <td>Hand-woven carpets are one of the few products...</td>\n",
              "      <td>Tourism as history</td>\n",
              "      <td>1136505600</td>\n",
              "      <td>NaN</td>\n",
              "      <td>[Hand-woven, carpets, are, one, of, the, few, ...</td>\n",
              "      <td>[rest, world, rest, world, traversal, carpet, ...</td>\n",
              "    </tr>\n",
              "    <tr>\n",
              "      <th>3</th>\n",
              "      <td>4</td>\n",
              "      <td>&lt;NA&gt;</td>\n",
              "      <td>False</td>\n",
              "      <td>12 8, 2014</td>\n",
              "      <td>A1JMSX54DO3LOP</td>\n",
              "      <td>0002005263</td>\n",
              "      <td>{'Format:': ' Kindle Edition'}</td>\n",
              "      <td>Bookzilla</td>\n",
              "      <td>Compelling, twisting mystery involving several...</td>\n",
              "      <td>Compelling, twisting mystery</td>\n",
              "      <td>1417996800</td>\n",
              "      <td>NaN</td>\n",
              "      <td>[Compelling, ,, twisting, mystery, involving, ...</td>\n",
              "      <td>[mystery, law, author, story, line, love, dial...</td>\n",
              "    </tr>\n",
              "    <tr>\n",
              "      <th>4</th>\n",
              "      <td>2</td>\n",
              "      <td>2</td>\n",
              "      <td>True</td>\n",
              "      <td>03 3, 2014</td>\n",
              "      <td>A2IP27AZB3D1SM</td>\n",
              "      <td>0002005263</td>\n",
              "      <td>{'Format:': ' Kindle Edition'}</td>\n",
              "      <td>J. A. Drummond</td>\n",
              "      <td>I have read many of the Hillerman books and en...</td>\n",
              "      <td>Tony missed the mark</td>\n",
              "      <td>1393804800</td>\n",
              "      <td>NaN</td>\n",
              "      <td>[I, have, read, many, of, the, Hillerman, book...</td>\n",
              "      <td>[work, story, end, someone, story]</td>\n",
              "    </tr>\n",
              "    <tr>\n",
              "      <th>5</th>\n",
              "      <td>4</td>\n",
              "      <td>4</td>\n",
              "      <td>False</td>\n",
              "      <td>06 22, 2004</td>\n",
              "      <td>A2KSU7OOJ5C479</td>\n",
              "      <td>0002005263</td>\n",
              "      <td>{'Format:': ' Hardcover'}</td>\n",
              "      <td>Loren D. Morrison</td>\n",
              "      <td>I, like many of the other reviewers here, am a...</td>\n",
              "      <td>A COMPLEX , SUSPENSEFUL PLOT, BUT . . . . .</td>\n",
              "      <td>1087862400</td>\n",
              "      <td>NaN</td>\n",
              "      <td>[I, ,, like, many, of, the, other, reviewers, ...</td>\n",
              "      <td>[standing, fan, mystery, love, fear, rejection...</td>\n",
              "    </tr>\n",
              "    <tr>\n",
              "      <th>6</th>\n",
              "      <td>5</td>\n",
              "      <td>2</td>\n",
              "      <td>True</td>\n",
              "      <td>01 21, 2004</td>\n",
              "      <td>A3FT7WR9YGU4RK</td>\n",
              "      <td>0002005263</td>\n",
              "      <td>{'Format:': ' Audio CD'}</td>\n",
              "      <td>Anne Melvin</td>\n",
              "      <td>I had the CD read by George\n",
              "Guidall who does a...</td>\n",
              "      <td>A good mystery.</td>\n",
              "      <td>1074643200</td>\n",
              "      <td>NaN</td>\n",
              "      <td>[I, had, the, CD, read, by, George, Guidall, w...</td>\n",
              "      <td>[CD, job, plot, impression, book, mind, suspen...</td>\n",
              "    </tr>\n",
              "    <tr>\n",
              "      <th>7</th>\n",
              "      <td>1</td>\n",
              "      <td>9</td>\n",
              "      <td>True</td>\n",
              "      <td>06 10, 2003</td>\n",
              "      <td>AMFB2GBB2O84X</td>\n",
              "      <td>0002005263</td>\n",
              "      <td>{'Format:': ' Hardcover'}</td>\n",
              "      <td>Brakaian</td>\n",
              "      <td>I am a huge Tony Hillerman fan -- I've read ea...</td>\n",
              "      <td>Easily Hillerman's worst -- very disappointing</td>\n",
              "      <td>1055203200</td>\n",
              "      <td>NaN</td>\n",
              "      <td>[I, am, a, huge, Tony, Hillerman, fan, --, I, ...</td>\n",
              "      <td>[fan, book, level, action, place, nothing, res...</td>\n",
              "    </tr>\n",
              "    <tr>\n",
              "      <th>8</th>\n",
              "      <td>5</td>\n",
              "      <td>&lt;NA&gt;</td>\n",
              "      <td>True</td>\n",
              "      <td>12 18, 2017</td>\n",
              "      <td>A243JAEFC50KWI</td>\n",
              "      <td>0001384198</td>\n",
              "      <td>{'Format:': ' Hardcover'}</td>\n",
              "      <td>dorothy</td>\n",
              "      <td>We all love the classics.</td>\n",
              "      <td>Classics never die.</td>\n",
              "      <td>1513555200</td>\n",
              "      <td>NaN</td>\n",
              "      <td>[We, all, love, the, classics, .]</td>\n",
              "      <td>[]</td>\n",
              "    </tr>\n",
              "    <tr>\n",
              "      <th>9</th>\n",
              "      <td>5</td>\n",
              "      <td>&lt;NA&gt;</td>\n",
              "      <td>True</td>\n",
              "      <td>09 6, 2017</td>\n",
              "      <td>A25B7XXSTTN1IY</td>\n",
              "      <td>0001384198</td>\n",
              "      <td>{'Format:': ' Hardcover'}</td>\n",
              "      <td>Snake</td>\n",
              "      <td>I love it</td>\n",
              "      <td>Five Stars</td>\n",
              "      <td>1504656000</td>\n",
              "      <td>NaN</td>\n",
              "      <td>[I, love, it]</td>\n",
              "      <td>[]</td>\n",
              "    </tr>\n",
              "  </tbody>\n",
              "</table>\n",
              "</div>\n",
              "      <button class=\"colab-df-convert\" onclick=\"convertToInteractive('df-8fcb3719-fd0e-45e5-806c-163cb6554451')\"\n",
              "              title=\"Convert this dataframe to an interactive table.\"\n",
              "              style=\"display:none;\">\n",
              "        \n",
              "  <svg xmlns=\"http://www.w3.org/2000/svg\" height=\"24px\"viewBox=\"0 0 24 24\"\n",
              "       width=\"24px\">\n",
              "    <path d=\"M0 0h24v24H0V0z\" fill=\"none\"/>\n",
              "    <path d=\"M18.56 5.44l.94 2.06.94-2.06 2.06-.94-2.06-.94-.94-2.06-.94 2.06-2.06.94zm-11 1L8.5 8.5l.94-2.06 2.06-.94-2.06-.94L8.5 2.5l-.94 2.06-2.06.94zm10 10l.94 2.06.94-2.06 2.06-.94-2.06-.94-.94-2.06-.94 2.06-2.06.94z\"/><path d=\"M17.41 7.96l-1.37-1.37c-.4-.4-.92-.59-1.43-.59-.52 0-1.04.2-1.43.59L10.3 9.45l-7.72 7.72c-.78.78-.78 2.05 0 2.83L4 21.41c.39.39.9.59 1.41.59.51 0 1.02-.2 1.41-.59l7.78-7.78 2.81-2.81c.8-.78.8-2.07 0-2.86zM5.41 20L4 18.59l7.72-7.72 1.47 1.35L5.41 20z\"/>\n",
              "  </svg>\n",
              "      </button>\n",
              "      \n",
              "  <style>\n",
              "    .colab-df-container {\n",
              "      display:flex;\n",
              "      flex-wrap:wrap;\n",
              "      gap: 12px;\n",
              "    }\n",
              "\n",
              "    .colab-df-convert {\n",
              "      background-color: #E8F0FE;\n",
              "      border: none;\n",
              "      border-radius: 50%;\n",
              "      cursor: pointer;\n",
              "      display: none;\n",
              "      fill: #1967D2;\n",
              "      height: 32px;\n",
              "      padding: 0 0 0 0;\n",
              "      width: 32px;\n",
              "    }\n",
              "\n",
              "    .colab-df-convert:hover {\n",
              "      background-color: #E2EBFA;\n",
              "      box-shadow: 0px 1px 2px rgba(60, 64, 67, 0.3), 0px 1px 3px 1px rgba(60, 64, 67, 0.15);\n",
              "      fill: #174EA6;\n",
              "    }\n",
              "\n",
              "    [theme=dark] .colab-df-convert {\n",
              "      background-color: #3B4455;\n",
              "      fill: #D2E3FC;\n",
              "    }\n",
              "\n",
              "    [theme=dark] .colab-df-convert:hover {\n",
              "      background-color: #434B5C;\n",
              "      box-shadow: 0px 1px 3px 1px rgba(0, 0, 0, 0.15);\n",
              "      filter: drop-shadow(0px 1px 2px rgba(0, 0, 0, 0.3));\n",
              "      fill: #FFFFFF;\n",
              "    }\n",
              "  </style>\n",
              "\n",
              "      <script>\n",
              "        const buttonEl =\n",
              "          document.querySelector('#df-8fcb3719-fd0e-45e5-806c-163cb6554451 button.colab-df-convert');\n",
              "        buttonEl.style.display =\n",
              "          google.colab.kernel.accessAllowed ? 'block' : 'none';\n",
              "\n",
              "        async function convertToInteractive(key) {\n",
              "          const element = document.querySelector('#df-8fcb3719-fd0e-45e5-806c-163cb6554451');\n",
              "          const dataTable =\n",
              "            await google.colab.kernel.invokeFunction('convertToInteractive',\n",
              "                                                     [key], {});\n",
              "          if (!dataTable) return;\n",
              "\n",
              "          const docLinkHtml = 'Like what you see? Visit the ' +\n",
              "            '<a target=\"_blank\" href=https://colab.research.google.com/notebooks/data_table.ipynb>data table notebook</a>'\n",
              "            + ' to learn more about interactive tables.';\n",
              "          element.innerHTML = '';\n",
              "          dataTable['output_type'] = 'display_data';\n",
              "          await google.colab.output.renderOutput(dataTable, element);\n",
              "          const docLink = document.createElement('div');\n",
              "          docLink.innerHTML = docLinkHtml;\n",
              "          element.appendChild(docLink);\n",
              "        }\n",
              "      </script>\n",
              "    </div>\n",
              "  </div>\n",
              "  "
            ],
            "text/plain": [
              "   overall  vote  verified   reviewTime      reviewerID        asin  \\\n",
              "0        3     2     False  05 18, 2002   AJ8AQG2X9JJ2Y  0001712799   \n",
              "1        5  <NA>      True  12 11, 2014  A12Q7B7NT716RV  0001712799   \n",
              "2        4     3     False   01 6, 2006  A1DK5AZMXS1QA3  0002006448   \n",
              "3        4  <NA>     False   12 8, 2014  A1JMSX54DO3LOP  0002005263   \n",
              "4        2     2      True   03 3, 2014  A2IP27AZB3D1SM  0002005263   \n",
              "5        4     4     False  06 22, 2004  A2KSU7OOJ5C479  0002005263   \n",
              "6        5     2      True  01 21, 2004  A3FT7WR9YGU4RK  0002005263   \n",
              "7        1     9      True  06 10, 2003   AMFB2GBB2O84X  0002005263   \n",
              "8        5  <NA>      True  12 18, 2017  A243JAEFC50KWI  0001384198   \n",
              "9        5  <NA>      True   09 6, 2017  A25B7XXSTTN1IY  0001384198   \n",
              "\n",
              "                                      style       reviewerName  \\\n",
              "0  {'Format:': ' School & Library Binding'}     Donald Gillies   \n",
              "1                 {'Format:': ' Hardcover'}    True Value Girl   \n",
              "2                 {'Format:': ' Hardcover'}         Newton Ooi   \n",
              "3            {'Format:': ' Kindle Edition'}          Bookzilla   \n",
              "4            {'Format:': ' Kindle Edition'}     J. A. Drummond   \n",
              "5                 {'Format:': ' Hardcover'}  Loren D. Morrison   \n",
              "6                  {'Format:': ' Audio CD'}        Anne Melvin   \n",
              "7                 {'Format:': ' Hardcover'}           Brakaian   \n",
              "8                 {'Format:': ' Hardcover'}            dorothy   \n",
              "9                 {'Format:': ' Hardcover'}              Snake   \n",
              "\n",
              "                                          reviewText  \\\n",
              "0  Dr. Seuss has some really brilliant books.  Th...   \n",
              "1                                            Love it   \n",
              "2  Hand-woven carpets are one of the few products...   \n",
              "3  Compelling, twisting mystery involving several...   \n",
              "4  I have read many of the Hillerman books and en...   \n",
              "5  I, like many of the other reviewers here, am a...   \n",
              "6  I had the CD read by George\n",
              "Guidall who does a...   \n",
              "7  I am a huge Tony Hillerman fan -- I've read ea...   \n",
              "8                          We all love the classics.   \n",
              "9                                          I love it   \n",
              "\n",
              "                                          summary  unixReviewTime image  \\\n",
              "0                  A below-average Dr. Seuss Book      1021680000   NaN   \n",
              "1                                      Five Stars      1418256000   NaN   \n",
              "2                              Tourism as history      1136505600   NaN   \n",
              "3                    Compelling, twisting mystery      1417996800   NaN   \n",
              "4                            Tony missed the mark      1393804800   NaN   \n",
              "5     A COMPLEX , SUSPENSEFUL PLOT, BUT . . . . .      1087862400   NaN   \n",
              "6                                 A good mystery.      1074643200   NaN   \n",
              "7  Easily Hillerman's worst -- very disappointing      1055203200   NaN   \n",
              "8                             Classics never die.      1513555200   NaN   \n",
              "9                                      Five Stars      1504656000   NaN   \n",
              "\n",
              "                                tokenized_reviewText  \\\n",
              "0  [Dr., Seuss, has, some, really, brilliant, boo...   \n",
              "1                                         [Love, it]   \n",
              "2  [Hand-woven, carpets, are, one, of, the, few, ...   \n",
              "3  [Compelling, ,, twisting, mystery, involving, ...   \n",
              "4  [I, have, read, many, of, the, Hillerman, book...   \n",
              "5  [I, ,, like, many, of, the, other, reviewers, ...   \n",
              "6  [I, had, the, CD, read, by, George, Guidall, w...   \n",
              "7  [I, am, a, huge, Tony, Hillerman, fan, --, I, ...   \n",
              "8                  [We, all, love, the, classics, .]   \n",
              "9                                      [I, love, it]   \n",
              "\n",
              "                                  pos_tag_reviewText  \n",
              "0  [book, parent, book, child, amount, repetition...  \n",
              "1                                                 []  \n",
              "2  [rest, world, rest, world, traversal, carpet, ...  \n",
              "3  [mystery, law, author, story, line, love, dial...  \n",
              "4                 [work, story, end, someone, story]  \n",
              "5  [standing, fan, mystery, love, fear, rejection...  \n",
              "6  [CD, job, plot, impression, book, mind, suspen...  \n",
              "7  [fan, book, level, action, place, nothing, res...  \n",
              "8                                                 []  \n",
              "9                                                 []  "
            ]
          },
          "execution_count": 11,
          "metadata": {},
          "output_type": "execute_result"
        }
      ],
      "source": [
        "source_dataset.head(10)"
      ]
    },
    {
      "cell_type": "code",
      "execution_count": null,
      "metadata": {
        "id": "_4SZUjDL1mUa"
      },
      "outputs": [],
      "source": [
        "from sklearn.model_selection import train_test_split\n",
        "from sklearn.feature_extraction.text import CountVectorizer\n",
        "from sklearn.pipeline import Pipeline\n",
        "from sklearn.feature_extraction.text import TfidfVectorizer\n",
        "from sklearn.feature_extraction.text import TfidfTransformer\n",
        "from sklearn.svm import SVC\n",
        "from sklearn.metrics import classification_report\n",
        "\n",
        "X = source_dataset['pos_tag_reviewText'].tolist()\n",
        "y = source_dataset['overall'].values\n",
        "\n",
        "X_train, X_test, y_train, y_test = train_test_split(X, y, test_size=0.33, random_state=42)\n",
        "\n",
        "\n"
      ]
    },
    {
      "cell_type": "code",
      "execution_count": null,
      "metadata": {
        "colab": {
          "base_uri": "https://localhost:8080/"
        },
        "id": "sptwhLqQ-6jz",
        "outputId": "74ada5bc-d3ec-4105-e8ad-a9936683181a"
      },
      "outputs": [
        {
          "name": "stdout",
          "output_type": "stream",
          "text": [
            "              precision    recall  f1-score   support\n",
            "\n",
            "           1       0.00      0.00      0.00         3\n",
            "           2       0.00      0.00      0.00         3\n",
            "           3       0.00      0.00      0.00        10\n",
            "           4       0.00      0.00      0.00        11\n",
            "           5       0.59      1.00      0.74        39\n",
            "\n",
            "    accuracy                           0.59        66\n",
            "   macro avg       0.12      0.20      0.15        66\n",
            "weighted avg       0.35      0.59      0.44        66\n",
            "\n"
          ]
        },
        {
          "name": "stderr",
          "output_type": "stream",
          "text": [
            "/usr/local/lib/python3.7/dist-packages/sklearn/feature_extraction/text.py:401: UserWarning: Your stop_words may be inconsistent with your preprocessing. Tokenizing the stop words generated tokens ['b', 'c', 'd', 'e', 'f', 'g', 'h', 'k', 'l', 'm', 'n', 'o', 'p', 'r', 's', 't', 'u', 'v', 'w', 'x', 'y'] not in stop_words.\n",
            "  % sorted(inconsistent)\n",
            "/usr/local/lib/python3.7/dist-packages/sklearn/metrics/_classification.py:1318: UndefinedMetricWarning: Precision and F-score are ill-defined and being set to 0.0 in labels with no predicted samples. Use `zero_division` parameter to control this behavior.\n",
            "  _warn_prf(average, modifier, msg_start, len(result))\n",
            "/usr/local/lib/python3.7/dist-packages/sklearn/metrics/_classification.py:1318: UndefinedMetricWarning: Precision and F-score are ill-defined and being set to 0.0 in labels with no predicted samples. Use `zero_division` parameter to control this behavior.\n",
            "  _warn_prf(average, modifier, msg_start, len(result))\n",
            "/usr/local/lib/python3.7/dist-packages/sklearn/metrics/_classification.py:1318: UndefinedMetricWarning: Precision and F-score are ill-defined and being set to 0.0 in labels with no predicted samples. Use `zero_division` parameter to control this behavior.\n",
            "  _warn_prf(average, modifier, msg_start, len(result))\n"
          ]
        }
      ],
      "source": [
        "# # create a class to vectorize stemmed text by frequency counts\n",
        "# class StemmedCountVectorizer(CountVectorizer):\n",
        "#     # function to create an analyzer function\n",
        "#     def build_analyzer(self):\n",
        "#         # initialize CountVectorizer and call build_analyzer on it\n",
        "#         analyzer = super(StemmedCountVectorizer, self).build_analyzer()\n",
        "#         # return a function that stems each token of input and counts\n",
        "#         return lambda doc: ([stemmer.stem(w) for w in analyzer(doc)])\n",
        "\n",
        "# create an instance of the StemmedCountVectorizer using English stopwords\n",
        "# stemmed_count_vect = StemmedCountVectorizer(stop_words='english')\n",
        "\n",
        "def identity_tokenizer(text):\n",
        "    return text\n",
        "\n",
        "text_svc_stemmed = Pipeline([('vect', CountVectorizer(tokenizer=identity_tokenizer, stop_words='english', lowercase=False)),\n",
        "                             ('tfidf', TfidfTransformer()),\n",
        "                            #  ('tfidf', TfidfVectorizer()),\n",
        "                             ('svc', SVC())\n",
        "                             ])\n",
        "y_train=y_train.astype('int')\n",
        "y_test=y_test.astype('int')\n",
        "# fit the model to the data\n",
        "text_svc_stemmed = text_svc_stemmed.fit(X_train, y_train)\n",
        "# predict on new data\n",
        "predicted_svc_stemmed = text_svc_stemmed.predict(X_test)\n",
        "\n",
        "# output performace metrics \n",
        "print(classification_report(y_test, predicted_svc_stemmed))"
      ]
    },
    {
      "cell_type": "markdown",
      "source": [
        "# References\n",
        "\n",
        "[1] M. Taranukhin, “Panopto,” Panopto, Jul. 21, 2022. https://dal.hosted.panopto.com/Panopto/Pages/Viewer.aspx?id=7632da06-6dfd-420b-a20e-ae9b0122ef2d (accessed Jul. 27, 2022).\n",
        "\n",
        "[2] “3.4. Validation curves: plotting scores to evaluate models,” scikit-learn, Apr. 18, 2019. https://scikit-learn.org/stable/modules/learning_curve.html (accessed Jul. 27, 2022).\n",
        "\n",
        "[3] “Python | Lemmatization with NLTK,” GeeksforGeeks, Nov. 06, 2018. https://www.geeksforgeeks.org/python-lemmatization-with-nltk/#:~:text=Lemmatization%20is%20the%20process%20of (accessed Jul. 26, 2022).\n",
        "\n",
        "[4] “Stemming and Lemmatization in Python,” www.datacamp.com, Jul. 25, 2016. https://www.datacamp.com/tutorial/stemming-lemmatization-python (accessed Jul. 26, 2022).\n",
        "\n",
        "[5] A. Fardeen, “NLTK Tokenize - Complete Tutorial for Beginners,” MLK - Machine Learning Knowledge, Apr. 06, 2021. https://machinelearningknowledge.ai/nltk-tokenizer-tutorial-with-word_tokenize-sent_tokenize-whitespacetokenizer-wordpuncttokenizer/#:~:text=Character%20tokenization%20is%20the%20process (accessed Jul. 27, 2022).\n",
        "\n",
        "[6] G. Bedi, “Simple guide to Text Classification(NLP) using SVM and Naive Bayes with Python,” Medium, Nov. 09, 2018. https://medium.com/@bedigunjit/simple-guide-to-text-classification-nlp-using-svm-and-naive-bayes-with-python-421db3a72d34 (accessed Jul. 26, 2022).\n",
        "\n",
        "[7] “Python remove stop words from pandas dataframe,” Stack Overflow, May 22, 2018. https://stackoverflow.com/questions/29523254/python-remove-stop-words-from-pandas-dataframe (accessed Jul. 28, 2022).\n",
        "\n",
        "[8] “TF-IDF with Scikit-Learn — Introduction to Cultural Analytics & Python,” melaniewalsh.github.io, Nov. 19, 2017. https://melaniewalsh.github.io/Intro-Cultural-Analytics/05-Text-Analysis/03-TF-IDF-Scikit-Learn.html\n",
        "\n",
        "\n"
      ],
      "metadata": {
        "id": "VYI4Uc7-46Tm"
      }
    }
  ]
}